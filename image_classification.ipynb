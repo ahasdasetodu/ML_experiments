{
 "cells": [
  {
   "cell_type": "code",
   "source": [
    "import torch\n",
    "\n",
    "torch.cuda.is_available()"
   ],
   "metadata": {
    "collapsed": false,
    "ExecuteTime": {
     "end_time": "2025-02-25T14:35:09.881859Z",
     "start_time": "2025-02-25T14:35:07.400794Z"
    }
   },
   "id": "dc2b3c695989a0a1",
   "outputs": [
    {
     "data": {
      "text/plain": [
       "True"
      ]
     },
     "execution_count": 1,
     "metadata": {},
     "output_type": "execute_result"
    }
   ],
   "execution_count": 1
  },
  {
   "cell_type": "code",
   "source": [
    "from torchvision import transforms\n",
    "from torchvision.datasets import VOCSegmentation\n",
    "from torch.utils.data import DataLoader\n",
    "\n",
    "transform = transforms.Compose(\n",
    "    [\n",
    "        transforms.Resize((128,128)),\n",
    "        transforms.ToTensor()\n",
    "    ]\n",
    ")\n",
    "\n",
    "# Load Training Dataset (Train 2012)\n",
    "train_dataset = VOCSegmentation(root='./data', year='2012', image_set='train', transform=transform, target_transform=transform)\n",
    "\n",
    "# Load Test Dataset (Val 2012, since VOC does not have a separate test set)\n",
    "test_dataset = VOCSegmentation(root='./data', year='2012', image_set='val', transform=transform, target_transform=transform)\n",
    "\n",
    "# Create DataLoaders\n",
    "train_loader = DataLoader(train_dataset, batch_size=8, shuffle=True, num_workers=2)\n",
    "test_loader = DataLoader(test_dataset, batch_size=8, shuffle=False, num_workers=2)"
   ],
   "metadata": {
    "collapsed": false,
    "ExecuteTime": {
     "end_time": "2025-02-25T14:35:11.591626Z",
     "start_time": "2025-02-25T14:35:09.989871Z"
    }
   },
   "id": "4a6ef22668540e4",
   "outputs": [],
   "execution_count": 2
  },
  {
   "cell_type": "code",
   "source": [
    "import torch.nn as nn\n",
    "import torch.nn.functional as F\n",
    "\n",
    "class UNet(nn.Module):\n",
    "    def __init__(self, in_channels=3, out_channels=21):\n",
    "        super(UNet, self).__init__()\n",
    "\n",
    "        # Encoder (Downsampling)\n",
    "        self.enc1 = self.conv_block(in_channels, 32)\n",
    "        self.enc2 = self.conv_block(32, 64)\n",
    "        self.enc3 = self.conv_block(64, 128)\n",
    "        self.enc4 = self.conv_block(128,256)\n",
    "\n",
    "        # Bottleneck\n",
    "        self.bottleneck = self.conv_block(256, 512)\n",
    "\n",
    "        # Decoder (Upsampling)\n",
    "        self.up4 = self.up_sample(512,256)\n",
    "        self.up_conv4 = self.conv_block(512,256)\n",
    "        self.up3 = self.up_sample(256,128)\n",
    "        self.up_conv3 = self.conv_block(256, 128)\n",
    "        self.up2 = self.up_sample(128, 64)\n",
    "        self.up_conv2 = self.conv_block(128,64)\n",
    "        self.up1 = self.up_sample(64, 32)\n",
    "        self.up_conv1 = self.conv_block(64,32)\n",
    "\n",
    "        # Final Output Layer\n",
    "        self.final_conv = nn.Conv2d(32, out_channels, kernel_size=1)\n",
    "\n",
    "    def conv_block(self, in_channels, out_channels):\n",
    "        \"\"\"Convolutional block: 2 conv layers + ReLU\"\"\"\n",
    "        return nn.Sequential(\n",
    "            nn.Conv2d(in_channels, out_channels, kernel_size=3, padding=1),\n",
    "            nn.BatchNorm2d(out_channels),\n",
    "            nn.ReLU(),\n",
    "            nn.Conv2d(out_channels, out_channels, kernel_size=3, padding=1),\n",
    "            nn.BatchNorm2d(out_channels),\n",
    "            nn.ReLU()\n",
    "        )\n",
    "\n",
    "    def up_sample(self, in_channels, out_channels):\n",
    "        \"\"\"Upsampling + Convolution\"\"\"\n",
    "        return nn.Sequential(\n",
    "            nn.ConvTranspose2d(in_channels, out_channels, kernel_size=2, stride=2),\n",
    "        )\n",
    "\n",
    "    def forward(self, x):\n",
    "        # Encoder\n",
    "        e1 = self.enc1(x)\n",
    "        e2 = self.enc2(F.max_pool2d(e1, kernel_size=2, stride=2))\n",
    "        e3 = self.enc3(F.max_pool2d(e2, kernel_size=2, stride=2))\n",
    "        e4 = self.enc4(F.max_pool2d(e3, kernel_size=2, stride=2))\n",
    "\n",
    "        # Bottleneck\n",
    "        b = self.bottleneck(F.max_pool2d(e4, kernel_size=2, stride=2))\n",
    "\n",
    "        # Decoder with Skip Connections\n",
    "        d4 = self.up4(b)  # upsample\n",
    "        d4 = torch.cat([d4,e4],dim=1) #skip connection\n",
    "        d4 = self.up_conv4(d4) #convolution\n",
    "        d3 = self.up3(d4)  # upsample\n",
    "        d3 = torch.cat([d3,e3],dim=1) #skip connection\n",
    "        d3 = self.up_conv3(d3) #convolution\n",
    "        d2 = self.up2(d3)  # upsample\n",
    "        d2 = torch.cat([d2,e2],dim=1) #skip connection\n",
    "        d2 = self.up_conv2(d2) #convolution\n",
    "        d1 = self.up1(d2)  # upsample\n",
    "        d1 = torch.cat([d1,e1],dim=1) #skip connection\n",
    "        d1 = self.up_conv1(d1) #convolution\n",
    "\n",
    "        # Final output layer\n",
    "        return self.final_conv(d1)\n",
    "    \n",
    "    "
   ],
   "metadata": {
    "collapsed": false,
    "ExecuteTime": {
     "end_time": "2025-02-25T14:35:11.773217Z",
     "start_time": "2025-02-25T14:35:11.763172Z"
    }
   },
   "id": "57b0a2196b1769c2",
   "outputs": [],
   "execution_count": 3
  },
  {
   "cell_type": "code",
   "source": [
    "device = torch.device(\"cuda\" if torch.cuda.is_available() else \"cpu\")\n",
    "\n",
    "# Initialize Model\n",
    "model = UNet(in_channels=3, out_channels=21).to(device)  # 21 classes for Pascal VOC\n",
    "\n",
    "# Loss and Optimizer\n",
    "weights = torch.tensor([0.5] + [1.0] * 20).to(device) \n",
    "criterion = nn.CrossEntropyLoss(weight=weights)  # Use CrossEntropyLoss for multi-class segmentation\n",
    "optimizer = torch.optim.Adam(model.parameters(), lr=0.0005)\n",
    "\n",
    "# Training Loop\n",
    "num_epochs = 1\n",
    "for epoch in range(num_epochs):\n",
    "    model.train()\n",
    "    epoch_loss = 0\n",
    "\n",
    "    for images, masks in train_loader:\n",
    "        images, masks = images.to(device), masks.to(device, dtype=torch.long)  # Convert masks to long type\n",
    "\n",
    "        optimizer.zero_grad()\n",
    "        outputs = model(images)\n",
    "        loss = criterion(outputs, masks.squeeze(1))  # Squeeze to match shape\n",
    "        loss.backward()\n",
    "        optimizer.step()\n",
    "        epoch_loss += loss.item()\n",
    "\n",
    "    print(f\"Epoch {epoch+1}/{num_epochs}, Loss: {epoch_loss/len(train_loader):.4f}\")"
   ],
   "metadata": {
    "collapsed": false,
    "ExecuteTime": {
     "end_time": "2025-02-25T14:35:30.780614Z",
     "start_time": "2025-02-25T14:35:11.792124Z"
    }
   },
   "id": "a4bb83b54ba7f0b6",
   "outputs": [
    {
     "name": "stdout",
     "output_type": "stream",
     "text": [
      "Epoch 1/1, Loss: 1.9242\n"
     ]
    }
   ],
   "execution_count": 4
  },
  {
   "cell_type": "code",
   "source": [
    "%matplotlib inline\n",
    "import matplotlib.pyplot as plt\n",
    "\n",
    "\n",
    "model.eval()\n",
    "with torch.no_grad():\n",
    "    images, masks = next(iter(test_loader))\n",
    "    images, masks = images.to(device), masks.to(device, dtype=torch.long)\n",
    "    \n",
    "    outputs = model(images)\n",
    "    predicted_masks = torch.argmax(outputs, dim=1)\n",
    "     \n",
    "    # Convert to numpy for visualization\n",
    "    images_np = images.cpu().permute(0, 2, 3, 1).numpy()\n",
    "    masks_np = masks.squeeze(1).cpu().numpy()\n",
    "    preds_np = predicted_masks.cpu().numpy()\n",
    "    # Plot sample image, ground truth mask, and predicted mask\n",
    "    fig, axes = plt.subplots(3, 4, figsize=(12, 9))\n",
    "    for i in range(4):  # Show 4 samples\n",
    "        axes[0, i].imshow(images_np[i])\n",
    "        axes[0, i].set_title(\"Image\")\n",
    "        axes[1, i].imshow(masks_np[i], cmap=\"tab10\")\n",
    "        axes[1, i].set_title(\"Ground Truth\")\n",
    "        axes[2, i].imshow(preds_np[i], cmap=\"tab10\")\n",
    "        axes[2, i].set_title(\"Predicted Mask\")\n",
    "    \n",
    "    plt.show()\n",
    "print('hi')"
   ],
   "metadata": {
    "collapsed": false,
    "jupyter": {
     "is_executing": true
    },
    "ExecuteTime": {
     "start_time": "2025-02-25T14:35:31.031606Z"
    }
   },
   "id": "ed15e7509210f85e",
   "outputs": [],
   "execution_count": null
  },
  {
   "metadata": {},
   "cell_type": "code",
   "outputs": [],
   "execution_count": null,
   "source": "",
   "id": "b3849675a6b27112"
  }
 ],
 "metadata": {
  "kernelspec": {
   "display_name": "Python 3",
   "language": "python",
   "name": "python3"
  },
  "language_info": {
   "codemirror_mode": {
    "name": "ipython",
    "version": 2
   },
   "file_extension": ".py",
   "mimetype": "text/x-python",
   "name": "python",
   "nbconvert_exporter": "python",
   "pygments_lexer": "ipython2",
   "version": "2.7.6"
  }
 },
 "nbformat": 4,
 "nbformat_minor": 5
}
