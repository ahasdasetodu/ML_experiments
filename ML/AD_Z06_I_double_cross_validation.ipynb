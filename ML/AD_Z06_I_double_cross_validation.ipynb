{
 "cells": [
  {
   "cell_type": "markdown",
   "metadata": {
    "collapsed": true,
    "jupyter": {
     "outputs_hidden": true
    }
   },
   "source": [
    "# Regresja"
   ]
  },
  {
   "cell_type": "code",
   "metadata": {
    "ExecuteTime": {
     "end_time": "2025-04-14T19:36:23.829734Z",
     "start_time": "2025-04-14T19:36:06.090842Z"
    }
   },
   "source": [
    "import numpy as np\n",
    "import matplotlib.pyplot as plt\n",
    "from sklearn import datasets\n",
    "from sklearn.model_selection import cross_val_predict\n",
    "from sklearn import linear_model\n",
    "import matplotlib.pyplot as plt\n",
    "import pandas as pd"
   ],
   "outputs": [],
   "execution_count": 1
  },
  {
   "cell_type": "markdown",
   "metadata": {},
   "source": [
    "Rozważmy zbiór Boston"
   ]
  },
  {
   "cell_type": "code",
   "metadata": {
    "ExecuteTime": {
     "end_time": "2025-04-14T19:36:25.750057Z",
     "start_time": "2025-04-14T19:36:23.873356Z"
    }
   },
   "source": [
    "data_url = \"http://lib.stat.cmu.edu/datasets/boston\"\n",
    "boston = pd.read_csv(data_url, sep=\"\\s+\", skiprows=22, header=None)"
   ],
   "outputs": [],
   "execution_count": 2
  },
  {
   "cell_type": "code",
   "metadata": {
    "ExecuteTime": {
     "end_time": "2025-04-14T19:36:26.634454Z",
     "start_time": "2025-04-14T19:36:26.621751Z"
    }
   },
   "source": [
    "# get the data\n",
    "boston_X = np.hstack([boston.values[::2, :], boston.values[1::2, :2]])\n",
    "boston_Y = boston.values[1::2, 2]"
   ],
   "outputs": [],
   "execution_count": 3
  },
  {
   "cell_type": "code",
   "metadata": {
    "ExecuteTime": {
     "end_time": "2025-04-14T19:36:26.665101Z",
     "start_time": "2025-04-14T19:36:26.652102Z"
    }
   },
   "source": [
    "X=boston_X\n",
    "y=boston_Y"
   ],
   "outputs": [],
   "execution_count": 4
  },
  {
   "cell_type": "markdown",
   "metadata": {},
   "source": [
    "# Zadanie\n",
    "Znajdż najleprzy model za pomocą podwujną cross-validation (nested cross-validation, double cross-validation) .\n"
   ]
  },
  {
   "cell_type": "code",
   "metadata": {
    "ExecuteTime": {
     "end_time": "2025-04-14T19:41:08.930301Z",
     "start_time": "2025-04-14T19:41:08.875837Z"
    }
   },
   "source": [
    "from sklearn.model_selection import GridSearchCV\n",
    "from sklearn import linear_model\n",
    "from sklearn.preprocessing import PolynomialFeatures\n",
    "from sklearn.linear_model import Ridge\n",
    "from sklearn.linear_model import Lasso\n",
    "from sklearn.linear_model import ElasticNet\n",
    "from sklearn.pipeline import make_pipeline\n",
    "from sklearn import model_selection\n",
    "from sklearn.model_selection import cross_val_score\n",
    "\n",
    "seed=123\n",
    "kfold = model_selection.KFold(n_splits=5, shuffle=True, random_state=seed)\n",
    "kfold1 = model_selection.KFold(n_splits=5, shuffle=True, random_state=seed)"
   ],
   "outputs": [],
   "execution_count": 6
  },
  {
   "cell_type": "code",
   "metadata": {
    "ExecuteTime": {
     "end_time": "2025-04-14T19:43:02.071341Z",
     "start_time": "2025-04-14T19:43:00.566876Z"
    }
   },
   "source": [
    "grid_1 = GridSearchCV(estimator=make_pipeline(PolynomialFeatures(degree=2), ElasticNet(alpha=1, tol=0.1)),\n",
    "                      param_grid={'polynomialfeatures__degree': [1, 2, 3, 4],\n",
    "                      'elasticnet__alpha': [1., 2., 3.]},\n",
    "                      scoring='r2',\n",
    "                      cv=kfold, \n",
    "                      n_jobs=-1)\n",
    "scores_1 = cross_val_score(grid_1, X, y, scoring='r2', cv=5)\n",
    "print('CV ElasticNet R2: %.3f +/- %.3f' % (np.mean(scores_1), np.std(scores_1)))"
   ],
   "outputs": [
    {
     "name": "stdout",
     "output_type": "stream",
     "text": [
      "CV ElasticNet R2: -0.297 +/- 1.530\n"
     ]
    }
   ],
   "execution_count": 15
  },
  {
   "cell_type": "code",
   "metadata": {
    "ExecuteTime": {
     "end_time": "2025-04-14T19:43:03.452571Z",
     "start_time": "2025-04-14T19:43:02.094710Z"
    }
   },
   "source": [
    "grid_2 = GridSearchCV(estimator=make_pipeline(PolynomialFeatures(degree=2), Lasso(alpha=1, tol=0.1)),\n",
    "                      param_grid={'polynomialfeatures__degree': [1, 2, 3, 4],\n",
    "                      'lasso__alpha': [1., 2., 3.]},\n",
    "                      scoring='r2',\n",
    "                      cv=kfold, \n",
    "                      n_jobs=-1)\n",
    "scores_2 = cross_val_score(grid_2, X, y, scoring='r2', cv=5)\n",
    "print('CV Lasso R2: %.3f +/- %.3f' % (np.mean(scores_2), np.std(scores_2)))"
   ],
   "outputs": [
    {
     "name": "stdout",
     "output_type": "stream",
     "text": [
      "CV Lasso R2: 0.340 +/- 0.452\n"
     ]
    }
   ],
   "execution_count": 16
  },
  {
   "cell_type": "code",
   "metadata": {
    "ExecuteTime": {
     "end_time": "2025-04-14T19:43:05.337767Z",
     "start_time": "2025-04-14T19:43:03.538466Z"
    }
   },
   "source": [
    "grid_3 = GridSearchCV(estimator=make_pipeline(PolynomialFeatures(degree=2), Ridge(alpha=1, tol=0.1)),\n",
    "                      param_grid={'polynomialfeatures__degree': [1, 2, 3, 4],\n",
    "                      'ridge__alpha': [1., 2., 3.]},\n",
    "                      scoring='r2',\n",
    "                      cv=kfold, \n",
    "                      n_jobs=-1)\n",
    "scores_3 = cross_val_score(grid_3, X, y, scoring='r2', cv=5)\n",
    "print('CV ridge R2: %.3f +/- %.3f' % (np.mean(scores_3), np.std(scores_3)))"
   ],
   "outputs": [
    {
     "name": "stdout",
     "output_type": "stream",
     "text": [
      "CV ridge R2: 0.204 +/- 0.208\n"
     ]
    }
   ],
   "execution_count": 17
  },
  {
   "cell_type": "code",
   "metadata": {
    "ExecuteTime": {
     "end_time": "2025-04-14T19:43:07.021337Z",
     "start_time": "2025-04-14T19:43:05.417026Z"
    }
   },
   "source": [
    "grid_4 = GridSearchCV(estimator=make_pipeline(PolynomialFeatures(degree=2), linear_model.LinearRegression()),\n",
    "                      param_grid={'polynomialfeatures__degree': [1, 2, 3, 4]},\n",
    "                      scoring='r2',\n",
    "                      cv=kfold, \n",
    "                      n_jobs=-1)\n",
    "scores_4 = cross_val_score(grid_4, X, y, scoring='r2', cv=5)\n",
    "print('CV LR R2: %.3f +/- %.3f' % (np.mean(scores_4), np.std(scores_4)))"
   ],
   "outputs": [
    {
     "name": "stdout",
     "output_type": "stream",
     "text": [
      "CV LR R2: -0.303 +/- 1.007\n"
     ]
    }
   ],
   "execution_count": 18
  },
  {
   "cell_type": "markdown",
   "metadata": {
    "collapsed": true,
    "jupyter": {
     "outputs_hidden": true
    }
   },
   "source": [
    "# Zad\n",
    "Zwizualizuj wyniki."
   ]
  },
  {
   "cell_type": "code",
   "metadata": {
    "ExecuteTime": {
     "end_time": "2025-04-14T19:43:09.129868Z",
     "start_time": "2025-04-14T19:43:09.118548Z"
    }
   },
   "source": [
    "dict = {'Method' : ['ElasticNet', 'Lasso', 'Ridge', 'LinearRegression'],\n",
    "        'Mean r2': [scores_1.mean(), scores_2.mean(), scores_3.mean(), scores_4.mean()],\n",
    "        'Variation r2': [scores_1.std(), scores_2.std(), scores_3.std(), scores_4.std()]}\n",
    "\n",
    "dataframe = pd.DataFrame(dict)\n",
    "dataframe.head()"
   ],
   "outputs": [
    {
     "data": {
      "text/plain": [
       "             Method   Mean r2  Variation r2\n",
       "0        ElasticNet -0.297193      1.530144\n",
       "1             Lasso  0.339686      0.452423\n",
       "2             Ridge  0.204405      0.208354\n",
       "3  LinearRegression -0.302868      1.007228"
      ],
      "text/html": [
       "<div>\n",
       "<style scoped>\n",
       "    .dataframe tbody tr th:only-of-type {\n",
       "        vertical-align: middle;\n",
       "    }\n",
       "\n",
       "    .dataframe tbody tr th {\n",
       "        vertical-align: top;\n",
       "    }\n",
       "\n",
       "    .dataframe thead th {\n",
       "        text-align: right;\n",
       "    }\n",
       "</style>\n",
       "<table border=\"1\" class=\"dataframe\">\n",
       "  <thead>\n",
       "    <tr style=\"text-align: right;\">\n",
       "      <th></th>\n",
       "      <th>Method</th>\n",
       "      <th>Mean r2</th>\n",
       "      <th>Variation r2</th>\n",
       "    </tr>\n",
       "  </thead>\n",
       "  <tbody>\n",
       "    <tr>\n",
       "      <th>0</th>\n",
       "      <td>ElasticNet</td>\n",
       "      <td>-0.297193</td>\n",
       "      <td>1.530144</td>\n",
       "    </tr>\n",
       "    <tr>\n",
       "      <th>1</th>\n",
       "      <td>Lasso</td>\n",
       "      <td>0.339686</td>\n",
       "      <td>0.452423</td>\n",
       "    </tr>\n",
       "    <tr>\n",
       "      <th>2</th>\n",
       "      <td>Ridge</td>\n",
       "      <td>0.204405</td>\n",
       "      <td>0.208354</td>\n",
       "    </tr>\n",
       "    <tr>\n",
       "      <th>3</th>\n",
       "      <td>LinearRegression</td>\n",
       "      <td>-0.302868</td>\n",
       "      <td>1.007228</td>\n",
       "    </tr>\n",
       "  </tbody>\n",
       "</table>\n",
       "</div>"
      ]
     },
     "execution_count": 19,
     "metadata": {},
     "output_type": "execute_result"
    }
   ],
   "execution_count": 19
  },
  {
   "cell_type": "code",
   "execution_count": null,
   "metadata": {
    "collapsed": true,
    "jupyter": {
     "outputs_hidden": true
    }
   },
   "outputs": [],
   "source": []
  }
 ],
 "metadata": {
  "kernelspec": {
   "display_name": "Python 3 (ipykernel)",
   "language": "python",
   "name": "python3"
  },
  "language_info": {
   "codemirror_mode": {
    "name": "ipython",
    "version": 3
   },
   "file_extension": ".py",
   "mimetype": "text/x-python",
   "name": "python",
   "nbconvert_exporter": "python",
   "pygments_lexer": "ipython3",
   "version": "3.10.13"
  }
 },
 "nbformat": 4,
 "nbformat_minor": 4
}
