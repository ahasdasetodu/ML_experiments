{
 "cells": [
  {
   "cell_type": "code",
   "id": "initial_id",
   "metadata": {
    "collapsed": true,
    "ExecuteTime": {
     "end_time": "2025-03-06T21:42:21.107896Z",
     "start_time": "2025-03-06T21:42:18.210948Z"
    }
   },
   "source": [
    "import torchvision.datasets as datasets\n",
    "import torchvision.transforms as transforms\n",
    "import torch.utils.data as data\n",
    "\n",
    "train_transform =transforms.Compose([\n",
    "    transforms.Resize((32,32)),\n",
    "    transforms.ToTensor(),\n",
    "    transforms.Normalize((0.5, ), (0.5,))\n",
    "])\n",
    "\n",
    "train_dataset = datasets.FashionMNIST(root='./data', train=True, transform=train_transform, download=True)\n",
    "test_dataset = datasets.FashionMNIST(root='./data', train=False, transform=transforms.ToTensor(), download=True)\n",
    "train_loader = data.DataLoader(dataset=train_dataset, batch_size=64, shuffle=True)\n",
    "test_loader = data.DataLoader(dataset=test_dataset, batch_size=64, shuffle=False)"
   ],
   "outputs": [
    {
     "name": "stderr",
     "output_type": "stream",
     "text": [
      "100.0%\n",
      "100.0%\n",
      "100.0%\n",
      "100.0%\n"
     ]
    }
   ],
   "execution_count": 29
  },
  {
   "metadata": {
    "ExecuteTime": {
     "end_time": "2025-03-06T21:42:22.175975Z",
     "start_time": "2025-03-06T21:42:22.150521Z"
    }
   },
   "cell_type": "code",
   "source": [
    "import torch\n",
    "import torch.nn as nn\n",
    "import torch.nn.functional as F\n",
    "\n",
    "import math\n",
    "\n",
    "class SinusoidalPositionEmbedBlock(nn.Module):\n",
    "    def __init__(self, dim):\n",
    "        super().__init__()\n",
    "        self.dim = dim\n",
    "\n",
    "    def forward(self, time):\n",
    "        device = time.device\n",
    "        half_dim = self.dim // 2\n",
    "        embeddings = math.log(10000) / (half_dim - 1)\n",
    "        embeddings = torch.exp(torch.arange(half_dim, device=device) * -embeddings)\n",
    "        embeddings = time[:, None] * embeddings[None, :]\n",
    "        embeddings = torch.cat((embeddings.sin(), embeddings.cos()), dim=-1)\n",
    "        return embeddings\n",
    "    \n",
    "class UNet(nn.Module):\n",
    "    def __init__(self, in_channels=1, out_channels=1, base_size = 64):\n",
    "        super(UNet, self).__init__()\n",
    "        t_dim = 8\n",
    "        # Encoder (Downsampling)\n",
    "        self.enc1 = self.conv_block(in_channels, base_size)\n",
    "        self.enc2 = self.conv_block(base_size, 2*base_size)\n",
    "        self.enc3 = self.conv_block(2*base_size, 4*base_size)\n",
    "\n",
    "        # Bottleneck\n",
    "        self.bottleneck = self.conv_block(4*base_size, 8*base_size)\n",
    "        self.sinusoidal_time = SinusoidalPositionEmbedBlock(t_dim)\n",
    "        self.embedding_1 = nn.Sequential(\n",
    "            nn.Linear(t_dim, 2*base_size),\n",
    "            nn.GELU(),\n",
    "            nn.Linear(2*base_size, 2*base_size),\n",
    "            nn.GELU(),\n",
    "        )\n",
    "        self.embedding_2 = nn.Sequential(\n",
    "            nn.Linear(t_dim, 4*base_size),\n",
    "            nn.GELU(),\n",
    "            nn.Linear(4*base_size, 4*base_size),\n",
    "            nn.GELU(),\n",
    "        )\n",
    "        # Decoder (Upsampling)\n",
    "        self.up3 = self.up_sample(8*base_size,4*base_size)\n",
    "        self.up_conv3 = self.conv_block(8*base_size, 4*base_size)\n",
    "        self.up2 = self.up_sample(4*base_size, 2*base_size)\n",
    "        self.up_conv2 = self.conv_block(4*base_size,2*base_size)\n",
    "        self.up1 = self.up_sample(2*base_size,base_size)\n",
    "        self.up_conv1 = self.conv_block(2*base_size, base_size)\n",
    "\n",
    "        # Final Output Layer\n",
    "        self.final_conv = nn.Conv2d(base_size, out_channels, kernel_size=1)\n",
    "\n",
    "    def conv_block(self, in_channels, out_channels):\n",
    "        \"\"\"Convolutional block: 2 conv layers + ReLU\"\"\"\n",
    "        return nn.Sequential(\n",
    "            nn.Conv2d(in_channels, out_channels, kernel_size=3, padding=1),\n",
    "            nn.BatchNorm2d(out_channels),  # Batch normalization\n",
    "            nn.GELU(),\n",
    "            nn.Conv2d(out_channels, out_channels, kernel_size=3, padding=1),                \n",
    "            nn.BatchNorm2d(out_channels),  # Batch normalization\n",
    "            nn.GELU()\n",
    "        )\n",
    "\n",
    "    def up_sample(self, in_channels, out_channels):\n",
    "        \"\"\"Upsampling + Convolution\"\"\"\n",
    "        return nn.Sequential(\n",
    "            nn.ConvTranspose2d(in_channels, out_channels, kernel_size=2, stride=2),\n",
    "        )\n",
    "\n",
    "    def forward(self, x,t):\n",
    "        # Encoder\n",
    "        e1 = self.enc1(x)\n",
    "        e2 = self.enc2(F.max_pool2d(e1, kernel_size=2, stride=2))\n",
    "        e3 = self.enc3(F.max_pool2d(e2, kernel_size=2, stride=2))\n",
    "\n",
    "        # Bottleneck\n",
    "        b = self.bottleneck(F.max_pool2d(e3, kernel_size=2, stride=2))\n",
    "        t = self.sinusoidal_time(t)\n",
    "        temb1 = (self.embedding_1(t))\n",
    "        temb1 = temb1.view(temb1.shape[0], temb1.shape[1], 1, 1)\n",
    "        temb2 = self.embedding_2(t)\n",
    "        temb2 = temb2.view(temb2.shape[0], temb2.shape[1], 1, 1)\n",
    "        # Decoder with Skip Connections\n",
    "        d3 = self.up3(b)  # upsample\n",
    "        d3 = torch.cat([d3,e3],dim=1) #skip connection\n",
    "        d3 = self.up_conv3(d3) #convolution\n",
    "        d2 = self.up2(d3+temb2)  # upsample\n",
    "        d2 = torch.cat([d2,e2],dim=1) #skip connection\n",
    "        d2 = self.up_conv2(d2) #convolution\n",
    "        d1 = self.up1(d2+temb1)  # upsample\n",
    "        d1 = torch.cat([d1,e1],dim=1) #skip connection\n",
    "        d1 = self.up_conv1(d1) #convolution\n",
    "\n",
    "        # Final output layer\n",
    "        \n",
    "        return self.final_conv(d1)\n",
    "    \n",
    "    "
   ],
   "id": "b3226350cbd183ad",
   "outputs": [],
   "execution_count": 30
  },
  {
   "metadata": {
    "ExecuteTime": {
     "end_time": "2025-03-06T22:07:45.417920Z",
     "start_time": "2025-03-06T22:07:45.410917Z"
    }
   },
   "cell_type": "code",
   "source": [
    "class Diffusion(nn.Module):\n",
    "    def __init__(self, timesteps=1000, img_size=32):\n",
    "        super(Diffusion, self).__init__()\n",
    "        self.timesteps = timesteps\n",
    "        self.img_size = img_size\n",
    "        self.betas = (torch.linspace(0.0001**0.5, 0.02**0.5, timesteps) ** 2).to(device)\n",
    "        self.alphas = 1 - self.betas\n",
    "        self.alphas_cumprod = torch.cumprod(self.alphas,dim=0)\n",
    "        self.sqrt_alphas_cumprod = torch.sqrt(self.alphas_cumprod)\n",
    "        self.sqrt_one_minus_alphas_cumprod = torch.sqrt(1.0 - self.alphas_cumprod)\n",
    "    def forward(self, x_0, t, noise = None):\n",
    "        if noise is None:\n",
    "            noise = torch.randn_like(x_0)\n",
    "        sqrt_alpha_cumprod_t = self.sqrt_alphas_cumprod[t].reshape(-1, 1, 1, 1)\n",
    "        sqrt_one_minus_alpha_cumprod_t = self.sqrt_one_minus_alphas_cumprod[t].reshape(-1, 1, 1, 1)\n",
    "        return sqrt_alpha_cumprod_t * x_0 + sqrt_one_minus_alpha_cumprod_t * noise, noise\n",
    "        "
   ],
   "id": "4d6eba8c4ea8c874",
   "outputs": [],
   "execution_count": 35
  },
  {
   "metadata": {
    "ExecuteTime": {
     "end_time": "2025-03-06T22:13:23.530042Z",
     "start_time": "2025-03-06T22:07:45.585206Z"
    }
   },
   "cell_type": "code",
   "source": [
    "import torch.optim as optim\n",
    "from torch.utils.tensorboard import SummaryWriter\n",
    "\n",
    "\n",
    "import datetime\n",
    "now = datetime.datetime.now().strftime(\"%m_%d-%H_%M_%S\")\n",
    "\n",
    "writter = SummaryWriter(log_dir=f'runs/diffusion/{now}')\n",
    "\n",
    "device = torch.device('cuda' if torch.cuda.is_available() else 'cpu')\n",
    "\n",
    "model = UNet().to(device)\n",
    "diffusion = Diffusion().to(device)\n",
    "optimizer = optim.Adam(model.parameters(), lr=1e-4)\n",
    "num_epochs = 5\n",
    "\n",
    "for epoch in range(num_epochs):\n",
    "    total_loss = 0\n",
    "    for batch_idx, (images, _) in enumerate(train_loader):\n",
    "        images = images.to(device)\n",
    "        optimizer.zero_grad()\n",
    "        t = torch.randint(0, diffusion.timesteps, (images.shape[0],), device=device).long()\n",
    "        x_t, noise = diffusion(images, t)\n",
    "        predicted_noise = model(x_t,t)\n",
    "\n",
    "        loss = F.mse_loss(predicted_noise, noise)\n",
    "        writter.add_scalar(\"Loss/train\",loss, batch_idx + len(train_loader) * epoch)\n",
    "        \n",
    "        loss.backward()\n",
    "        optimizer.step()\n",
    "        total_loss += loss.item()\n",
    "    writter.flush()\n",
    "    print(f\"Epoch {epoch+1}: Loss {total_loss/len(train_loader)}\")\n",
    "    writter.close()"
   ],
   "id": "7b0f35fd94e73037",
   "outputs": [
    {
     "name": "stdout",
     "output_type": "stream",
     "text": [
      "Epoch 1: Loss 0.1064039142305917\n",
      "Epoch 2: Loss 0.06646894409394721\n",
      "Epoch 3: Loss 0.05902246085962634\n",
      "Epoch 4: Loss 0.056753809943096215\n",
      "Epoch 5: Loss 0.05308526950572599\n"
     ]
    }
   ],
   "execution_count": 36
  },
  {
   "metadata": {
    "ExecuteTime": {
     "end_time": "2025-03-06T22:13:23.561050Z",
     "start_time": "2025-03-06T22:13:23.553043Z"
    }
   },
   "cell_type": "code",
   "source": "",
   "id": "6dd93240d602ea8e",
   "outputs": [],
   "execution_count": null
  },
  {
   "metadata": {
    "ExecuteTime": {
     "end_time": "2025-03-06T22:14:15.366608Z",
     "start_time": "2025-03-06T22:14:08.512564Z"
    }
   },
   "cell_type": "code",
   "source": [
    "\n",
    "import matplotlib.pyplot as plt\n",
    "\n",
    "@torch.no_grad()\n",
    "def sample(model, diffusion, num_samples=16):\n",
    "    model.eval()\n",
    "    x_t = torch.randn((num_samples, 1, 32, 32), device=device)\n",
    "    \n",
    "    for t in reversed(range(diffusion.timesteps)):\n",
    "        t_tensor = torch.full((num_samples,), t, device=device, dtype=torch.long)\n",
    "        predicted_noise = model(x_t,t_tensor)\n",
    "        \n",
    "        # Compute the mean of p(x_{t-1} | x_t)\n",
    "        alpha_t = diffusion.alphas[t_tensor].reshape(-1, 1, 1, 1)\n",
    "        alpha_cumprod_t = diffusion.alphas_cumprod[t_tensor].reshape(-1, 1, 1, 1)\n",
    "        mean = (1 / torch.sqrt(alpha_t)) * (x_t - (1 - alpha_t) / torch.sqrt(1 - alpha_cumprod_t) * predicted_noise)\n",
    "\n",
    "        if t > 0:\n",
    "            z = torch.randn_like(x_t)\n",
    "            sigma_t = torch.sqrt(diffusion.betas[t_tensor]).reshape(-1, 1, 1, 1)\n",
    "            x_t = mean + sigma_t * z\n",
    "        else:\n",
    "            x_t = mean\n",
    "\n",
    "    return x_t\n",
    "\n",
    "# Generate and visualize samples\n",
    "samples = sample(model, diffusion)\n",
    "samples = samples.cpu().numpy().squeeze()\n",
    "\n",
    "fig, axs = plt.subplots(4, 4, figsize=(8, 8))\n",
    "for i, ax in enumerate(axs.flatten()):\n",
    "    ax.imshow(samples[i], cmap=\"gray\")\n",
    "    ax.axis(\"off\")\n",
    "plt.show()"
   ],
   "id": "60d12f71561ae1ea",
   "outputs": [
    {
     "data": {
      "text/plain": [
       "<Figure size 800x800 with 16 Axes>"
      ],
      "image/png": "[encoded data removed]"
     },
     "metadata": {},
     "output_type": "display_data"
    }
   ],
   "execution_count": 37
  },
  {
   "metadata": {
    "ExecuteTime": {
     "end_time": "2025-03-06T19:32:50.092312900Z",
     "start_time": "2025-03-05T19:07:38.776049Z"
    }
   },
   "cell_type": "code",
   "source": "",
   "id": "d77c802d17abc52f",
   "outputs": [],
   "execution_count": null
  }
 ],
 "metadata": {
  "kernelspec": {
   "display_name": "Python 3",
   "language": "python",
   "name": "python3"
  },
  "language_info": {
   "codemirror_mode": {
    "name": "ipython",
    "version": 2
   },
   "file_extension": ".py",
   "mimetype": "text/x-python",
   "name": "python",
   "nbconvert_exporter": "python",
   "pygments_lexer": "ipython2",
   "version": "2.7.6"
  }
 },
 "nbformat": 4,
 "nbformat_minor": 5
}
