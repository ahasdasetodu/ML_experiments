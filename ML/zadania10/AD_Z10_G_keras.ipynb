{
 "cells": [
  {
   "cell_type": "code",
   "metadata": {
    "ExecuteTime": {
     "end_time": "2025-05-19T21:10:22.119232Z",
     "start_time": "2025-05-19T21:10:16.460884Z"
    }
   },
   "source": [
    "import tensorflow as tf\n",
    "import keras\n",
    "print(tf.__version__)"
   ],
   "outputs": [
    {
     "name": "stdout",
     "output_type": "stream",
     "text": [
      "2.19.0\n"
     ]
    }
   ],
   "execution_count": 2
  },
  {
   "cell_type": "code",
   "metadata": {
    "ExecuteTime": {
     "end_time": "2025-05-19T21:10:22.150230Z",
     "start_time": "2025-05-19T21:10:22.134234Z"
    }
   },
   "source": [
    "import numpy as np\n",
    "import pandas as pd\n",
    "import matplotlib.pyplot as plt\n",
    "import os"
   ],
   "outputs": [],
   "execution_count": 3
  },
  {
   "cell_type": "code",
   "metadata": {
    "ExecuteTime": {
     "end_time": "2025-05-19T21:10:28.328231Z",
     "start_time": "2025-05-19T21:10:22.170239Z"
    }
   },
   "source": [
    "# Wczytaj dane treningowe i testowe\n",
    "import numpy as np\n",
    "import matplotlib.pyplot as plt\n",
    "import pandas as pd\n",
    "\n",
    "url_train = 'https://archive.ics.uci.edu/ml/machine-learning-databases/adult/adult.data'\n",
    "url_test = 'https://archive.ics.uci.edu/ml/machine-learning-databases/adult/adult.test'\n",
    "\n",
    "train_set = pd.read_csv(url_train, sep=\", \",header = None)\n",
    "test_set = pd.read_csv(url_test, sep=\", \",skiprows = 1, header = None) # Make sure to skip a row for the test set\n",
    "\n",
    "col_labels = ['age', 'workclass', 'fnlwgt', 'education', 'education_num', 'marital_status', 'occupation', \n",
    "              'relationship', 'race', 'sex', 'capital_gain', 'capital_loss', 'hours_per_week', 'native_country',\n",
    "             'wage_class']\n",
    "train_set.columns = col_labels\n",
    "test_set.columns = col_labels\n",
    "\n",
    "train = train_set.replace('?', np.nan).dropna()\n",
    "test = test_set.replace('?', np.nan).dropna()\n",
    "\n",
    "train_set.head()\n"
   ],
   "outputs": [
    {
     "name": "stderr",
     "output_type": "stream",
     "text": [
      "C:\\Users\\krzys\\AppData\\Local\\Temp\\ipykernel_22700\\1004739913.py:9: ParserWarning: Falling back to the 'python' engine because the 'c' engine does not support regex separators (separators > 1 char and different from '\\s+' are interpreted as regex); you can avoid this warning by specifying engine='python'.\n",
      "  train_set = pd.read_csv(url_train, sep=\", \",header = None)\n",
      "C:\\Users\\krzys\\AppData\\Local\\Temp\\ipykernel_22700\\1004739913.py:10: ParserWarning: Falling back to the 'python' engine because the 'c' engine does not support regex separators (separators > 1 char and different from '\\s+' are interpreted as regex); you can avoid this warning by specifying engine='python'.\n",
      "  test_set = pd.read_csv(url_test, sep=\", \",skiprows = 1, header = None) # Make sure to skip a row for the test set\n"
     ]
    },
    {
     "data": {
      "text/plain": [
       "   age         workclass  fnlwgt  education  education_num  \\\n",
       "0   39         State-gov   77516  Bachelors             13   \n",
       "1   50  Self-emp-not-inc   83311  Bachelors             13   \n",
       "2   38           Private  215646    HS-grad              9   \n",
       "3   53           Private  234721       11th              7   \n",
       "4   28           Private  338409  Bachelors             13   \n",
       "\n",
       "       marital_status         occupation   relationship   race     sex  \\\n",
       "0       Never-married       Adm-clerical  Not-in-family  White    Male   \n",
       "1  Married-civ-spouse    Exec-managerial        Husband  White    Male   \n",
       "2            Divorced  Handlers-cleaners  Not-in-family  White    Male   \n",
       "3  Married-civ-spouse  Handlers-cleaners        Husband  Black    Male   \n",
       "4  Married-civ-spouse     Prof-specialty           Wife  Black  Female   \n",
       "\n",
       "   capital_gain  capital_loss  hours_per_week native_country wage_class  \n",
       "0          2174             0              40  United-States      <=50K  \n",
       "1             0             0              13  United-States      <=50K  \n",
       "2             0             0              40  United-States      <=50K  \n",
       "3             0             0              40  United-States      <=50K  \n",
       "4             0             0              40           Cuba      <=50K  "
      ],
      "text/html": [
       "<div>\n",
       "<style scoped>\n",
       "    .dataframe tbody tr th:only-of-type {\n",
       "        vertical-align: middle;\n",
       "    }\n",
       "\n",
       "    .dataframe tbody tr th {\n",
       "        vertical-align: top;\n",
       "    }\n",
       "\n",
       "    .dataframe thead th {\n",
       "        text-align: right;\n",
       "    }\n",
       "</style>\n",
       "<table border=\"1\" class=\"dataframe\">\n",
       "  <thead>\n",
       "    <tr style=\"text-align: right;\">\n",
       "      <th></th>\n",
       "      <th>age</th>\n",
       "      <th>workclass</th>\n",
       "      <th>fnlwgt</th>\n",
       "      <th>education</th>\n",
       "      <th>education_num</th>\n",
       "      <th>marital_status</th>\n",
       "      <th>occupation</th>\n",
       "      <th>relationship</th>\n",
       "      <th>race</th>\n",
       "      <th>sex</th>\n",
       "      <th>capital_gain</th>\n",
       "      <th>capital_loss</th>\n",
       "      <th>hours_per_week</th>\n",
       "      <th>native_country</th>\n",
       "      <th>wage_class</th>\n",
       "    </tr>\n",
       "  </thead>\n",
       "  <tbody>\n",
       "    <tr>\n",
       "      <th>0</th>\n",
       "      <td>39</td>\n",
       "      <td>State-gov</td>\n",
       "      <td>77516</td>\n",
       "      <td>Bachelors</td>\n",
       "      <td>13</td>\n",
       "      <td>Never-married</td>\n",
       "      <td>Adm-clerical</td>\n",
       "      <td>Not-in-family</td>\n",
       "      <td>White</td>\n",
       "      <td>Male</td>\n",
       "      <td>2174</td>\n",
       "      <td>0</td>\n",
       "      <td>40</td>\n",
       "      <td>United-States</td>\n",
       "      <td>&lt;=50K</td>\n",
       "    </tr>\n",
       "    <tr>\n",
       "      <th>1</th>\n",
       "      <td>50</td>\n",
       "      <td>Self-emp-not-inc</td>\n",
       "      <td>83311</td>\n",
       "      <td>Bachelors</td>\n",
       "      <td>13</td>\n",
       "      <td>Married-civ-spouse</td>\n",
       "      <td>Exec-managerial</td>\n",
       "      <td>Husband</td>\n",
       "      <td>White</td>\n",
       "      <td>Male</td>\n",
       "      <td>0</td>\n",
       "      <td>0</td>\n",
       "      <td>13</td>\n",
       "      <td>United-States</td>\n",
       "      <td>&lt;=50K</td>\n",
       "    </tr>\n",
       "    <tr>\n",
       "      <th>2</th>\n",
       "      <td>38</td>\n",
       "      <td>Private</td>\n",
       "      <td>215646</td>\n",
       "      <td>HS-grad</td>\n",
       "      <td>9</td>\n",
       "      <td>Divorced</td>\n",
       "      <td>Handlers-cleaners</td>\n",
       "      <td>Not-in-family</td>\n",
       "      <td>White</td>\n",
       "      <td>Male</td>\n",
       "      <td>0</td>\n",
       "      <td>0</td>\n",
       "      <td>40</td>\n",
       "      <td>United-States</td>\n",
       "      <td>&lt;=50K</td>\n",
       "    </tr>\n",
       "    <tr>\n",
       "      <th>3</th>\n",
       "      <td>53</td>\n",
       "      <td>Private</td>\n",
       "      <td>234721</td>\n",
       "      <td>11th</td>\n",
       "      <td>7</td>\n",
       "      <td>Married-civ-spouse</td>\n",
       "      <td>Handlers-cleaners</td>\n",
       "      <td>Husband</td>\n",
       "      <td>Black</td>\n",
       "      <td>Male</td>\n",
       "      <td>0</td>\n",
       "      <td>0</td>\n",
       "      <td>40</td>\n",
       "      <td>United-States</td>\n",
       "      <td>&lt;=50K</td>\n",
       "    </tr>\n",
       "    <tr>\n",
       "      <th>4</th>\n",
       "      <td>28</td>\n",
       "      <td>Private</td>\n",
       "      <td>338409</td>\n",
       "      <td>Bachelors</td>\n",
       "      <td>13</td>\n",
       "      <td>Married-civ-spouse</td>\n",
       "      <td>Prof-specialty</td>\n",
       "      <td>Wife</td>\n",
       "      <td>Black</td>\n",
       "      <td>Female</td>\n",
       "      <td>0</td>\n",
       "      <td>0</td>\n",
       "      <td>40</td>\n",
       "      <td>Cuba</td>\n",
       "      <td>&lt;=50K</td>\n",
       "    </tr>\n",
       "  </tbody>\n",
       "</table>\n",
       "</div>"
      ]
     },
     "execution_count": 4,
     "metadata": {},
     "output_type": "execute_result"
    }
   ],
   "execution_count": 4
  },
  {
   "cell_type": "markdown",
   "metadata": {},
   "source": [
    "# Zad.\n",
    "Zróbmy szybki preprocesing"
   ]
  },
  {
   "cell_type": "code",
   "metadata": {
    "ExecuteTime": {
     "end_time": "2025-05-19T21:11:04.883233Z",
     "start_time": "2025-05-19T21:11:04.734232Z"
    }
   },
   "source": [
    "dataset = pd.concat([train,test])\n",
    "\n",
    "dataset['wage_class'] = dataset.wage_class.replace({'<=50K.': 0,'<=50K':0, '>50K.':1, '>50K':1})\n",
    "\n",
    "dataset.drop([\"fnlwgt\"],axis=1,inplace=True)\n",
    "\n",
    "dataset.drop([\"education\"],axis=1,inplace=True)\n",
    "\n",
    "x = dataset.groupby('native_country')[\"wage_class\"].mean()\n",
    "\n",
    "d = dict(pd.cut(x[x.index!=\" United-States\"],5,labels=range(5)))\n",
    "\n",
    "dataset['native_country'] = dataset['native_country'].replace(d)\n",
    "\n",
    "dataset = pd.get_dummies(dataset,drop_first=True)\n",
    "\n",
    "train = dataset.iloc[:train.shape[0]]\n",
    "test = dataset.iloc[train.shape[0]:]\n",
    "\n",
    "X_train = train.drop(\"wage_class\",axis=1)\n",
    "y_train = train.wage_class\n",
    "\n",
    "X_test = test.drop(\"wage_class\",axis=1)\n",
    "y_test = test.wage_class\n"
   ],
   "outputs": [
    {
     "name": "stderr",
     "output_type": "stream",
     "text": [
      "C:\\Users\\krzys\\AppData\\Local\\Temp\\ipykernel_22700\\3132754484.py:3: FutureWarning: Downcasting behavior in `replace` is deprecated and will be removed in a future version. To retain the old behavior, explicitly call `result.infer_objects(copy=False)`. To opt-in to the future behavior, set `pd.set_option('future.no_silent_downcasting', True)`\n",
      "  dataset['wage_class'] = dataset.wage_class.replace({'<=50K.': 0,'<=50K':0, '>50K.':1, '>50K':1})\n",
      "C:\\Users\\krzys\\AppData\\Local\\Temp\\ipykernel_22700\\3132754484.py:13: FutureWarning: Downcasting behavior in `replace` is deprecated and will be removed in a future version. To retain the old behavior, explicitly call `result.infer_objects(copy=False)`. To opt-in to the future behavior, set `pd.set_option('future.no_silent_downcasting', True)`\n",
      "  dataset['native_country'] = dataset['native_country'].replace(d)\n"
     ]
    }
   ],
   "execution_count": 5
  },
  {
   "cell_type": "code",
   "metadata": {
    "ExecuteTime": {
     "end_time": "2025-05-19T21:11:05.905236Z",
     "start_time": "2025-05-19T21:11:05.898236Z"
    }
   },
   "source": [],
   "outputs": [],
   "execution_count": null
  },
  {
   "cell_type": "code",
   "metadata": {
    "ExecuteTime": {
     "end_time": "2025-05-19T21:11:06.351230Z",
     "start_time": "2025-05-19T21:11:06.201236Z"
    }
   },
   "source": [
    "from keras.models import Sequential\n",
    "from keras.layers import Dense\n",
    "\n",
    "from keras.callbacks import History\n",
    "\n",
    "history = History()\n",
    "model = Sequential()\n",
    "model.add(Dense(100,activation=\"sigmoid\", input_shape=(X_train.shape[1],)))\n",
    "model.add(Dense(50,activation=\"sigmoid\"))\n",
    "model.add(Dense(10,activation=\"sigmoid\"))\n",
    "model.add(Dense(1,activation=\"sigmoid\"))\n",
    "model.summary()"
   ],
   "outputs": [
    {
     "name": "stderr",
     "output_type": "stream",
     "text": [
      "D:\\Anaconda\\envs\\experiments\\lib\\site-packages\\keras\\src\\layers\\core\\dense.py:87: UserWarning: Do not pass an `input_shape`/`input_dim` argument to a layer. When using Sequential models, prefer using an `Input(shape)` object as the first layer in the model instead.\n",
      "  super().__init__(activity_regularizer=activity_regularizer, **kwargs)\n"
     ]
    },
    {
     "data": {
      "text/plain": [
       "\u001B[1mModel: \"sequential\"\u001B[0m\n"
      ],
      "text/html": [
       "<pre style=\"white-space:pre;overflow-x:auto;line-height:normal;font-family:Menlo,'DejaVu Sans Mono',consolas,'Courier New',monospace\"><span style=\"font-weight: bold\">Model: \"sequential\"</span>\n",
       "</pre>\n"
      ]
     },
     "metadata": {},
     "output_type": "display_data"
    },
    {
     "data": {
      "text/plain": [
       "┏━━━━━━━━━━━━━━━━━━━━━━━━━━━━━━━━━┳━━━━━━━━━━━━━━━━━━━━━━━━┳━━━━━━━━━━━━━━━┓\n",
       "┃\u001B[1m \u001B[0m\u001B[1mLayer (type)                   \u001B[0m\u001B[1m \u001B[0m┃\u001B[1m \u001B[0m\u001B[1mOutput Shape          \u001B[0m\u001B[1m \u001B[0m┃\u001B[1m \u001B[0m\u001B[1m      Param #\u001B[0m\u001B[1m \u001B[0m┃\n",
       "┡━━━━━━━━━━━━━━━━━━━━━━━━━━━━━━━━━╇━━━━━━━━━━━━━━━━━━━━━━━━╇━━━━━━━━━━━━━━━┩\n",
       "│ dense (\u001B[38;5;33mDense\u001B[0m)                   │ (\u001B[38;5;45mNone\u001B[0m, \u001B[38;5;34m100\u001B[0m)            │         \u001B[38;5;34m4,200\u001B[0m │\n",
       "├─────────────────────────────────┼────────────────────────┼───────────────┤\n",
       "│ dense_1 (\u001B[38;5;33mDense\u001B[0m)                 │ (\u001B[38;5;45mNone\u001B[0m, \u001B[38;5;34m50\u001B[0m)             │         \u001B[38;5;34m5,050\u001B[0m │\n",
       "├─────────────────────────────────┼────────────────────────┼───────────────┤\n",
       "│ dense_2 (\u001B[38;5;33mDense\u001B[0m)                 │ (\u001B[38;5;45mNone\u001B[0m, \u001B[38;5;34m10\u001B[0m)             │           \u001B[38;5;34m510\u001B[0m │\n",
       "├─────────────────────────────────┼────────────────────────┼───────────────┤\n",
       "│ dense_3 (\u001B[38;5;33mDense\u001B[0m)                 │ (\u001B[38;5;45mNone\u001B[0m, \u001B[38;5;34m1\u001B[0m)              │            \u001B[38;5;34m11\u001B[0m │\n",
       "└─────────────────────────────────┴────────────────────────┴───────────────┘\n"
      ],
      "text/html": [
       "<pre style=\"white-space:pre;overflow-x:auto;line-height:normal;font-family:Menlo,'DejaVu Sans Mono',consolas,'Courier New',monospace\">┏━━━━━━━━━━━━━━━━━━━━━━━━━━━━━━━━━┳━━━━━━━━━━━━━━━━━━━━━━━━┳━━━━━━━━━━━━━━━┓\n",
       "┃<span style=\"font-weight: bold\"> Layer (type)                    </span>┃<span style=\"font-weight: bold\"> Output Shape           </span>┃<span style=\"font-weight: bold\">       Param # </span>┃\n",
       "┡━━━━━━━━━━━━━━━━━━━━━━━━━━━━━━━━━╇━━━━━━━━━━━━━━━━━━━━━━━━╇━━━━━━━━━━━━━━━┩\n",
       "│ dense (<span style=\"color: #0087ff; text-decoration-color: #0087ff\">Dense</span>)                   │ (<span style=\"color: #00d7ff; text-decoration-color: #00d7ff\">None</span>, <span style=\"color: #00af00; text-decoration-color: #00af00\">100</span>)            │         <span style=\"color: #00af00; text-decoration-color: #00af00\">4,200</span> │\n",
       "├─────────────────────────────────┼────────────────────────┼───────────────┤\n",
       "│ dense_1 (<span style=\"color: #0087ff; text-decoration-color: #0087ff\">Dense</span>)                 │ (<span style=\"color: #00d7ff; text-decoration-color: #00d7ff\">None</span>, <span style=\"color: #00af00; text-decoration-color: #00af00\">50</span>)             │         <span style=\"color: #00af00; text-decoration-color: #00af00\">5,050</span> │\n",
       "├─────────────────────────────────┼────────────────────────┼───────────────┤\n",
       "│ dense_2 (<span style=\"color: #0087ff; text-decoration-color: #0087ff\">Dense</span>)                 │ (<span style=\"color: #00d7ff; text-decoration-color: #00d7ff\">None</span>, <span style=\"color: #00af00; text-decoration-color: #00af00\">10</span>)             │           <span style=\"color: #00af00; text-decoration-color: #00af00\">510</span> │\n",
       "├─────────────────────────────────┼────────────────────────┼───────────────┤\n",
       "│ dense_3 (<span style=\"color: #0087ff; text-decoration-color: #0087ff\">Dense</span>)                 │ (<span style=\"color: #00d7ff; text-decoration-color: #00d7ff\">None</span>, <span style=\"color: #00af00; text-decoration-color: #00af00\">1</span>)              │            <span style=\"color: #00af00; text-decoration-color: #00af00\">11</span> │\n",
       "└─────────────────────────────────┴────────────────────────┴───────────────┘\n",
       "</pre>\n"
      ]
     },
     "metadata": {},
     "output_type": "display_data"
    },
    {
     "data": {
      "text/plain": [
       "\u001B[1m Total params: \u001B[0m\u001B[38;5;34m9,771\u001B[0m (38.17 KB)\n"
      ],
      "text/html": [
       "<pre style=\"white-space:pre;overflow-x:auto;line-height:normal;font-family:Menlo,'DejaVu Sans Mono',consolas,'Courier New',monospace\"><span style=\"font-weight: bold\"> Total params: </span><span style=\"color: #00af00; text-decoration-color: #00af00\">9,771</span> (38.17 KB)\n",
       "</pre>\n"
      ]
     },
     "metadata": {},
     "output_type": "display_data"
    },
    {
     "data": {
      "text/plain": [
       "\u001B[1m Trainable params: \u001B[0m\u001B[38;5;34m9,771\u001B[0m (38.17 KB)\n"
      ],
      "text/html": [
       "<pre style=\"white-space:pre;overflow-x:auto;line-height:normal;font-family:Menlo,'DejaVu Sans Mono',consolas,'Courier New',monospace\"><span style=\"font-weight: bold\"> Trainable params: </span><span style=\"color: #00af00; text-decoration-color: #00af00\">9,771</span> (38.17 KB)\n",
       "</pre>\n"
      ]
     },
     "metadata": {},
     "output_type": "display_data"
    },
    {
     "data": {
      "text/plain": [
       "\u001B[1m Non-trainable params: \u001B[0m\u001B[38;5;34m0\u001B[0m (0.00 B)\n"
      ],
      "text/html": [
       "<pre style=\"white-space:pre;overflow-x:auto;line-height:normal;font-family:Menlo,'DejaVu Sans Mono',consolas,'Courier New',monospace\"><span style=\"font-weight: bold\"> Non-trainable params: </span><span style=\"color: #00af00; text-decoration-color: #00af00\">0</span> (0.00 B)\n",
       "</pre>\n"
      ]
     },
     "metadata": {},
     "output_type": "display_data"
    }
   ],
   "execution_count": 6
  },
  {
   "cell_type": "code",
   "metadata": {
    "ExecuteTime": {
     "end_time": "2025-05-19T21:11:10.058232Z",
     "start_time": "2025-05-19T21:11:10.033232Z"
    }
   },
   "source": [
    "model.compile(loss=\"binary_crossentropy\", optimizer=\"Adam\", metrics=[\"accuracy\"])"
   ],
   "outputs": [],
   "execution_count": 7
  },
  {
   "cell_type": "code",
   "metadata": {
    "ExecuteTime": {
     "end_time": "2025-05-19T21:15:02.407231Z",
     "start_time": "2025-05-19T21:11:10.487235Z"
    }
   },
   "source": [
    "# history = model.fit(X_train, y_train, epochs=30, validation_data=(X_valid, y_valid))\n",
    "X_train = X_train.astype('float32')\n",
    "y_train = y_train.astype('float32')\n",
    "X_test = X_test.astype('float32')\n",
    "y_test = y_test.astype('float32')\n",
    "\n",
    "# Reshape labels if necessary (for example, for categorical crossentropy)\n",
    "y_train = np.expand_dims(y_train, axis=-1)\n",
    "y_test = np.expand_dims(y_test, axis=-1)\n",
    "history = model.fit(X_train, y_train, validation_data= (X_test, y_test), batch_size=32, epochs=100)"
   ],
   "outputs": [
    {
     "name": "stdout",
     "output_type": "stream",
     "text": [
      "Epoch 1/100\n",
      "\u001B[1m943/943\u001B[0m \u001B[32m━━━━━━━━━━━━━━━━━━━━\u001B[0m\u001B[37m\u001B[0m \u001B[1m4s\u001B[0m 3ms/step - accuracy: 0.7768 - loss: 0.4763 - val_accuracy: 0.8115 - val_loss: 0.3759\n",
      "Epoch 2/100\n",
      "\u001B[1m943/943\u001B[0m \u001B[32m━━━━━━━━━━━━━━━━━━━━\u001B[0m\u001B[37m\u001B[0m \u001B[1m2s\u001B[0m 3ms/step - accuracy: 0.8150 - loss: 0.3760 - val_accuracy: 0.8147 - val_loss: 0.3684\n",
      "Epoch 3/100\n",
      "\u001B[1m943/943\u001B[0m \u001B[32m━━━━━━━━━━━━━━━━━━━━\u001B[0m\u001B[37m\u001B[0m \u001B[1m2s\u001B[0m 2ms/step - accuracy: 0.8238 - loss: 0.3623 - val_accuracy: 0.8264 - val_loss: 0.3584\n",
      "Epoch 4/100\n",
      "\u001B[1m943/943\u001B[0m \u001B[32m━━━━━━━━━━━━━━━━━━━━\u001B[0m\u001B[37m\u001B[0m \u001B[1m2s\u001B[0m 2ms/step - accuracy: 0.8321 - loss: 0.3545 - val_accuracy: 0.8169 - val_loss: 0.3630\n",
      "Epoch 5/100\n",
      "\u001B[1m943/943\u001B[0m \u001B[32m━━━━━━━━━━━━━━━━━━━━\u001B[0m\u001B[37m\u001B[0m \u001B[1m2s\u001B[0m 2ms/step - accuracy: 0.8306 - loss: 0.3521 - val_accuracy: 0.8360 - val_loss: 0.3496\n",
      "Epoch 6/100\n",
      "\u001B[1m943/943\u001B[0m \u001B[32m━━━━━━━━━━━━━━━━━━━━\u001B[0m\u001B[37m\u001B[0m \u001B[1m2s\u001B[0m 2ms/step - accuracy: 0.8283 - loss: 0.3544 - val_accuracy: 0.8238 - val_loss: 0.3590\n",
      "Epoch 7/100\n",
      "\u001B[1m943/943\u001B[0m \u001B[32m━━━━━━━━━━━━━━━━━━━━\u001B[0m\u001B[37m\u001B[0m \u001B[1m2s\u001B[0m 2ms/step - accuracy: 0.8273 - loss: 0.3535 - val_accuracy: 0.8122 - val_loss: 0.3633\n",
      "Epoch 8/100\n",
      "\u001B[1m943/943\u001B[0m \u001B[32m━━━━━━━━━━━━━━━━━━━━\u001B[0m\u001B[37m\u001B[0m \u001B[1m2s\u001B[0m 2ms/step - accuracy: 0.8300 - loss: 0.3450 - val_accuracy: 0.8300 - val_loss: 0.3442\n",
      "Epoch 9/100\n",
      "\u001B[1m943/943\u001B[0m \u001B[32m━━━━━━━━━━━━━━━━━━━━\u001B[0m\u001B[37m\u001B[0m \u001B[1m2s\u001B[0m 2ms/step - accuracy: 0.8320 - loss: 0.3496 - val_accuracy: 0.8326 - val_loss: 0.3449\n",
      "Epoch 10/100\n",
      "\u001B[1m943/943\u001B[0m \u001B[32m━━━━━━━━━━━━━━━━━━━━\u001B[0m\u001B[37m\u001B[0m \u001B[1m2s\u001B[0m 2ms/step - accuracy: 0.8321 - loss: 0.3490 - val_accuracy: 0.8309 - val_loss: 0.3466\n",
      "Epoch 11/100\n",
      "\u001B[1m943/943\u001B[0m \u001B[32m━━━━━━━━━━━━━━━━━━━━\u001B[0m\u001B[37m\u001B[0m \u001B[1m2s\u001B[0m 2ms/step - accuracy: 0.8262 - loss: 0.3548 - val_accuracy: 0.8317 - val_loss: 0.3451\n",
      "Epoch 12/100\n",
      "\u001B[1m943/943\u001B[0m \u001B[32m━━━━━━━━━━━━━━━━━━━━\u001B[0m\u001B[37m\u001B[0m \u001B[1m2s\u001B[0m 2ms/step - accuracy: 0.8309 - loss: 0.3509 - val_accuracy: 0.8292 - val_loss: 0.3475\n",
      "Epoch 13/100\n",
      "\u001B[1m943/943\u001B[0m \u001B[32m━━━━━━━━━━━━━━━━━━━━\u001B[0m\u001B[37m\u001B[0m \u001B[1m2s\u001B[0m 2ms/step - accuracy: 0.8347 - loss: 0.3451 - val_accuracy: 0.8282 - val_loss: 0.3443\n",
      "Epoch 14/100\n",
      "\u001B[1m943/943\u001B[0m \u001B[32m━━━━━━━━━━━━━━━━━━━━\u001B[0m\u001B[37m\u001B[0m \u001B[1m2s\u001B[0m 2ms/step - accuracy: 0.8297 - loss: 0.3451 - val_accuracy: 0.8353 - val_loss: 0.3410\n",
      "Epoch 15/100\n",
      "\u001B[1m943/943\u001B[0m \u001B[32m━━━━━━━━━━━━━━━━━━━━\u001B[0m\u001B[37m\u001B[0m \u001B[1m2s\u001B[0m 2ms/step - accuracy: 0.8310 - loss: 0.3495 - val_accuracy: 0.8163 - val_loss: 0.3598\n",
      "Epoch 16/100\n",
      "\u001B[1m943/943\u001B[0m \u001B[32m━━━━━━━━━━━━━━━━━━━━\u001B[0m\u001B[37m\u001B[0m \u001B[1m2s\u001B[0m 2ms/step - accuracy: 0.8151 - loss: 0.3614 - val_accuracy: 0.8187 - val_loss: 0.3607\n",
      "Epoch 17/100\n",
      "\u001B[1m943/943\u001B[0m \u001B[32m━━━━━━━━━━━━━━━━━━━━\u001B[0m\u001B[37m\u001B[0m \u001B[1m2s\u001B[0m 2ms/step - accuracy: 0.8147 - loss: 0.3614 - val_accuracy: 0.8177 - val_loss: 0.3612\n",
      "Epoch 18/100\n",
      "\u001B[1m943/943\u001B[0m \u001B[32m━━━━━━━━━━━━━━━━━━━━\u001B[0m\u001B[37m\u001B[0m \u001B[1m2s\u001B[0m 2ms/step - accuracy: 0.8146 - loss: 0.3643 - val_accuracy: 0.8175 - val_loss: 0.3591\n",
      "Epoch 19/100\n",
      "\u001B[1m943/943\u001B[0m \u001B[32m━━━━━━━━━━━━━━━━━━━━\u001B[0m\u001B[37m\u001B[0m \u001B[1m2s\u001B[0m 3ms/step - accuracy: 0.8170 - loss: 0.3591 - val_accuracy: 0.8167 - val_loss: 0.3603\n",
      "Epoch 20/100\n",
      "\u001B[1m943/943\u001B[0m \u001B[32m━━━━━━━━━━━━━━━━━━━━\u001B[0m\u001B[37m\u001B[0m \u001B[1m2s\u001B[0m 2ms/step - accuracy: 0.8169 - loss: 0.3611 - val_accuracy: 0.7877 - val_loss: 0.4042\n",
      "Epoch 21/100\n",
      "\u001B[1m943/943\u001B[0m \u001B[32m━━━━━━━━━━━━━━━━━━━━\u001B[0m\u001B[37m\u001B[0m \u001B[1m2s\u001B[0m 2ms/step - accuracy: 0.8160 - loss: 0.3674 - val_accuracy: 0.8109 - val_loss: 0.3708\n",
      "Epoch 22/100\n",
      "\u001B[1m943/943\u001B[0m \u001B[32m━━━━━━━━━━━━━━━━━━━━\u001B[0m\u001B[37m\u001B[0m \u001B[1m2s\u001B[0m 2ms/step - accuracy: 0.8175 - loss: 0.3615 - val_accuracy: 0.8191 - val_loss: 0.3592\n",
      "Epoch 23/100\n",
      "\u001B[1m943/943\u001B[0m \u001B[32m━━━━━━━━━━━━━━━━━━━━\u001B[0m\u001B[37m\u001B[0m \u001B[1m2s\u001B[0m 2ms/step - accuracy: 0.8153 - loss: 0.3626 - val_accuracy: 0.8185 - val_loss: 0.3610\n",
      "Epoch 24/100\n",
      "\u001B[1m943/943\u001B[0m \u001B[32m━━━━━━━━━━━━━━━━━━━━\u001B[0m\u001B[37m\u001B[0m \u001B[1m2s\u001B[0m 2ms/step - accuracy: 0.8198 - loss: 0.3583 - val_accuracy: 0.8175 - val_loss: 0.3604\n",
      "Epoch 25/100\n",
      "\u001B[1m943/943\u001B[0m \u001B[32m━━━━━━━━━━━━━━━━━━━━\u001B[0m\u001B[37m\u001B[0m \u001B[1m2s\u001B[0m 2ms/step - accuracy: 0.8168 - loss: 0.3595 - val_accuracy: 0.8144 - val_loss: 0.3600\n",
      "Epoch 26/100\n",
      "\u001B[1m943/943\u001B[0m \u001B[32m━━━━━━━━━━━━━━━━━━━━\u001B[0m\u001B[37m\u001B[0m \u001B[1m2s\u001B[0m 2ms/step - accuracy: 0.8176 - loss: 0.3568 - val_accuracy: 0.8157 - val_loss: 0.3660\n",
      "Epoch 27/100\n",
      "\u001B[1m943/943\u001B[0m \u001B[32m━━━━━━━━━━━━━━━━━━━━\u001B[0m\u001B[37m\u001B[0m \u001B[1m2s\u001B[0m 2ms/step - accuracy: 0.8147 - loss: 0.3623 - val_accuracy: 0.8173 - val_loss: 0.3616\n",
      "Epoch 28/100\n",
      "\u001B[1m943/943\u001B[0m \u001B[32m━━━━━━━━━━━━━━━━━━━━\u001B[0m\u001B[37m\u001B[0m \u001B[1m3s\u001B[0m 3ms/step - accuracy: 0.8158 - loss: 0.3603 - val_accuracy: 0.8147 - val_loss: 0.3613\n",
      "Epoch 29/100\n",
      "\u001B[1m943/943\u001B[0m \u001B[32m━━━━━━━━━━━━━━━━━━━━\u001B[0m\u001B[37m\u001B[0m \u001B[1m2s\u001B[0m 2ms/step - accuracy: 0.8193 - loss: 0.3602 - val_accuracy: 0.8175 - val_loss: 0.3613\n",
      "Epoch 30/100\n",
      "\u001B[1m943/943\u001B[0m \u001B[32m━━━━━━━━━━━━━━━━━━━━\u001B[0m\u001B[37m\u001B[0m \u001B[1m2s\u001B[0m 2ms/step - accuracy: 0.8282 - loss: 0.3538 - val_accuracy: 0.8246 - val_loss: 0.3536\n",
      "Epoch 31/100\n",
      "\u001B[1m943/943\u001B[0m \u001B[32m━━━━━━━━━━━━━━━━━━━━\u001B[0m\u001B[37m\u001B[0m \u001B[1m2s\u001B[0m 2ms/step - accuracy: 0.8309 - loss: 0.3453 - val_accuracy: 0.8076 - val_loss: 0.3797\n",
      "Epoch 32/100\n",
      "\u001B[1m943/943\u001B[0m \u001B[32m━━━━━━━━━━━━━━━━━━━━\u001B[0m\u001B[37m\u001B[0m \u001B[1m2s\u001B[0m 2ms/step - accuracy: 0.8165 - loss: 0.3625 - val_accuracy: 0.8011 - val_loss: 0.3862\n",
      "Epoch 33/100\n",
      "\u001B[1m943/943\u001B[0m \u001B[32m━━━━━━━━━━━━━━━━━━━━\u001B[0m\u001B[37m\u001B[0m \u001B[1m3s\u001B[0m 3ms/step - accuracy: 0.8134 - loss: 0.3640 - val_accuracy: 0.8142 - val_loss: 0.3635\n",
      "Epoch 34/100\n",
      "\u001B[1m943/943\u001B[0m \u001B[32m━━━━━━━━━━━━━━━━━━━━\u001B[0m\u001B[37m\u001B[0m \u001B[1m2s\u001B[0m 2ms/step - accuracy: 0.8215 - loss: 0.3582 - val_accuracy: 0.8129 - val_loss: 0.3661\n",
      "Epoch 35/100\n",
      "\u001B[1m943/943\u001B[0m \u001B[32m━━━━━━━━━━━━━━━━━━━━\u001B[0m\u001B[37m\u001B[0m \u001B[1m2s\u001B[0m 2ms/step - accuracy: 0.8146 - loss: 0.3596 - val_accuracy: 0.8151 - val_loss: 0.3662\n",
      "Epoch 36/100\n",
      "\u001B[1m943/943\u001B[0m \u001B[32m━━━━━━━━━━━━━━━━━━━━\u001B[0m\u001B[37m\u001B[0m \u001B[1m2s\u001B[0m 2ms/step - accuracy: 0.8172 - loss: 0.3629 - val_accuracy: 0.8151 - val_loss: 0.3637\n",
      "Epoch 37/100\n",
      "\u001B[1m943/943\u001B[0m \u001B[32m━━━━━━━━━━━━━━━━━━━━\u001B[0m\u001B[37m\u001B[0m \u001B[1m2s\u001B[0m 2ms/step - accuracy: 0.8171 - loss: 0.3569 - val_accuracy: 0.8131 - val_loss: 0.3661\n",
      "Epoch 38/100\n",
      "\u001B[1m943/943\u001B[0m \u001B[32m━━━━━━━━━━━━━━━━━━━━\u001B[0m\u001B[37m\u001B[0m \u001B[1m2s\u001B[0m 2ms/step - accuracy: 0.8209 - loss: 0.3596 - val_accuracy: 0.8149 - val_loss: 0.3677\n",
      "Epoch 39/100\n",
      "\u001B[1m943/943\u001B[0m \u001B[32m━━━━━━━━━━━━━━━━━━━━\u001B[0m\u001B[37m\u001B[0m \u001B[1m2s\u001B[0m 2ms/step - accuracy: 0.8176 - loss: 0.3645 - val_accuracy: 0.8182 - val_loss: 0.3659\n",
      "Epoch 40/100\n",
      "\u001B[1m943/943\u001B[0m \u001B[32m━━━━━━━━━━━━━━━━━━━━\u001B[0m\u001B[37m\u001B[0m \u001B[1m2s\u001B[0m 2ms/step - accuracy: 0.8157 - loss: 0.3618 - val_accuracy: 0.8120 - val_loss: 0.3872\n",
      "Epoch 41/100\n",
      "\u001B[1m943/943\u001B[0m \u001B[32m━━━━━━━━━━━━━━━━━━━━\u001B[0m\u001B[37m\u001B[0m \u001B[1m2s\u001B[0m 2ms/step - accuracy: 0.8111 - loss: 0.3748 - val_accuracy: 0.8123 - val_loss: 0.3721\n",
      "Epoch 42/100\n",
      "\u001B[1m943/943\u001B[0m \u001B[32m━━━━━━━━━━━━━━━━━━━━\u001B[0m\u001B[37m\u001B[0m \u001B[1m2s\u001B[0m 2ms/step - accuracy: 0.8179 - loss: 0.3650 - val_accuracy: 0.8185 - val_loss: 0.3629\n",
      "Epoch 43/100\n",
      "\u001B[1m943/943\u001B[0m \u001B[32m━━━━━━━━━━━━━━━━━━━━\u001B[0m\u001B[37m\u001B[0m \u001B[1m2s\u001B[0m 2ms/step - accuracy: 0.8155 - loss: 0.3646 - val_accuracy: 0.8146 - val_loss: 0.3686\n",
      "Epoch 44/100\n",
      "\u001B[1m943/943\u001B[0m \u001B[32m━━━━━━━━━━━━━━━━━━━━\u001B[0m\u001B[37m\u001B[0m \u001B[1m2s\u001B[0m 2ms/step - accuracy: 0.8199 - loss: 0.3603 - val_accuracy: 0.8162 - val_loss: 0.3642\n",
      "Epoch 45/100\n",
      "\u001B[1m943/943\u001B[0m \u001B[32m━━━━━━━━━━━━━━━━━━━━\u001B[0m\u001B[37m\u001B[0m \u001B[1m2s\u001B[0m 2ms/step - accuracy: 0.8130 - loss: 0.3667 - val_accuracy: 0.8151 - val_loss: 0.3703\n",
      "Epoch 46/100\n",
      "\u001B[1m943/943\u001B[0m \u001B[32m━━━━━━━━━━━━━━━━━━━━\u001B[0m\u001B[37m\u001B[0m \u001B[1m2s\u001B[0m 2ms/step - accuracy: 0.8164 - loss: 0.3615 - val_accuracy: 0.8173 - val_loss: 0.3646\n",
      "Epoch 47/100\n",
      "\u001B[1m943/943\u001B[0m \u001B[32m━━━━━━━━━━━━━━━━━━━━\u001B[0m\u001B[37m\u001B[0m \u001B[1m2s\u001B[0m 2ms/step - accuracy: 0.8150 - loss: 0.3680 - val_accuracy: 0.8106 - val_loss: 0.3750\n",
      "Epoch 48/100\n",
      "\u001B[1m943/943\u001B[0m \u001B[32m━━━━━━━━━━━━━━━━━━━━\u001B[0m\u001B[37m\u001B[0m \u001B[1m2s\u001B[0m 2ms/step - accuracy: 0.8145 - loss: 0.3676 - val_accuracy: 0.8184 - val_loss: 0.3652\n",
      "Epoch 49/100\n",
      "\u001B[1m943/943\u001B[0m \u001B[32m━━━━━━━━━━━━━━━━━━━━\u001B[0m\u001B[37m\u001B[0m \u001B[1m2s\u001B[0m 2ms/step - accuracy: 0.8106 - loss: 0.3706 - val_accuracy: 0.8124 - val_loss: 0.3748\n",
      "Epoch 50/100\n",
      "\u001B[1m943/943\u001B[0m \u001B[32m━━━━━━━━━━━━━━━━━━━━\u001B[0m\u001B[37m\u001B[0m \u001B[1m2s\u001B[0m 2ms/step - accuracy: 0.8157 - loss: 0.3691 - val_accuracy: 0.8128 - val_loss: 0.3682\n",
      "Epoch 51/100\n",
      "\u001B[1m943/943\u001B[0m \u001B[32m━━━━━━━━━━━━━━━━━━━━\u001B[0m\u001B[37m\u001B[0m \u001B[1m2s\u001B[0m 2ms/step - accuracy: 0.8168 - loss: 0.3695 - val_accuracy: 0.8159 - val_loss: 0.3674\n",
      "Epoch 52/100\n",
      "\u001B[1m943/943\u001B[0m \u001B[32m━━━━━━━━━━━━━━━━━━━━\u001B[0m\u001B[37m\u001B[0m \u001B[1m2s\u001B[0m 2ms/step - accuracy: 0.8191 - loss: 0.3585 - val_accuracy: 0.8175 - val_loss: 0.3648\n",
      "Epoch 53/100\n",
      "\u001B[1m943/943\u001B[0m \u001B[32m━━━━━━━━━━━━━━━━━━━━\u001B[0m\u001B[37m\u001B[0m \u001B[1m2s\u001B[0m 2ms/step - accuracy: 0.8180 - loss: 0.3629 - val_accuracy: 0.8173 - val_loss: 0.3640\n",
      "Epoch 54/100\n",
      "\u001B[1m943/943\u001B[0m \u001B[32m━━━━━━━━━━━━━━━━━━━━\u001B[0m\u001B[37m\u001B[0m \u001B[1m2s\u001B[0m 2ms/step - accuracy: 0.8118 - loss: 0.3641 - val_accuracy: 0.8187 - val_loss: 0.3693\n",
      "Epoch 55/100\n",
      "\u001B[1m943/943\u001B[0m \u001B[32m━━━━━━━━━━━━━━━━━━━━\u001B[0m\u001B[37m\u001B[0m \u001B[1m2s\u001B[0m 2ms/step - accuracy: 0.8199 - loss: 0.3592 - val_accuracy: 0.8182 - val_loss: 0.3630\n",
      "Epoch 56/100\n",
      "\u001B[1m943/943\u001B[0m \u001B[32m━━━━━━━━━━━━━━━━━━━━\u001B[0m\u001B[37m\u001B[0m \u001B[1m2s\u001B[0m 2ms/step - accuracy: 0.8192 - loss: 0.3556 - val_accuracy: 0.8099 - val_loss: 0.3739\n",
      "Epoch 57/100\n",
      "\u001B[1m943/943\u001B[0m \u001B[32m━━━━━━━━━━━━━━━━━━━━\u001B[0m\u001B[37m\u001B[0m \u001B[1m2s\u001B[0m 2ms/step - accuracy: 0.8191 - loss: 0.3600 - val_accuracy: 0.8178 - val_loss: 0.3623\n",
      "Epoch 58/100\n",
      "\u001B[1m943/943\u001B[0m \u001B[32m━━━━━━━━━━━━━━━━━━━━\u001B[0m\u001B[37m\u001B[0m \u001B[1m3s\u001B[0m 2ms/step - accuracy: 0.8211 - loss: 0.3578 - val_accuracy: 0.8114 - val_loss: 0.3719\n",
      "Epoch 59/100\n",
      "\u001B[1m943/943\u001B[0m \u001B[32m━━━━━━━━━━━━━━━━━━━━\u001B[0m\u001B[37m\u001B[0m \u001B[1m2s\u001B[0m 3ms/step - accuracy: 0.8153 - loss: 0.3700 - val_accuracy: 0.8175 - val_loss: 0.3655\n",
      "Epoch 60/100\n",
      "\u001B[1m943/943\u001B[0m \u001B[32m━━━━━━━━━━━━━━━━━━━━\u001B[0m\u001B[37m\u001B[0m \u001B[1m2s\u001B[0m 2ms/step - accuracy: 0.8216 - loss: 0.3564 - val_accuracy: 0.8178 - val_loss: 0.3632\n",
      "Epoch 61/100\n",
      "\u001B[1m943/943\u001B[0m \u001B[32m━━━━━━━━━━━━━━━━━━━━\u001B[0m\u001B[37m\u001B[0m \u001B[1m2s\u001B[0m 2ms/step - accuracy: 0.8170 - loss: 0.3637 - val_accuracy: 0.8143 - val_loss: 0.3648\n",
      "Epoch 62/100\n",
      "\u001B[1m943/943\u001B[0m \u001B[32m━━━━━━━━━━━━━━━━━━━━\u001B[0m\u001B[37m\u001B[0m \u001B[1m2s\u001B[0m 2ms/step - accuracy: 0.8199 - loss: 0.3573 - val_accuracy: 0.8177 - val_loss: 0.3627\n",
      "Epoch 63/100\n",
      "\u001B[1m943/943\u001B[0m \u001B[32m━━━━━━━━━━━━━━━━━━━━\u001B[0m\u001B[37m\u001B[0m \u001B[1m2s\u001B[0m 2ms/step - accuracy: 0.8208 - loss: 0.3595 - val_accuracy: 0.8193 - val_loss: 0.3626\n",
      "Epoch 64/100\n",
      "\u001B[1m943/943\u001B[0m \u001B[32m━━━━━━━━━━━━━━━━━━━━\u001B[0m\u001B[37m\u001B[0m \u001B[1m2s\u001B[0m 2ms/step - accuracy: 0.8153 - loss: 0.3663 - val_accuracy: 0.8120 - val_loss: 0.3714\n",
      "Epoch 65/100\n",
      "\u001B[1m943/943\u001B[0m \u001B[32m━━━━━━━━━━━━━━━━━━━━\u001B[0m\u001B[37m\u001B[0m \u001B[1m2s\u001B[0m 2ms/step - accuracy: 0.8160 - loss: 0.3580 - val_accuracy: 0.8161 - val_loss: 0.3632\n",
      "Epoch 66/100\n",
      "\u001B[1m943/943\u001B[0m \u001B[32m━━━━━━━━━━━━━━━━━━━━\u001B[0m\u001B[37m\u001B[0m \u001B[1m2s\u001B[0m 2ms/step - accuracy: 0.8167 - loss: 0.3653 - val_accuracy: 0.7927 - val_loss: 0.3974\n",
      "Epoch 67/100\n",
      "\u001B[1m943/943\u001B[0m \u001B[32m━━━━━━━━━━━━━━━━━━━━\u001B[0m\u001B[37m\u001B[0m \u001B[1m2s\u001B[0m 2ms/step - accuracy: 0.8125 - loss: 0.3653 - val_accuracy: 0.8133 - val_loss: 0.3668\n",
      "Epoch 68/100\n",
      "\u001B[1m943/943\u001B[0m \u001B[32m━━━━━━━━━━━━━━━━━━━━\u001B[0m\u001B[37m\u001B[0m \u001B[1m2s\u001B[0m 2ms/step - accuracy: 0.8151 - loss: 0.3645 - val_accuracy: 0.8166 - val_loss: 0.3632\n",
      "Epoch 69/100\n",
      "\u001B[1m943/943\u001B[0m \u001B[32m━━━━━━━━━━━━━━━━━━━━\u001B[0m\u001B[37m\u001B[0m \u001B[1m2s\u001B[0m 2ms/step - accuracy: 0.8192 - loss: 0.3578 - val_accuracy: 0.7923 - val_loss: 0.3728\n",
      "Epoch 70/100\n",
      "\u001B[1m943/943\u001B[0m \u001B[32m━━━━━━━━━━━━━━━━━━━━\u001B[0m\u001B[37m\u001B[0m \u001B[1m2s\u001B[0m 2ms/step - accuracy: 0.8151 - loss: 0.3610 - val_accuracy: 0.8323 - val_loss: 0.3553\n",
      "Epoch 71/100\n",
      "\u001B[1m943/943\u001B[0m \u001B[32m━━━━━━━━━━━━━━━━━━━━\u001B[0m\u001B[37m\u001B[0m \u001B[1m2s\u001B[0m 2ms/step - accuracy: 0.8225 - loss: 0.3555 - val_accuracy: 0.7924 - val_loss: 0.4110\n",
      "Epoch 72/100\n",
      "\u001B[1m943/943\u001B[0m \u001B[32m━━━━━━━━━━━━━━━━━━━━\u001B[0m\u001B[37m\u001B[0m \u001B[1m2s\u001B[0m 2ms/step - accuracy: 0.8124 - loss: 0.3675 - val_accuracy: 0.8170 - val_loss: 0.3650\n",
      "Epoch 73/100\n",
      "\u001B[1m943/943\u001B[0m \u001B[32m━━━━━━━━━━━━━━━━━━━━\u001B[0m\u001B[37m\u001B[0m \u001B[1m2s\u001B[0m 2ms/step - accuracy: 0.8201 - loss: 0.3586 - val_accuracy: 0.8223 - val_loss: 0.3592\n",
      "Epoch 74/100\n",
      "\u001B[1m943/943\u001B[0m \u001B[32m━━━━━━━━━━━━━━━━━━━━\u001B[0m\u001B[37m\u001B[0m \u001B[1m2s\u001B[0m 2ms/step - accuracy: 0.8183 - loss: 0.3626 - val_accuracy: 0.8170 - val_loss: 0.3645\n",
      "Epoch 75/100\n",
      "\u001B[1m943/943\u001B[0m \u001B[32m━━━━━━━━━━━━━━━━━━━━\u001B[0m\u001B[37m\u001B[0m \u001B[1m2s\u001B[0m 2ms/step - accuracy: 0.8147 - loss: 0.3647 - val_accuracy: 0.8047 - val_loss: 0.3820\n",
      "Epoch 76/100\n",
      "\u001B[1m943/943\u001B[0m \u001B[32m━━━━━━━━━━━━━━━━━━━━\u001B[0m\u001B[37m\u001B[0m \u001B[1m2s\u001B[0m 2ms/step - accuracy: 0.8127 - loss: 0.3660 - val_accuracy: 0.8126 - val_loss: 0.3645\n",
      "Epoch 77/100\n",
      "\u001B[1m943/943\u001B[0m \u001B[32m━━━━━━━━━━━━━━━━━━━━\u001B[0m\u001B[37m\u001B[0m \u001B[1m2s\u001B[0m 2ms/step - accuracy: 0.8240 - loss: 0.3543 - val_accuracy: 0.8191 - val_loss: 0.3602\n",
      "Epoch 78/100\n",
      "\u001B[1m943/943\u001B[0m \u001B[32m━━━━━━━━━━━━━━━━━━━━\u001B[0m\u001B[37m\u001B[0m \u001B[1m2s\u001B[0m 2ms/step - accuracy: 0.8161 - loss: 0.3621 - val_accuracy: 0.8165 - val_loss: 0.3791\n",
      "Epoch 79/100\n",
      "\u001B[1m943/943\u001B[0m \u001B[32m━━━━━━━━━━━━━━━━━━━━\u001B[0m\u001B[37m\u001B[0m \u001B[1m3s\u001B[0m 3ms/step - accuracy: 0.8184 - loss: 0.3554 - val_accuracy: 0.8127 - val_loss: 0.3666\n",
      "Epoch 80/100\n",
      "\u001B[1m943/943\u001B[0m \u001B[32m━━━━━━━━━━━━━━━━━━━━\u001B[0m\u001B[37m\u001B[0m \u001B[1m4s\u001B[0m 4ms/step - accuracy: 0.8123 - loss: 0.3670 - val_accuracy: 0.8139 - val_loss: 0.3672\n",
      "Epoch 81/100\n",
      "\u001B[1m943/943\u001B[0m \u001B[32m━━━━━━━━━━━━━━━━━━━━\u001B[0m\u001B[37m\u001B[0m \u001B[1m2s\u001B[0m 2ms/step - accuracy: 0.8133 - loss: 0.3669 - val_accuracy: 0.8151 - val_loss: 0.3695\n",
      "Epoch 82/100\n",
      "\u001B[1m943/943\u001B[0m \u001B[32m━━━━━━━━━━━━━━━━━━━━\u001B[0m\u001B[37m\u001B[0m \u001B[1m2s\u001B[0m 2ms/step - accuracy: 0.8124 - loss: 0.3635 - val_accuracy: 0.8117 - val_loss: 0.3698\n",
      "Epoch 83/100\n",
      "\u001B[1m943/943\u001B[0m \u001B[32m━━━━━━━━━━━━━━━━━━━━\u001B[0m\u001B[37m\u001B[0m \u001B[1m2s\u001B[0m 2ms/step - accuracy: 0.8151 - loss: 0.3637 - val_accuracy: 0.8193 - val_loss: 0.3653\n",
      "Epoch 84/100\n",
      "\u001B[1m943/943\u001B[0m \u001B[32m━━━━━━━━━━━━━━━━━━━━\u001B[0m\u001B[37m\u001B[0m \u001B[1m2s\u001B[0m 2ms/step - accuracy: 0.8197 - loss: 0.3606 - val_accuracy: 0.8204 - val_loss: 0.3626\n",
      "Epoch 85/100\n",
      "\u001B[1m943/943\u001B[0m \u001B[32m━━━━━━━━━━━━━━━━━━━━\u001B[0m\u001B[37m\u001B[0m \u001B[1m2s\u001B[0m 2ms/step - accuracy: 0.8198 - loss: 0.3598 - val_accuracy: 0.8154 - val_loss: 0.3648\n",
      "Epoch 86/100\n",
      "\u001B[1m943/943\u001B[0m \u001B[32m━━━━━━━━━━━━━━━━━━━━\u001B[0m\u001B[37m\u001B[0m \u001B[1m2s\u001B[0m 2ms/step - accuracy: 0.8144 - loss: 0.3619 - val_accuracy: 0.8163 - val_loss: 0.3625\n",
      "Epoch 87/100\n",
      "\u001B[1m943/943\u001B[0m \u001B[32m━━━━━━━━━━━━━━━━━━━━\u001B[0m\u001B[37m\u001B[0m \u001B[1m2s\u001B[0m 2ms/step - accuracy: 0.8108 - loss: 0.3764 - val_accuracy: 0.8150 - val_loss: 0.3649\n",
      "Epoch 88/100\n",
      "\u001B[1m943/943\u001B[0m \u001B[32m━━━━━━━━━━━━━━━━━━━━\u001B[0m\u001B[37m\u001B[0m \u001B[1m2s\u001B[0m 2ms/step - accuracy: 0.8216 - loss: 0.3577 - val_accuracy: 0.8076 - val_loss: 0.3702\n",
      "Epoch 89/100\n",
      "\u001B[1m943/943\u001B[0m \u001B[32m━━━━━━━━━━━━━━━━━━━━\u001B[0m\u001B[37m\u001B[0m \u001B[1m3s\u001B[0m 2ms/step - accuracy: 0.8166 - loss: 0.3625 - val_accuracy: 0.8122 - val_loss: 0.3687\n",
      "Epoch 90/100\n",
      "\u001B[1m943/943\u001B[0m \u001B[32m━━━━━━━━━━━━━━━━━━━━\u001B[0m\u001B[37m\u001B[0m \u001B[1m2s\u001B[0m 2ms/step - accuracy: 0.8155 - loss: 0.3641 - val_accuracy: 0.8137 - val_loss: 0.3675\n",
      "Epoch 91/100\n",
      "\u001B[1m943/943\u001B[0m \u001B[32m━━━━━━━━━━━━━━━━━━━━\u001B[0m\u001B[37m\u001B[0m \u001B[1m2s\u001B[0m 3ms/step - accuracy: 0.8174 - loss: 0.3615 - val_accuracy: 0.8167 - val_loss: 0.3632\n",
      "Epoch 92/100\n",
      "\u001B[1m943/943\u001B[0m \u001B[32m━━━━━━━━━━━━━━━━━━━━\u001B[0m\u001B[37m\u001B[0m \u001B[1m2s\u001B[0m 2ms/step - accuracy: 0.8168 - loss: 0.3585 - val_accuracy: 0.8177 - val_loss: 0.3687\n",
      "Epoch 93/100\n",
      "\u001B[1m943/943\u001B[0m \u001B[32m━━━━━━━━━━━━━━━━━━━━\u001B[0m\u001B[37m\u001B[0m \u001B[1m2s\u001B[0m 2ms/step - accuracy: 0.8186 - loss: 0.3560 - val_accuracy: 0.8169 - val_loss: 0.3627\n",
      "Epoch 94/100\n",
      "\u001B[1m943/943\u001B[0m \u001B[32m━━━━━━━━━━━━━━━━━━━━\u001B[0m\u001B[37m\u001B[0m \u001B[1m2s\u001B[0m 2ms/step - accuracy: 0.8184 - loss: 0.3609 - val_accuracy: 0.8177 - val_loss: 0.3624\n",
      "Epoch 95/100\n",
      "\u001B[1m943/943\u001B[0m \u001B[32m━━━━━━━━━━━━━━━━━━━━\u001B[0m\u001B[37m\u001B[0m \u001B[1m2s\u001B[0m 2ms/step - accuracy: 0.8201 - loss: 0.3595 - val_accuracy: 0.8213 - val_loss: 0.3662\n",
      "Epoch 96/100\n",
      "\u001B[1m943/943\u001B[0m \u001B[32m━━━━━━━━━━━━━━━━━━━━\u001B[0m\u001B[37m\u001B[0m \u001B[1m2s\u001B[0m 2ms/step - accuracy: 0.8230 - loss: 0.3525 - val_accuracy: 0.8357 - val_loss: 0.3462\n",
      "Epoch 97/100\n",
      "\u001B[1m943/943\u001B[0m \u001B[32m━━━━━━━━━━━━━━━━━━━━\u001B[0m\u001B[37m\u001B[0m \u001B[1m2s\u001B[0m 2ms/step - accuracy: 0.8357 - loss: 0.3418 - val_accuracy: 0.8335 - val_loss: 0.3513\n",
      "Epoch 98/100\n",
      "\u001B[1m943/943\u001B[0m \u001B[32m━━━━━━━━━━━━━━━━━━━━\u001B[0m\u001B[37m\u001B[0m \u001B[1m2s\u001B[0m 2ms/step - accuracy: 0.8263 - loss: 0.3551 - val_accuracy: 0.8337 - val_loss: 0.3467\n",
      "Epoch 99/100\n",
      "\u001B[1m943/943\u001B[0m \u001B[32m━━━━━━━━━━━━━━━━━━━━\u001B[0m\u001B[37m\u001B[0m \u001B[1m2s\u001B[0m 2ms/step - accuracy: 0.8295 - loss: 0.3500 - val_accuracy: 0.8322 - val_loss: 0.3483\n",
      "Epoch 100/100\n",
      "\u001B[1m943/943\u001B[0m \u001B[32m━━━━━━━━━━━━━━━━━━━━\u001B[0m\u001B[37m\u001B[0m \u001B[1m2s\u001B[0m 2ms/step - accuracy: 0.8366 - loss: 0.3347 - val_accuracy: 0.8295 - val_loss: 0.3516\n"
     ]
    }
   ],
   "execution_count": 8
  },
  {
   "cell_type": "code",
   "metadata": {
    "ExecuteTime": {
     "end_time": "2025-05-19T21:15:02.422243Z",
     "start_time": "2025-05-19T21:15:02.415247Z"
    }
   },
   "source": [],
   "outputs": [],
   "execution_count": null
  },
  {
   "cell_type": "code",
   "metadata": {
    "ExecuteTime": {
     "end_time": "2025-05-19T21:15:07.611235Z",
     "start_time": "2025-05-19T21:15:07.459235Z"
    }
   },
   "source": [
    "import pandas as pd\n",
    "\n",
    "pd.DataFrame(history.history).plot(figsize=(8, 5))\n",
    "plt.grid(True)\n",
    "plt.gca().set_ylim(0, 1)\n",
    "plt.show()"
   ],
   "outputs": [
    {
     "data": {
      "text/plain": [
       "<Figure size 800x500 with 1 Axes>"
      ],
      "image/png": "[encoded data removed]"
     },
     "metadata": {},
     "output_type": "display_data"
    }
   ],
   "execution_count": 10
  },
  {
   "cell_type": "code",
   "metadata": {
    "ExecuteTime": {
     "end_time": "2025-05-19T21:15:08.895232Z",
     "start_time": "2025-05-19T21:15:08.085235Z"
    }
   },
   "source": [
    "model.evaluate(X_test,y_test)"
   ],
   "outputs": [
    {
     "name": "stdout",
     "output_type": "stream",
     "text": [
      "\u001B[1m471/471\u001B[0m \u001B[32m━━━━━━━━━━━━━━━━━━━━\u001B[0m\u001B[37m\u001B[0m \u001B[1m1s\u001B[0m 2ms/step - accuracy: 0.8254 - loss: 0.3547\n"
     ]
    },
    {
     "data": {
      "text/plain": [
       "[0.3516416549682617, 0.8295484781265259]"
      ]
     },
     "execution_count": 11,
     "metadata": {},
     "output_type": "execute_result"
    }
   ],
   "execution_count": 11
  },
  {
   "cell_type": "code",
   "metadata": {
    "ExecuteTime": {
     "end_time": "2025-05-19T21:15:09.809232Z",
     "start_time": "2025-05-19T21:15:08.969234Z"
    }
   },
   "source": [
    "from sklearn import  metrics\n",
    "y_pred = model.predict(X_test)\n",
    "\n",
    "# Assuming a binary classification problem\n",
    "y_pred = (y_pred > 0.5).astype(int)\n",
    "\n",
    "# Calculate accuracy\n",
    "accuracy = metrics.accuracy_score(y_test, y_pred)\n",
    "# metrics.accuracy_score(y_true= y_test, y_pred= model.predict(X_test))\n",
    "print(accuracy)"
   ],
   "outputs": [
    {
     "name": "stdout",
     "output_type": "stream",
     "text": [
      "\u001B[1m471/471\u001B[0m \u001B[32m━━━━━━━━━━━━━━━━━━━━\u001B[0m\u001B[37m\u001B[0m \u001B[1m1s\u001B[0m 970us/step\n",
      "0.8295484727755644\n"
     ]
    }
   ],
   "execution_count": 12
  },
  {
   "cell_type": "markdown",
   "metadata": {},
   "source": [
    "# Zad\n",
    "\n",
    "Porównaj powyższy wynik z nauką na danych znormalizowanych."
   ]
  },
  {
   "cell_type": "code",
   "metadata": {
    "ExecuteTime": {
     "end_time": "2025-05-19T21:21:07.061105Z",
     "start_time": "2025-05-19T21:15:11.064237Z"
    }
   },
   "source": [
    "from sklearn.preprocessing import StandardScaler\n",
    "\n",
    "history = History()\n",
    "model = Sequential()\n",
    "model.add(Dense(100,activation=\"sigmoid\", input_shape=(X_train.shape[1],)))\n",
    "model.add(Dense(50,activation=\"sigmoid\"))\n",
    "model.add(Dense(10,activation=\"sigmoid\"))\n",
    "model.add(Dense(1,activation=\"sigmoid\"))\n",
    "model.summary()\n",
    "\n",
    "model.compile(loss=\"binary_crossentropy\", optimizer=\"Adam\", metrics=[\"accuracy\"])\n",
    "model.compile(loss=\"binary_crossentropy\", optimizer=\"Adam\", metrics=[\"accuracy\"])\n",
    "\n",
    "s = StandardScaler()\n",
    "X_train_scaled = s.fit_transform(X_train.astype('float32'))\n",
    "X_test_scaled = s.transform(X_test.astype('float32'))\n",
    "\n",
    "\n",
    "# Reshape labels if necessary (for example, for categorical crossentropy)\n",
    "y_train = np.expand_dims(y_train, axis=-1)\n",
    "y_test = np.expand_dims(y_test, axis=-1)\n",
    "history_scaled = model.fit(X_train_scaled, y_train, validation_data=(X_test_scaled, y_test), batch_size=32, epochs=100)\n",
    "\n",
    "\n"
   ],
   "outputs": [
    {
     "name": "stderr",
     "output_type": "stream",
     "text": [
      "D:\\Anaconda\\envs\\experiments\\lib\\site-packages\\keras\\src\\layers\\core\\dense.py:87: UserWarning: Do not pass an `input_shape`/`input_dim` argument to a layer. When using Sequential models, prefer using an `Input(shape)` object as the first layer in the model instead.\n",
      "  super().__init__(activity_regularizer=activity_regularizer, **kwargs)\n"
     ]
    },
    {
     "data": {
      "text/plain": [
       "\u001B[1mModel: \"sequential_1\"\u001B[0m\n"
      ],
      "text/html": [
       "<pre style=\"white-space:pre;overflow-x:auto;line-height:normal;font-family:Menlo,'DejaVu Sans Mono',consolas,'Courier New',monospace\"><span style=\"font-weight: bold\">Model: \"sequential_1\"</span>\n",
       "</pre>\n"
      ]
     },
     "metadata": {},
     "output_type": "display_data"
    },
    {
     "data": {
      "text/plain": [
       "┏━━━━━━━━━━━━━━━━━━━━━━━━━━━━━━━━━┳━━━━━━━━━━━━━━━━━━━━━━━━┳━━━━━━━━━━━━━━━┓\n",
       "┃\u001B[1m \u001B[0m\u001B[1mLayer (type)                   \u001B[0m\u001B[1m \u001B[0m┃\u001B[1m \u001B[0m\u001B[1mOutput Shape          \u001B[0m\u001B[1m \u001B[0m┃\u001B[1m \u001B[0m\u001B[1m      Param #\u001B[0m\u001B[1m \u001B[0m┃\n",
       "┡━━━━━━━━━━━━━━━━━━━━━━━━━━━━━━━━━╇━━━━━━━━━━━━━━━━━━━━━━━━╇━━━━━━━━━━━━━━━┩\n",
       "│ dense_4 (\u001B[38;5;33mDense\u001B[0m)                 │ (\u001B[38;5;45mNone\u001B[0m, \u001B[38;5;34m100\u001B[0m)            │         \u001B[38;5;34m4,200\u001B[0m │\n",
       "├─────────────────────────────────┼────────────────────────┼───────────────┤\n",
       "│ dense_5 (\u001B[38;5;33mDense\u001B[0m)                 │ (\u001B[38;5;45mNone\u001B[0m, \u001B[38;5;34m50\u001B[0m)             │         \u001B[38;5;34m5,050\u001B[0m │\n",
       "├─────────────────────────────────┼────────────────────────┼───────────────┤\n",
       "│ dense_6 (\u001B[38;5;33mDense\u001B[0m)                 │ (\u001B[38;5;45mNone\u001B[0m, \u001B[38;5;34m10\u001B[0m)             │           \u001B[38;5;34m510\u001B[0m │\n",
       "├─────────────────────────────────┼────────────────────────┼───────────────┤\n",
       "│ dense_7 (\u001B[38;5;33mDense\u001B[0m)                 │ (\u001B[38;5;45mNone\u001B[0m, \u001B[38;5;34m1\u001B[0m)              │            \u001B[38;5;34m11\u001B[0m │\n",
       "└─────────────────────────────────┴────────────────────────┴───────────────┘\n"
      ],
      "text/html": [
       "<pre style=\"white-space:pre;overflow-x:auto;line-height:normal;font-family:Menlo,'DejaVu Sans Mono',consolas,'Courier New',monospace\">┏━━━━━━━━━━━━━━━━━━━━━━━━━━━━━━━━━┳━━━━━━━━━━━━━━━━━━━━━━━━┳━━━━━━━━━━━━━━━┓\n",
       "┃<span style=\"font-weight: bold\"> Layer (type)                    </span>┃<span style=\"font-weight: bold\"> Output Shape           </span>┃<span style=\"font-weight: bold\">       Param # </span>┃\n",
       "┡━━━━━━━━━━━━━━━━━━━━━━━━━━━━━━━━━╇━━━━━━━━━━━━━━━━━━━━━━━━╇━━━━━━━━━━━━━━━┩\n",
       "│ dense_4 (<span style=\"color: #0087ff; text-decoration-color: #0087ff\">Dense</span>)                 │ (<span style=\"color: #00d7ff; text-decoration-color: #00d7ff\">None</span>, <span style=\"color: #00af00; text-decoration-color: #00af00\">100</span>)            │         <span style=\"color: #00af00; text-decoration-color: #00af00\">4,200</span> │\n",
       "├─────────────────────────────────┼────────────────────────┼───────────────┤\n",
       "│ dense_5 (<span style=\"color: #0087ff; text-decoration-color: #0087ff\">Dense</span>)                 │ (<span style=\"color: #00d7ff; text-decoration-color: #00d7ff\">None</span>, <span style=\"color: #00af00; text-decoration-color: #00af00\">50</span>)             │         <span style=\"color: #00af00; text-decoration-color: #00af00\">5,050</span> │\n",
       "├─────────────────────────────────┼────────────────────────┼───────────────┤\n",
       "│ dense_6 (<span style=\"color: #0087ff; text-decoration-color: #0087ff\">Dense</span>)                 │ (<span style=\"color: #00d7ff; text-decoration-color: #00d7ff\">None</span>, <span style=\"color: #00af00; text-decoration-color: #00af00\">10</span>)             │           <span style=\"color: #00af00; text-decoration-color: #00af00\">510</span> │\n",
       "├─────────────────────────────────┼────────────────────────┼───────────────┤\n",
       "│ dense_7 (<span style=\"color: #0087ff; text-decoration-color: #0087ff\">Dense</span>)                 │ (<span style=\"color: #00d7ff; text-decoration-color: #00d7ff\">None</span>, <span style=\"color: #00af00; text-decoration-color: #00af00\">1</span>)              │            <span style=\"color: #00af00; text-decoration-color: #00af00\">11</span> │\n",
       "└─────────────────────────────────┴────────────────────────┴───────────────┘\n",
       "</pre>\n"
      ]
     },
     "metadata": {},
     "output_type": "display_data"
    },
    {
     "data": {
      "text/plain": [
       "\u001B[1m Total params: \u001B[0m\u001B[38;5;34m9,771\u001B[0m (38.17 KB)\n"
      ],
      "text/html": [
       "<pre style=\"white-space:pre;overflow-x:auto;line-height:normal;font-family:Menlo,'DejaVu Sans Mono',consolas,'Courier New',monospace\"><span style=\"font-weight: bold\"> Total params: </span><span style=\"color: #00af00; text-decoration-color: #00af00\">9,771</span> (38.17 KB)\n",
       "</pre>\n"
      ]
     },
     "metadata": {},
     "output_type": "display_data"
    },
    {
     "data": {
      "text/plain": [
       "\u001B[1m Trainable params: \u001B[0m\u001B[38;5;34m9,771\u001B[0m (38.17 KB)\n"
      ],
      "text/html": [
       "<pre style=\"white-space:pre;overflow-x:auto;line-height:normal;font-family:Menlo,'DejaVu Sans Mono',consolas,'Courier New',monospace\"><span style=\"font-weight: bold\"> Trainable params: </span><span style=\"color: #00af00; text-decoration-color: #00af00\">9,771</span> (38.17 KB)\n",
       "</pre>\n"
      ]
     },
     "metadata": {},
     "output_type": "display_data"
    },
    {
     "data": {
      "text/plain": [
       "\u001B[1m Non-trainable params: \u001B[0m\u001B[38;5;34m0\u001B[0m (0.00 B)\n"
      ],
      "text/html": [
       "<pre style=\"white-space:pre;overflow-x:auto;line-height:normal;font-family:Menlo,'DejaVu Sans Mono',consolas,'Courier New',monospace\"><span style=\"font-weight: bold\"> Non-trainable params: </span><span style=\"color: #00af00; text-decoration-color: #00af00\">0</span> (0.00 B)\n",
       "</pre>\n"
      ]
     },
     "metadata": {},
     "output_type": "display_data"
    },
    {
     "name": "stdout",
     "output_type": "stream",
     "text": [
      "Epoch 1/100\n",
      "\u001B[1m943/943\u001B[0m \u001B[32m━━━━━━━━━━━━━━━━━━━━\u001B[0m\u001B[37m\u001B[0m \u001B[1m4s\u001B[0m 2ms/step - accuracy: 0.6966 - loss: 0.5864 - val_accuracy: 0.8422 - val_loss: 0.3627\n",
      "Epoch 2/100\n",
      "\u001B[1m943/943\u001B[0m \u001B[32m━━━━━━━━━━━━━━━━━━━━\u001B[0m\u001B[37m\u001B[0m \u001B[1m2s\u001B[0m 3ms/step - accuracy: 0.8424 - loss: 0.3556 - val_accuracy: 0.8461 - val_loss: 0.3426\n",
      "Epoch 3/100\n",
      "\u001B[1m943/943\u001B[0m \u001B[32m━━━━━━━━━━━━━━━━━━━━\u001B[0m\u001B[37m\u001B[0m \u001B[1m2s\u001B[0m 2ms/step - accuracy: 0.8466 - loss: 0.3363 - val_accuracy: 0.8479 - val_loss: 0.3312\n",
      "Epoch 4/100\n",
      "\u001B[1m943/943\u001B[0m \u001B[32m━━━━━━━━━━━━━━━━━━━━\u001B[0m\u001B[37m\u001B[0m \u001B[1m2s\u001B[0m 2ms/step - accuracy: 0.8486 - loss: 0.3276 - val_accuracy: 0.8479 - val_loss: 0.3271\n",
      "Epoch 5/100\n",
      "\u001B[1m943/943\u001B[0m \u001B[32m━━━━━━━━━━━━━━━━━━━━\u001B[0m\u001B[37m\u001B[0m \u001B[1m2s\u001B[0m 2ms/step - accuracy: 0.8514 - loss: 0.3194 - val_accuracy: 0.8485 - val_loss: 0.3239\n",
      "Epoch 6/100\n",
      "\u001B[1m943/943\u001B[0m \u001B[32m━━━━━━━━━━━━━━━━━━━━\u001B[0m\u001B[37m\u001B[0m \u001B[1m2s\u001B[0m 2ms/step - accuracy: 0.8515 - loss: 0.3214 - val_accuracy: 0.8507 - val_loss: 0.3242\n",
      "Epoch 7/100\n",
      "\u001B[1m943/943\u001B[0m \u001B[32m━━━━━━━━━━━━━━━━━━━━\u001B[0m\u001B[37m\u001B[0m \u001B[1m2s\u001B[0m 2ms/step - accuracy: 0.8535 - loss: 0.3151 - val_accuracy: 0.8496 - val_loss: 0.3215\n",
      "Epoch 8/100\n",
      "\u001B[1m943/943\u001B[0m \u001B[32m━━━━━━━━━━━━━━━━━━━━\u001B[0m\u001B[37m\u001B[0m \u001B[1m2s\u001B[0m 2ms/step - accuracy: 0.8501 - loss: 0.3203 - val_accuracy: 0.8510 - val_loss: 0.3198\n",
      "Epoch 9/100\n",
      "\u001B[1m943/943\u001B[0m \u001B[32m━━━━━━━━━━━━━━━━━━━━\u001B[0m\u001B[37m\u001B[0m \u001B[1m2s\u001B[0m 2ms/step - accuracy: 0.8547 - loss: 0.3137 - val_accuracy: 0.8513 - val_loss: 0.3188\n",
      "Epoch 10/100\n",
      "\u001B[1m943/943\u001B[0m \u001B[32m━━━━━━━━━━━━━━━━━━━━\u001B[0m\u001B[37m\u001B[0m \u001B[1m2s\u001B[0m 2ms/step - accuracy: 0.8550 - loss: 0.3108 - val_accuracy: 0.8492 - val_loss: 0.3197\n",
      "Epoch 11/100\n",
      "\u001B[1m943/943\u001B[0m \u001B[32m━━━━━━━━━━━━━━━━━━━━\u001B[0m\u001B[37m\u001B[0m \u001B[1m2s\u001B[0m 2ms/step - accuracy: 0.8557 - loss: 0.3118 - val_accuracy: 0.8503 - val_loss: 0.3186\n",
      "Epoch 12/100\n",
      "\u001B[1m943/943\u001B[0m \u001B[32m━━━━━━━━━━━━━━━━━━━━\u001B[0m\u001B[37m\u001B[0m \u001B[1m2s\u001B[0m 2ms/step - accuracy: 0.8514 - loss: 0.3154 - val_accuracy: 0.8476 - val_loss: 0.3265\n",
      "Epoch 13/100\n",
      "\u001B[1m943/943\u001B[0m \u001B[32m━━━━━━━━━━━━━━━━━━━━\u001B[0m\u001B[37m\u001B[0m \u001B[1m2s\u001B[0m 2ms/step - accuracy: 0.8594 - loss: 0.3067 - val_accuracy: 0.8504 - val_loss: 0.3178\n",
      "Epoch 14/100\n",
      "\u001B[1m943/943\u001B[0m \u001B[32m━━━━━━━━━━━━━━━━━━━━\u001B[0m\u001B[37m\u001B[0m \u001B[1m2s\u001B[0m 2ms/step - accuracy: 0.8557 - loss: 0.3078 - val_accuracy: 0.8509 - val_loss: 0.3191\n",
      "Epoch 15/100\n",
      "\u001B[1m943/943\u001B[0m \u001B[32m━━━━━━━━━━━━━━━━━━━━\u001B[0m\u001B[37m\u001B[0m \u001B[1m2s\u001B[0m 2ms/step - accuracy: 0.8573 - loss: 0.3059 - val_accuracy: 0.8519 - val_loss: 0.3174\n",
      "Epoch 16/100\n",
      "\u001B[1m943/943\u001B[0m \u001B[32m━━━━━━━━━━━━━━━━━━━━\u001B[0m\u001B[37m\u001B[0m \u001B[1m2s\u001B[0m 2ms/step - accuracy: 0.8562 - loss: 0.3032 - val_accuracy: 0.8496 - val_loss: 0.3193\n",
      "Epoch 17/100\n",
      "\u001B[1m943/943\u001B[0m \u001B[32m━━━━━━━━━━━━━━━━━━━━\u001B[0m\u001B[37m\u001B[0m \u001B[1m2s\u001B[0m 2ms/step - accuracy: 0.8576 - loss: 0.3042 - val_accuracy: 0.8511 - val_loss: 0.3176\n",
      "Epoch 18/100\n",
      "\u001B[1m943/943\u001B[0m \u001B[32m━━━━━━━━━━━━━━━━━━━━\u001B[0m\u001B[37m\u001B[0m \u001B[1m2s\u001B[0m 2ms/step - accuracy: 0.8606 - loss: 0.3012 - val_accuracy: 0.8512 - val_loss: 0.3166\n",
      "Epoch 19/100\n",
      "\u001B[1m943/943\u001B[0m \u001B[32m━━━━━━━━━━━━━━━━━━━━\u001B[0m\u001B[37m\u001B[0m \u001B[1m3s\u001B[0m 3ms/step - accuracy: 0.8540 - loss: 0.3081 - val_accuracy: 0.8510 - val_loss: 0.3184\n",
      "Epoch 20/100\n",
      "\u001B[1m943/943\u001B[0m \u001B[32m━━━━━━━━━━━━━━━━━━━━\u001B[0m\u001B[37m\u001B[0m \u001B[1m5s\u001B[0m 2ms/step - accuracy: 0.8574 - loss: 0.3040 - val_accuracy: 0.8523 - val_loss: 0.3182\n",
      "Epoch 21/100\n",
      "\u001B[1m943/943\u001B[0m \u001B[32m━━━━━━━━━━━━━━━━━━━━\u001B[0m\u001B[37m\u001B[0m \u001B[1m2s\u001B[0m 2ms/step - accuracy: 0.8569 - loss: 0.3054 - val_accuracy: 0.8505 - val_loss: 0.3176\n",
      "Epoch 22/100\n",
      "\u001B[1m943/943\u001B[0m \u001B[32m━━━━━━━━━━━━━━━━━━━━\u001B[0m\u001B[37m\u001B[0m \u001B[1m3s\u001B[0m 3ms/step - accuracy: 0.8609 - loss: 0.3003 - val_accuracy: 0.8500 - val_loss: 0.3172\n",
      "Epoch 23/100\n",
      "\u001B[1m943/943\u001B[0m \u001B[32m━━━━━━━━━━━━━━━━━━━━\u001B[0m\u001B[37m\u001B[0m \u001B[1m3s\u001B[0m 3ms/step - accuracy: 0.8588 - loss: 0.2996 - val_accuracy: 0.8501 - val_loss: 0.3184\n",
      "Epoch 24/100\n",
      "\u001B[1m943/943\u001B[0m \u001B[32m━━━━━━━━━━━━━━━━━━━━\u001B[0m\u001B[37m\u001B[0m \u001B[1m3s\u001B[0m 3ms/step - accuracy: 0.8589 - loss: 0.2971 - val_accuracy: 0.8531 - val_loss: 0.3157\n",
      "Epoch 25/100\n",
      "\u001B[1m943/943\u001B[0m \u001B[32m━━━━━━━━━━━━━━━━━━━━\u001B[0m\u001B[37m\u001B[0m \u001B[1m3s\u001B[0m 3ms/step - accuracy: 0.8586 - loss: 0.2980 - val_accuracy: 0.8514 - val_loss: 0.3182\n",
      "Epoch 26/100\n",
      "\u001B[1m943/943\u001B[0m \u001B[32m━━━━━━━━━━━━━━━━━━━━\u001B[0m\u001B[37m\u001B[0m \u001B[1m2s\u001B[0m 2ms/step - accuracy: 0.8629 - loss: 0.2953 - val_accuracy: 0.8514 - val_loss: 0.3179\n",
      "Epoch 27/100\n",
      "\u001B[1m943/943\u001B[0m \u001B[32m━━━━━━━━━━━━━━━━━━━━\u001B[0m\u001B[37m\u001B[0m \u001B[1m2s\u001B[0m 3ms/step - accuracy: 0.8599 - loss: 0.2986 - val_accuracy: 0.8505 - val_loss: 0.3203\n",
      "Epoch 28/100\n",
      "\u001B[1m943/943\u001B[0m \u001B[32m━━━━━━━━━━━━━━━━━━━━\u001B[0m\u001B[37m\u001B[0m \u001B[1m3s\u001B[0m 3ms/step - accuracy: 0.8638 - loss: 0.2934 - val_accuracy: 0.8526 - val_loss: 0.3184\n",
      "Epoch 29/100\n",
      "\u001B[1m943/943\u001B[0m \u001B[32m━━━━━━━━━━━━━━━━━━━━\u001B[0m\u001B[37m\u001B[0m \u001B[1m2s\u001B[0m 2ms/step - accuracy: 0.8676 - loss: 0.2877 - val_accuracy: 0.8533 - val_loss: 0.3174\n",
      "Epoch 30/100\n",
      "\u001B[1m943/943\u001B[0m \u001B[32m━━━━━━━━━━━━━━━━━━━━\u001B[0m\u001B[37m\u001B[0m \u001B[1m2s\u001B[0m 3ms/step - accuracy: 0.8609 - loss: 0.2950 - val_accuracy: 0.8516 - val_loss: 0.3221\n",
      "Epoch 31/100\n",
      "\u001B[1m943/943\u001B[0m \u001B[32m━━━━━━━━━━━━━━━━━━━━\u001B[0m\u001B[37m\u001B[0m \u001B[1m2s\u001B[0m 2ms/step - accuracy: 0.8641 - loss: 0.2879 - val_accuracy: 0.8485 - val_loss: 0.3256\n",
      "Epoch 32/100\n",
      "\u001B[1m943/943\u001B[0m \u001B[32m━━━━━━━━━━━━━━━━━━━━\u001B[0m\u001B[37m\u001B[0m \u001B[1m3s\u001B[0m 3ms/step - accuracy: 0.8667 - loss: 0.2889 - val_accuracy: 0.8493 - val_loss: 0.3218\n",
      "Epoch 33/100\n",
      "\u001B[1m943/943\u001B[0m \u001B[32m━━━━━━━━━━━━━━━━━━━━\u001B[0m\u001B[37m\u001B[0m \u001B[1m3s\u001B[0m 3ms/step - accuracy: 0.8672 - loss: 0.2856 - val_accuracy: 0.8511 - val_loss: 0.3219\n",
      "Epoch 34/100\n",
      "\u001B[1m943/943\u001B[0m \u001B[32m━━━━━━━━━━━━━━━━━━━━\u001B[0m\u001B[37m\u001B[0m \u001B[1m2s\u001B[0m 2ms/step - accuracy: 0.8659 - loss: 0.2886 - val_accuracy: 0.8501 - val_loss: 0.3225\n",
      "Epoch 35/100\n",
      "\u001B[1m943/943\u001B[0m \u001B[32m━━━━━━━━━━━━━━━━━━━━\u001B[0m\u001B[37m\u001B[0m \u001B[1m2s\u001B[0m 2ms/step - accuracy: 0.8687 - loss: 0.2843 - val_accuracy: 0.8513 - val_loss: 0.3246\n",
      "Epoch 36/100\n",
      "\u001B[1m943/943\u001B[0m \u001B[32m━━━━━━━━━━━━━━━━━━━━\u001B[0m\u001B[37m\u001B[0m \u001B[1m3s\u001B[0m 3ms/step - accuracy: 0.8664 - loss: 0.2864 - val_accuracy: 0.8502 - val_loss: 0.3263\n",
      "Epoch 37/100\n",
      "\u001B[1m943/943\u001B[0m \u001B[32m━━━━━━━━━━━━━━━━━━━━\u001B[0m\u001B[37m\u001B[0m \u001B[1m2s\u001B[0m 2ms/step - accuracy: 0.8690 - loss: 0.2779 - val_accuracy: 0.8506 - val_loss: 0.3240\n",
      "Epoch 38/100\n",
      "\u001B[1m943/943\u001B[0m \u001B[32m━━━━━━━━━━━━━━━━━━━━\u001B[0m\u001B[37m\u001B[0m \u001B[1m2s\u001B[0m 3ms/step - accuracy: 0.8673 - loss: 0.2854 - val_accuracy: 0.8505 - val_loss: 0.3259\n",
      "Epoch 39/100\n",
      "\u001B[1m943/943\u001B[0m \u001B[32m━━━━━━━━━━━━━━━━━━━━\u001B[0m\u001B[37m\u001B[0m \u001B[1m2s\u001B[0m 2ms/step - accuracy: 0.8667 - loss: 0.2804 - val_accuracy: 0.8520 - val_loss: 0.3259\n",
      "Epoch 40/100\n",
      "\u001B[1m943/943\u001B[0m \u001B[32m━━━━━━━━━━━━━━━━━━━━\u001B[0m\u001B[37m\u001B[0m \u001B[1m3s\u001B[0m 3ms/step - accuracy: 0.8682 - loss: 0.2795 - val_accuracy: 0.8517 - val_loss: 0.3253\n",
      "Epoch 41/100\n",
      "\u001B[1m943/943\u001B[0m \u001B[32m━━━━━━━━━━━━━━━━━━━━\u001B[0m\u001B[37m\u001B[0m \u001B[1m2s\u001B[0m 2ms/step - accuracy: 0.8662 - loss: 0.2826 - val_accuracy: 0.8505 - val_loss: 0.3277\n",
      "Epoch 42/100\n",
      "\u001B[1m943/943\u001B[0m \u001B[32m━━━━━━━━━━━━━━━━━━━━\u001B[0m\u001B[37m\u001B[0m \u001B[1m3s\u001B[0m 3ms/step - accuracy: 0.8639 - loss: 0.2856 - val_accuracy: 0.8503 - val_loss: 0.3294\n",
      "Epoch 43/100\n",
      "\u001B[1m943/943\u001B[0m \u001B[32m━━━━━━━━━━━━━━━━━━━━\u001B[0m\u001B[37m\u001B[0m \u001B[1m2s\u001B[0m 3ms/step - accuracy: 0.8693 - loss: 0.2782 - val_accuracy: 0.8504 - val_loss: 0.3300\n",
      "Epoch 44/100\n",
      "\u001B[1m943/943\u001B[0m \u001B[32m━━━━━━━━━━━━━━━━━━━━\u001B[0m\u001B[37m\u001B[0m \u001B[1m2s\u001B[0m 2ms/step - accuracy: 0.8721 - loss: 0.2794 - val_accuracy: 0.8509 - val_loss: 0.3307\n",
      "Epoch 45/100\n",
      "\u001B[1m943/943\u001B[0m \u001B[32m━━━━━━━━━━━━━━━━━━━━\u001B[0m\u001B[37m\u001B[0m \u001B[1m2s\u001B[0m 2ms/step - accuracy: 0.8703 - loss: 0.2779 - val_accuracy: 0.8510 - val_loss: 0.3325\n",
      "Epoch 46/100\n",
      "\u001B[1m943/943\u001B[0m \u001B[32m━━━━━━━━━━━━━━━━━━━━\u001B[0m\u001B[37m\u001B[0m \u001B[1m7s\u001B[0m 8ms/step - accuracy: 0.8681 - loss: 0.2796 - val_accuracy: 0.8503 - val_loss: 0.3340\n",
      "Epoch 47/100\n",
      "\u001B[1m943/943\u001B[0m \u001B[32m━━━━━━━━━━━━━━━━━━━━\u001B[0m\u001B[37m\u001B[0m \u001B[1m7s\u001B[0m 6ms/step - accuracy: 0.8684 - loss: 0.2790 - val_accuracy: 0.8496 - val_loss: 0.3325\n",
      "Epoch 48/100\n",
      "\u001B[1m943/943\u001B[0m \u001B[32m━━━━━━━━━━━━━━━━━━━━\u001B[0m\u001B[37m\u001B[0m \u001B[1m8s\u001B[0m 8ms/step - accuracy: 0.8683 - loss: 0.2774 - val_accuracy: 0.8506 - val_loss: 0.3346\n",
      "Epoch 49/100\n",
      "\u001B[1m943/943\u001B[0m \u001B[32m━━━━━━━━━━━━━━━━━━━━\u001B[0m\u001B[37m\u001B[0m \u001B[1m5s\u001B[0m 5ms/step - accuracy: 0.8705 - loss: 0.2741 - val_accuracy: 0.8475 - val_loss: 0.3351\n",
      "Epoch 50/100\n",
      "\u001B[1m943/943\u001B[0m \u001B[32m━━━━━━━━━━━━━━━━━━━━\u001B[0m\u001B[37m\u001B[0m \u001B[1m7s\u001B[0m 8ms/step - accuracy: 0.8721 - loss: 0.2739 - val_accuracy: 0.8513 - val_loss: 0.3327\n",
      "Epoch 51/100\n",
      "\u001B[1m943/943\u001B[0m \u001B[32m━━━━━━━━━━━━━━━━━━━━\u001B[0m\u001B[37m\u001B[0m \u001B[1m9s\u001B[0m 8ms/step - accuracy: 0.8701 - loss: 0.2779 - val_accuracy: 0.8479 - val_loss: 0.3372\n",
      "Epoch 52/100\n",
      "\u001B[1m943/943\u001B[0m \u001B[32m━━━━━━━━━━━━━━━━━━━━\u001B[0m\u001B[37m\u001B[0m \u001B[1m8s\u001B[0m 8ms/step - accuracy: 0.8743 - loss: 0.2710 - val_accuracy: 0.8480 - val_loss: 0.3370\n",
      "Epoch 53/100\n",
      "\u001B[1m943/943\u001B[0m \u001B[32m━━━━━━━━━━━━━━━━━━━━\u001B[0m\u001B[37m\u001B[0m \u001B[1m8s\u001B[0m 5ms/step - accuracy: 0.8704 - loss: 0.2741 - val_accuracy: 0.8467 - val_loss: 0.3402\n",
      "Epoch 54/100\n",
      "\u001B[1m943/943\u001B[0m \u001B[32m━━━━━━━━━━━━━━━━━━━━\u001B[0m\u001B[37m\u001B[0m \u001B[1m8s\u001B[0m 8ms/step - accuracy: 0.8770 - loss: 0.2636 - val_accuracy: 0.8484 - val_loss: 0.3418\n",
      "Epoch 55/100\n",
      "\u001B[1m943/943\u001B[0m \u001B[32m━━━━━━━━━━━━━━━━━━━━\u001B[0m\u001B[37m\u001B[0m \u001B[1m8s\u001B[0m 5ms/step - accuracy: 0.8727 - loss: 0.2719 - val_accuracy: 0.8502 - val_loss: 0.3391\n",
      "Epoch 56/100\n",
      "\u001B[1m943/943\u001B[0m \u001B[32m━━━━━━━━━━━━━━━━━━━━\u001B[0m\u001B[37m\u001B[0m \u001B[1m8s\u001B[0m 8ms/step - accuracy: 0.8722 - loss: 0.2717 - val_accuracy: 0.8483 - val_loss: 0.3476\n",
      "Epoch 57/100\n",
      "\u001B[1m943/943\u001B[0m \u001B[32m━━━━━━━━━━━━━━━━━━━━\u001B[0m\u001B[37m\u001B[0m \u001B[1m9s\u001B[0m 9ms/step - accuracy: 0.8722 - loss: 0.2683 - val_accuracy: 0.8398 - val_loss: 0.3507\n",
      "Epoch 58/100\n",
      "\u001B[1m943/943\u001B[0m \u001B[32m━━━━━━━━━━━━━━━━━━━━\u001B[0m\u001B[37m\u001B[0m \u001B[1m11s\u001B[0m 10ms/step - accuracy: 0.8736 - loss: 0.2684 - val_accuracy: 0.8461 - val_loss: 0.3467\n",
      "Epoch 59/100\n",
      "\u001B[1m943/943\u001B[0m \u001B[32m━━━━━━━━━━━━━━━━━━━━\u001B[0m\u001B[37m\u001B[0m \u001B[1m10s\u001B[0m 9ms/step - accuracy: 0.8737 - loss: 0.2694 - val_accuracy: 0.8472 - val_loss: 0.3457\n",
      "Epoch 60/100\n",
      "\u001B[1m943/943\u001B[0m \u001B[32m━━━━━━━━━━━━━━━━━━━━\u001B[0m\u001B[37m\u001B[0m \u001B[1m7s\u001B[0m 5ms/step - accuracy: 0.8730 - loss: 0.2651 - val_accuracy: 0.8463 - val_loss: 0.3468\n",
      "Epoch 61/100\n",
      "\u001B[1m943/943\u001B[0m \u001B[32m━━━━━━━━━━━━━━━━━━━━\u001B[0m\u001B[37m\u001B[0m \u001B[1m9s\u001B[0m 10ms/step - accuracy: 0.8746 - loss: 0.2651 - val_accuracy: 0.8463 - val_loss: 0.3468\n",
      "Epoch 62/100\n",
      "\u001B[1m943/943\u001B[0m \u001B[32m━━━━━━━━━━━━━━━━━━━━\u001B[0m\u001B[37m\u001B[0m \u001B[1m11s\u001B[0m 10ms/step - accuracy: 0.8751 - loss: 0.2654 - val_accuracy: 0.8448 - val_loss: 0.3500\n",
      "Epoch 63/100\n",
      "\u001B[1m943/943\u001B[0m \u001B[32m━━━━━━━━━━━━━━━━━━━━\u001B[0m\u001B[37m\u001B[0m \u001B[1m12s\u001B[0m 11ms/step - accuracy: 0.8719 - loss: 0.2657 - val_accuracy: 0.8444 - val_loss: 0.3511\n",
      "Epoch 64/100\n",
      "\u001B[1m943/943\u001B[0m \u001B[32m━━━━━━━━━━━━━━━━━━━━\u001B[0m\u001B[37m\u001B[0m \u001B[1m13s\u001B[0m 2ms/step - accuracy: 0.8711 - loss: 0.2663 - val_accuracy: 0.8448 - val_loss: 0.3553\n",
      "Epoch 65/100\n",
      "\u001B[1m943/943\u001B[0m \u001B[32m━━━━━━━━━━━━━━━━━━━━\u001B[0m\u001B[37m\u001B[0m \u001B[1m2s\u001B[0m 2ms/step - accuracy: 0.8752 - loss: 0.2630 - val_accuracy: 0.8438 - val_loss: 0.3544\n",
      "Epoch 66/100\n",
      "\u001B[1m943/943\u001B[0m \u001B[32m━━━━━━━━━━━━━━━━━━━━\u001B[0m\u001B[37m\u001B[0m \u001B[1m2s\u001B[0m 2ms/step - accuracy: 0.8749 - loss: 0.2626 - val_accuracy: 0.8466 - val_loss: 0.3569\n",
      "Epoch 67/100\n",
      "\u001B[1m943/943\u001B[0m \u001B[32m━━━━━━━━━━━━━━━━━━━━\u001B[0m\u001B[37m\u001B[0m \u001B[1m2s\u001B[0m 2ms/step - accuracy: 0.8732 - loss: 0.2643 - val_accuracy: 0.8477 - val_loss: 0.3540\n",
      "Epoch 68/100\n",
      "\u001B[1m943/943\u001B[0m \u001B[32m━━━━━━━━━━━━━━━━━━━━\u001B[0m\u001B[37m\u001B[0m \u001B[1m2s\u001B[0m 2ms/step - accuracy: 0.8772 - loss: 0.2576 - val_accuracy: 0.8430 - val_loss: 0.3636\n",
      "Epoch 69/100\n",
      "\u001B[1m943/943\u001B[0m \u001B[32m━━━━━━━━━━━━━━━━━━━━\u001B[0m\u001B[37m\u001B[0m \u001B[1m2s\u001B[0m 2ms/step - accuracy: 0.8788 - loss: 0.2556 - val_accuracy: 0.8420 - val_loss: 0.3633\n",
      "Epoch 70/100\n",
      "\u001B[1m943/943\u001B[0m \u001B[32m━━━━━━━━━━━━━━━━━━━━\u001B[0m\u001B[37m\u001B[0m \u001B[1m2s\u001B[0m 2ms/step - accuracy: 0.8785 - loss: 0.2564 - val_accuracy: 0.8431 - val_loss: 0.3627\n",
      "Epoch 71/100\n",
      "\u001B[1m943/943\u001B[0m \u001B[32m━━━━━━━━━━━━━━━━━━━━\u001B[0m\u001B[37m\u001B[0m \u001B[1m2s\u001B[0m 2ms/step - accuracy: 0.8778 - loss: 0.2594 - val_accuracy: 0.8459 - val_loss: 0.3622\n",
      "Epoch 72/100\n",
      "\u001B[1m943/943\u001B[0m \u001B[32m━━━━━━━━━━━━━━━━━━━━\u001B[0m\u001B[37m\u001B[0m \u001B[1m2s\u001B[0m 2ms/step - accuracy: 0.8773 - loss: 0.2557 - val_accuracy: 0.8452 - val_loss: 0.3649\n",
      "Epoch 73/100\n",
      "\u001B[1m943/943\u001B[0m \u001B[32m━━━━━━━━━━━━━━━━━━━━\u001B[0m\u001B[37m\u001B[0m \u001B[1m2s\u001B[0m 2ms/step - accuracy: 0.8789 - loss: 0.2551 - val_accuracy: 0.8446 - val_loss: 0.3657\n",
      "Epoch 74/100\n",
      "\u001B[1m943/943\u001B[0m \u001B[32m━━━━━━━━━━━━━━━━━━━━\u001B[0m\u001B[37m\u001B[0m \u001B[1m2s\u001B[0m 2ms/step - accuracy: 0.8788 - loss: 0.2557 - val_accuracy: 0.8435 - val_loss: 0.3675\n",
      "Epoch 75/100\n",
      "\u001B[1m943/943\u001B[0m \u001B[32m━━━━━━━━━━━━━━━━━━━━\u001B[0m\u001B[37m\u001B[0m \u001B[1m2s\u001B[0m 2ms/step - accuracy: 0.8773 - loss: 0.2586 - val_accuracy: 0.8422 - val_loss: 0.3713\n",
      "Epoch 76/100\n",
      "\u001B[1m943/943\u001B[0m \u001B[32m━━━━━━━━━━━━━━━━━━━━\u001B[0m\u001B[37m\u001B[0m \u001B[1m2s\u001B[0m 2ms/step - accuracy: 0.8819 - loss: 0.2494 - val_accuracy: 0.8436 - val_loss: 0.3710\n",
      "Epoch 77/100\n",
      "\u001B[1m943/943\u001B[0m \u001B[32m━━━━━━━━━━━━━━━━━━━━\u001B[0m\u001B[37m\u001B[0m \u001B[1m2s\u001B[0m 2ms/step - accuracy: 0.8779 - loss: 0.2553 - val_accuracy: 0.8431 - val_loss: 0.3738\n",
      "Epoch 78/100\n",
      "\u001B[1m943/943\u001B[0m \u001B[32m━━━━━━━━━━━━━━━━━━━━\u001B[0m\u001B[37m\u001B[0m \u001B[1m2s\u001B[0m 2ms/step - accuracy: 0.8764 - loss: 0.2593 - val_accuracy: 0.8451 - val_loss: 0.3757\n",
      "Epoch 79/100\n",
      "\u001B[1m943/943\u001B[0m \u001B[32m━━━━━━━━━━━━━━━━━━━━\u001B[0m\u001B[37m\u001B[0m \u001B[1m2s\u001B[0m 2ms/step - accuracy: 0.8799 - loss: 0.2524 - val_accuracy: 0.8420 - val_loss: 0.3720\n",
      "Epoch 80/100\n",
      "\u001B[1m943/943\u001B[0m \u001B[32m━━━━━━━━━━━━━━━━━━━━\u001B[0m\u001B[37m\u001B[0m \u001B[1m2s\u001B[0m 2ms/step - accuracy: 0.8789 - loss: 0.2539 - val_accuracy: 0.8436 - val_loss: 0.3769\n",
      "Epoch 81/100\n",
      "\u001B[1m943/943\u001B[0m \u001B[32m━━━━━━━━━━━━━━━━━━━━\u001B[0m\u001B[37m\u001B[0m \u001B[1m2s\u001B[0m 2ms/step - accuracy: 0.8763 - loss: 0.2533 - val_accuracy: 0.8375 - val_loss: 0.3875\n",
      "Epoch 82/100\n",
      "\u001B[1m943/943\u001B[0m \u001B[32m━━━━━━━━━━━━━━━━━━━━\u001B[0m\u001B[37m\u001B[0m \u001B[1m2s\u001B[0m 2ms/step - accuracy: 0.8816 - loss: 0.2494 - val_accuracy: 0.8471 - val_loss: 0.3833\n",
      "Epoch 83/100\n",
      "\u001B[1m943/943\u001B[0m \u001B[32m━━━━━━━━━━━━━━━━━━━━\u001B[0m\u001B[37m\u001B[0m \u001B[1m2s\u001B[0m 2ms/step - accuracy: 0.8833 - loss: 0.2471 - val_accuracy: 0.8434 - val_loss: 0.3739\n",
      "Epoch 84/100\n",
      "\u001B[1m943/943\u001B[0m \u001B[32m━━━━━━━━━━━━━━━━━━━━\u001B[0m\u001B[37m\u001B[0m \u001B[1m2s\u001B[0m 2ms/step - accuracy: 0.8823 - loss: 0.2461 - val_accuracy: 0.8421 - val_loss: 0.3777\n",
      "Epoch 85/100\n",
      "\u001B[1m943/943\u001B[0m \u001B[32m━━━━━━━━━━━━━━━━━━━━\u001B[0m\u001B[37m\u001B[0m \u001B[1m2s\u001B[0m 2ms/step - accuracy: 0.8793 - loss: 0.2502 - val_accuracy: 0.8412 - val_loss: 0.3867\n",
      "Epoch 86/100\n",
      "\u001B[1m943/943\u001B[0m \u001B[32m━━━━━━━━━━━━━━━━━━━━\u001B[0m\u001B[37m\u001B[0m \u001B[1m2s\u001B[0m 3ms/step - accuracy: 0.8797 - loss: 0.2484 - val_accuracy: 0.8441 - val_loss: 0.3819\n",
      "Epoch 87/100\n",
      "\u001B[1m943/943\u001B[0m \u001B[32m━━━━━━━━━━━━━━━━━━━━\u001B[0m\u001B[37m\u001B[0m \u001B[1m2s\u001B[0m 2ms/step - accuracy: 0.8788 - loss: 0.2476 - val_accuracy: 0.8434 - val_loss: 0.3867\n",
      "Epoch 88/100\n",
      "\u001B[1m943/943\u001B[0m \u001B[32m━━━━━━━━━━━━━━━━━━━━\u001B[0m\u001B[37m\u001B[0m \u001B[1m2s\u001B[0m 2ms/step - accuracy: 0.8846 - loss: 0.2459 - val_accuracy: 0.8429 - val_loss: 0.3870\n",
      "Epoch 89/100\n",
      "\u001B[1m943/943\u001B[0m \u001B[32m━━━━━━━━━━━━━━━━━━━━\u001B[0m\u001B[37m\u001B[0m \u001B[1m2s\u001B[0m 2ms/step - accuracy: 0.8807 - loss: 0.2494 - val_accuracy: 0.8440 - val_loss: 0.3900\n",
      "Epoch 90/100\n",
      "\u001B[1m943/943\u001B[0m \u001B[32m━━━━━━━━━━━━━━━━━━━━\u001B[0m\u001B[37m\u001B[0m \u001B[1m2s\u001B[0m 2ms/step - accuracy: 0.8860 - loss: 0.2430 - val_accuracy: 0.8419 - val_loss: 0.3915\n",
      "Epoch 91/100\n",
      "\u001B[1m943/943\u001B[0m \u001B[32m━━━━━━━━━━━━━━━━━━━━\u001B[0m\u001B[37m\u001B[0m \u001B[1m2s\u001B[0m 2ms/step - accuracy: 0.8813 - loss: 0.2460 - val_accuracy: 0.8436 - val_loss: 0.3927\n",
      "Epoch 92/100\n",
      "\u001B[1m943/943\u001B[0m \u001B[32m━━━━━━━━━━━━━━━━━━━━\u001B[0m\u001B[37m\u001B[0m \u001B[1m2s\u001B[0m 2ms/step - accuracy: 0.8830 - loss: 0.2416 - val_accuracy: 0.8449 - val_loss: 0.3938\n",
      "Epoch 93/100\n",
      "\u001B[1m943/943\u001B[0m \u001B[32m━━━━━━━━━━━━━━━━━━━━\u001B[0m\u001B[37m\u001B[0m \u001B[1m2s\u001B[0m 2ms/step - accuracy: 0.8872 - loss: 0.2420 - val_accuracy: 0.8420 - val_loss: 0.3890\n",
      "Epoch 94/100\n",
      "\u001B[1m943/943\u001B[0m \u001B[32m━━━━━━━━━━━━━━━━━━━━\u001B[0m\u001B[37m\u001B[0m \u001B[1m2s\u001B[0m 2ms/step - accuracy: 0.8839 - loss: 0.2406 - val_accuracy: 0.8387 - val_loss: 0.3918\n",
      "Epoch 95/100\n",
      "\u001B[1m943/943\u001B[0m \u001B[32m━━━━━━━━━━━━━━━━━━━━\u001B[0m\u001B[37m\u001B[0m \u001B[1m2s\u001B[0m 3ms/step - accuracy: 0.8826 - loss: 0.2433 - val_accuracy: 0.8450 - val_loss: 0.3901\n",
      "Epoch 96/100\n",
      "\u001B[1m943/943\u001B[0m \u001B[32m━━━━━━━━━━━━━━━━━━━━\u001B[0m\u001B[37m\u001B[0m \u001B[1m2s\u001B[0m 2ms/step - accuracy: 0.8820 - loss: 0.2445 - val_accuracy: 0.8432 - val_loss: 0.4009\n",
      "Epoch 97/100\n",
      "\u001B[1m943/943\u001B[0m \u001B[32m━━━━━━━━━━━━━━━━━━━━\u001B[0m\u001B[37m\u001B[0m \u001B[1m2s\u001B[0m 2ms/step - accuracy: 0.8834 - loss: 0.2411 - val_accuracy: 0.8443 - val_loss: 0.4006\n",
      "Epoch 98/100\n",
      "\u001B[1m943/943\u001B[0m \u001B[32m━━━━━━━━━━━━━━━━━━━━\u001B[0m\u001B[37m\u001B[0m \u001B[1m2s\u001B[0m 2ms/step - accuracy: 0.8866 - loss: 0.2391 - val_accuracy: 0.8435 - val_loss: 0.3985\n",
      "Epoch 99/100\n",
      "\u001B[1m943/943\u001B[0m \u001B[32m━━━━━━━━━━━━━━━━━━━━\u001B[0m\u001B[37m\u001B[0m \u001B[1m3s\u001B[0m 3ms/step - accuracy: 0.8870 - loss: 0.2410 - val_accuracy: 0.8398 - val_loss: 0.4050\n",
      "Epoch 100/100\n",
      "\u001B[1m943/943\u001B[0m \u001B[32m━━━━━━━━━━━━━━━━━━━━\u001B[0m\u001B[37m\u001B[0m \u001B[1m2s\u001B[0m 2ms/step - accuracy: 0.8856 - loss: 0.2389 - val_accuracy: 0.8412 - val_loss: 0.4049\n"
     ]
    }
   ],
   "execution_count": 13
  },
  {
   "metadata": {
    "ExecuteTime": {
     "end_time": "2025-05-19T21:21:08.566106Z",
     "start_time": "2025-05-19T21:21:07.066110Z"
    }
   },
   "cell_type": "code",
   "source": [
    "pd.DataFrame(history.history).plot(figsize=(8, 5))\n",
    "plt.grid(True)\n",
    "plt.gca().set_ylim(0, 1)\n",
    "plt.show()\n",
    "\n",
    "model.evaluate(X_test,y_test)\n",
    "\n",
    "y_pred = model.predict(X_test)\n",
    "\n",
    "# Assuming a binary classification problem\n",
    "y_pred = (y_pred > 0.5).astype(int)\n",
    "\n",
    "# Calculate accuracy\n",
    "accuracy = metrics.accuracy_score(y_test, y_pred)\n",
    "print(accuracy)"
   ],
   "outputs": [
    {
     "ename": "TypeError",
     "evalue": "no numeric data to plot",
     "output_type": "error",
     "traceback": [
      "\u001B[1;31m---------------------------------------------------------------------------\u001B[0m",
      "\u001B[1;31mTypeError\u001B[0m                                 Traceback (most recent call last)",
      "Cell \u001B[1;32mIn[14], line 1\u001B[0m\n\u001B[1;32m----> 1\u001B[0m \u001B[43mpd\u001B[49m\u001B[38;5;241;43m.\u001B[39;49m\u001B[43mDataFrame\u001B[49m\u001B[43m(\u001B[49m\u001B[43mhistory\u001B[49m\u001B[38;5;241;43m.\u001B[39;49m\u001B[43mhistory\u001B[49m\u001B[43m)\u001B[49m\u001B[38;5;241;43m.\u001B[39;49m\u001B[43mplot\u001B[49m\u001B[43m(\u001B[49m\u001B[43mfigsize\u001B[49m\u001B[38;5;241;43m=\u001B[39;49m\u001B[43m(\u001B[49m\u001B[38;5;241;43m8\u001B[39;49m\u001B[43m,\u001B[49m\u001B[43m \u001B[49m\u001B[38;5;241;43m5\u001B[39;49m\u001B[43m)\u001B[49m\u001B[43m)\u001B[49m\n\u001B[0;32m      2\u001B[0m plt\u001B[38;5;241m.\u001B[39mgrid(\u001B[38;5;28;01mTrue\u001B[39;00m)\n\u001B[0;32m      3\u001B[0m plt\u001B[38;5;241m.\u001B[39mgca()\u001B[38;5;241m.\u001B[39mset_ylim(\u001B[38;5;241m0\u001B[39m, \u001B[38;5;241m1\u001B[39m)\n",
      "File \u001B[1;32mD:\\Anaconda\\envs\\experiments\\lib\\site-packages\\pandas\\plotting\\_core.py:1030\u001B[0m, in \u001B[0;36mPlotAccessor.__call__\u001B[1;34m(self, *args, **kwargs)\u001B[0m\n\u001B[0;32m   1027\u001B[0m             label_name \u001B[38;5;241m=\u001B[39m label_kw \u001B[38;5;129;01mor\u001B[39;00m data\u001B[38;5;241m.\u001B[39mcolumns\n\u001B[0;32m   1028\u001B[0m             data\u001B[38;5;241m.\u001B[39mcolumns \u001B[38;5;241m=\u001B[39m label_name\n\u001B[1;32m-> 1030\u001B[0m \u001B[38;5;28;01mreturn\u001B[39;00m plot_backend\u001B[38;5;241m.\u001B[39mplot(data, kind\u001B[38;5;241m=\u001B[39mkind, \u001B[38;5;241m*\u001B[39m\u001B[38;5;241m*\u001B[39mkwargs)\n",
      "File \u001B[1;32mD:\\Anaconda\\envs\\experiments\\lib\\site-packages\\pandas\\plotting\\_matplotlib\\__init__.py:71\u001B[0m, in \u001B[0;36mplot\u001B[1;34m(data, kind, **kwargs)\u001B[0m\n\u001B[0;32m     69\u001B[0m         kwargs[\u001B[38;5;124m\"\u001B[39m\u001B[38;5;124max\u001B[39m\u001B[38;5;124m\"\u001B[39m] \u001B[38;5;241m=\u001B[39m \u001B[38;5;28mgetattr\u001B[39m(ax, \u001B[38;5;124m\"\u001B[39m\u001B[38;5;124mleft_ax\u001B[39m\u001B[38;5;124m\"\u001B[39m, ax)\n\u001B[0;32m     70\u001B[0m plot_obj \u001B[38;5;241m=\u001B[39m PLOT_CLASSES[kind](data, \u001B[38;5;241m*\u001B[39m\u001B[38;5;241m*\u001B[39mkwargs)\n\u001B[1;32m---> 71\u001B[0m \u001B[43mplot_obj\u001B[49m\u001B[38;5;241;43m.\u001B[39;49m\u001B[43mgenerate\u001B[49m\u001B[43m(\u001B[49m\u001B[43m)\u001B[49m\n\u001B[0;32m     72\u001B[0m plot_obj\u001B[38;5;241m.\u001B[39mdraw()\n\u001B[0;32m     73\u001B[0m \u001B[38;5;28;01mreturn\u001B[39;00m plot_obj\u001B[38;5;241m.\u001B[39mresult\n",
      "File \u001B[1;32mD:\\Anaconda\\envs\\experiments\\lib\\site-packages\\pandas\\plotting\\_matplotlib\\core.py:499\u001B[0m, in \u001B[0;36mMPLPlot.generate\u001B[1;34m(self)\u001B[0m\n\u001B[0;32m    497\u001B[0m \u001B[38;5;129m@final\u001B[39m\n\u001B[0;32m    498\u001B[0m \u001B[38;5;28;01mdef\u001B[39;00m \u001B[38;5;21mgenerate\u001B[39m(\u001B[38;5;28mself\u001B[39m) \u001B[38;5;241m-\u001B[39m\u001B[38;5;241m>\u001B[39m \u001B[38;5;28;01mNone\u001B[39;00m:\n\u001B[1;32m--> 499\u001B[0m     \u001B[38;5;28;43mself\u001B[39;49m\u001B[38;5;241;43m.\u001B[39;49m\u001B[43m_compute_plot_data\u001B[49m\u001B[43m(\u001B[49m\u001B[43m)\u001B[49m\n\u001B[0;32m    500\u001B[0m     fig \u001B[38;5;241m=\u001B[39m \u001B[38;5;28mself\u001B[39m\u001B[38;5;241m.\u001B[39mfig\n\u001B[0;32m    501\u001B[0m     \u001B[38;5;28mself\u001B[39m\u001B[38;5;241m.\u001B[39m_make_plot(fig)\n",
      "File \u001B[1;32mD:\\Anaconda\\envs\\experiments\\lib\\site-packages\\pandas\\plotting\\_matplotlib\\core.py:698\u001B[0m, in \u001B[0;36mMPLPlot._compute_plot_data\u001B[1;34m(self)\u001B[0m\n\u001B[0;32m    696\u001B[0m \u001B[38;5;66;03m# no non-numeric frames or series allowed\u001B[39;00m\n\u001B[0;32m    697\u001B[0m \u001B[38;5;28;01mif\u001B[39;00m is_empty:\n\u001B[1;32m--> 698\u001B[0m     \u001B[38;5;28;01mraise\u001B[39;00m \u001B[38;5;167;01mTypeError\u001B[39;00m(\u001B[38;5;124m\"\u001B[39m\u001B[38;5;124mno numeric data to plot\u001B[39m\u001B[38;5;124m\"\u001B[39m)\n\u001B[0;32m    700\u001B[0m \u001B[38;5;28mself\u001B[39m\u001B[38;5;241m.\u001B[39mdata \u001B[38;5;241m=\u001B[39m numeric_data\u001B[38;5;241m.\u001B[39mapply(\u001B[38;5;28mtype\u001B[39m(\u001B[38;5;28mself\u001B[39m)\u001B[38;5;241m.\u001B[39m_convert_to_ndarray)\n",
      "\u001B[1;31mTypeError\u001B[0m: no numeric data to plot"
     ]
    }
   ],
   "execution_count": 14
  },
  {
   "cell_type": "markdown",
   "metadata": {},
   "source": [
    "# Zad. \n",
    "Stwórz wykres porównujący metody. "
   ]
  },
  {
   "cell_type": "code",
   "metadata": {
    "ExecuteTime": {
     "end_time": "2025-05-19T21:21:08.567107800Z",
     "start_time": "2025-05-19T21:09:00.581836Z"
    }
   },
   "source": [
    "plt.figure(figsize=(10,8))\n",
    "x = np.arange(0,len(history.history['accuracy']))\n",
    "plt.plot(x,history.history['accuracy'])\n",
    "plt.show()"
   ],
   "outputs": [
    {
     "ename": "KeyError",
     "evalue": "'accuracy'",
     "output_type": "error",
     "traceback": [
      "\u001B[1;31m---------------------------------------------------------------------------\u001B[0m",
      "\u001B[1;31mKeyError\u001B[0m                                  Traceback (most recent call last)",
      "Cell \u001B[1;32mIn[33], line 2\u001B[0m\n\u001B[0;32m      1\u001B[0m plt\u001B[38;5;241m.\u001B[39mfigure(figsize\u001B[38;5;241m=\u001B[39m(\u001B[38;5;241m10\u001B[39m,\u001B[38;5;241m8\u001B[39m))\n\u001B[1;32m----> 2\u001B[0m x \u001B[38;5;241m=\u001B[39m np\u001B[38;5;241m.\u001B[39marange(\u001B[38;5;241m0\u001B[39m,\u001B[38;5;28mlen\u001B[39m(\u001B[43mhistory\u001B[49m\u001B[38;5;241;43m.\u001B[39;49m\u001B[43mhistory\u001B[49m\u001B[43m[\u001B[49m\u001B[38;5;124;43m'\u001B[39;49m\u001B[38;5;124;43maccuracy\u001B[39;49m\u001B[38;5;124;43m'\u001B[39;49m\u001B[43m]\u001B[49m),\u001B[38;5;241m1\u001B[39m)\n\u001B[0;32m      3\u001B[0m plt\u001B[38;5;241m.\u001B[39mplot(x,history\u001B[38;5;241m.\u001B[39mhistory[\u001B[38;5;124m'\u001B[39m\u001B[38;5;124maccuracy\u001B[39m\u001B[38;5;124m'\u001B[39m])\n\u001B[0;32m      4\u001B[0m plt\u001B[38;5;241m.\u001B[39mshow()\n",
      "\u001B[1;31mKeyError\u001B[0m: 'accuracy'"
     ]
    },
    {
     "data": {
      "text/plain": [
       "<Figure size 1000x800 with 0 Axes>"
      ]
     },
     "metadata": {},
     "output_type": "display_data"
    }
   ],
   "execution_count": 33
  },
  {
   "cell_type": "code",
   "execution_count": null,
   "metadata": {},
   "outputs": [],
   "source": []
  },
  {
   "metadata": {},
   "cell_type": "code",
   "outputs": [],
   "execution_count": null,
   "source": ""
  }
 ],
 "metadata": {
  "kernelspec": {
   "display_name": "Python 3 (ipykernel)",
   "language": "python",
   "name": "python3"
  },
  "language_info": {
   "codemirror_mode": {
    "name": "ipython",
    "version": 3
   },
   "file_extension": ".py",
   "mimetype": "text/x-python",
   "name": "python",
   "nbconvert_exporter": "python",
   "pygments_lexer": "ipython3",
   "version": "3.10.13"
  }
 },
 "nbformat": 4,
 "nbformat_minor": 4
}
