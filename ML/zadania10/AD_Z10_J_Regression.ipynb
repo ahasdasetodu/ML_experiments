{
 "cells": [
  {
   "cell_type": "code",
   "metadata": {
    "ExecuteTime": {
     "end_time": "2025-05-26T16:16:05.692243Z",
     "start_time": "2025-05-26T16:16:02.988033Z"
    }
   },
   "source": [
    "import tensorflow as tf\n",
    "from tensorflow import keras\n",
    "print(tf.__version__)\n"
   ],
   "outputs": [
    {
     "name": "stdout",
     "output_type": "stream",
     "text": [
      "2.10.1\n"
     ]
    }
   ],
   "execution_count": 2
  },
  {
   "cell_type": "code",
   "metadata": {
    "ExecuteTime": {
     "end_time": "2025-05-26T16:16:02.985063Z",
     "start_time": "2025-05-26T16:16:00.509485Z"
    }
   },
   "source": [
    "import numpy as np\n",
    "import pandas as pd\n",
    "import matplotlib.pyplot as plt\n",
    "import os"
   ],
   "outputs": [],
   "execution_count": 1
  },
  {
   "cell_type": "code",
   "metadata": {
    "ExecuteTime": {
     "end_time": "2025-05-26T16:19:21.844454Z",
     "start_time": "2025-05-26T16:19:21.814845Z"
    }
   },
   "source": [
    "from sklearn.datasets import fetch_california_housing\n",
    "from sklearn.model_selection import train_test_split\n",
    "from sklearn.preprocessing import StandardScaler\n",
    "\n",
    "housing = fetch_california_housing()\n",
    "\n",
    "X_train_full, X_test, y_train_full, y_test = train_test_split(housing.data, housing.target, random_state=42)\n",
    "X_train, X_valid, y_train, y_valid = train_test_split(X_train_full, y_train_full, random_state=42)\n",
    "\n"
   ],
   "outputs": [],
   "execution_count": 12
  },
  {
   "cell_type": "code",
   "metadata": {
    "ExecuteTime": {
     "end_time": "2025-05-26T16:19:22.390985Z",
     "start_time": "2025-05-26T16:19:22.307445Z"
    }
   },
   "source": [
    "np.random.seed(42)\n",
    "tf.random.set_seed(42)"
   ],
   "outputs": [],
   "execution_count": 13
  },
  {
   "cell_type": "code",
   "metadata": {
    "ExecuteTime": {
     "end_time": "2025-05-26T16:19:33.468069Z",
     "start_time": "2025-05-26T16:19:23.145782Z"
    }
   },
   "source": [
    "model = keras.models.Sequential([\n",
    "    keras.layers.Dense(30, activation=\"relu\", input_shape=X_train.shape[1:]),\n",
    "    keras.layers.Dense(1)\n",
    "])\n",
    "model.compile(loss=\"mean_squared_error\", optimizer=keras.optimizers.SGD(learning_rate=1e-3))\n",
    "history = model.fit(X_train, y_train, epochs=20, validation_data=(X_valid, y_valid))\n",
    "mse_test = model.evaluate(X_test, y_test)\n",
    "X_new = X_test[:3]\n",
    "y_pred = model.predict(X_new)"
   ],
   "outputs": [
    {
     "name": "stdout",
     "output_type": "stream",
     "text": [
      "Epoch 1/20\n",
      "363/363 [==============================] - 1s 2ms/step - loss: 13260615436990576705534766874624.0000 - val_loss: 4316318818354486818994388992.0000\n",
      "Epoch 2/20\n",
      "363/363 [==============================] - 0s 1ms/step - loss: 2280709246626288393084993536.0000 - val_loss: 1008990046101965251134095360.0000\n",
      "Epoch 3/20\n",
      "363/363 [==============================] - 0s 1ms/step - loss: 533142890384429854064902144.0000 - val_loss: 235863334800151373552812032.0000\n",
      "Epoch 4/20\n",
      "363/363 [==============================] - 0s 1ms/step - loss: 124628444241386686428217344.0000 - val_loss: 55135782344873713460051968.0000\n",
      "Epoch 5/20\n",
      "363/363 [==============================] - 0s 1ms/step - loss: 29133293403746895348629504.0000 - val_loss: 12888619027542879995166720.0000\n",
      "Epoch 6/20\n",
      "363/363 [==============================] - 0s 1ms/step - loss: 6810247375794405531189248.0000 - val_loss: 3012866645536695977508864.0000\n",
      "Epoch 7/20\n",
      "363/363 [==============================] - 0s 1ms/step - loss: 1591974766148217227706368.0000 - val_loss: 704291644702648025743360.0000\n",
      "Epoch 8/20\n",
      "363/363 [==============================] - 0s 1ms/step - loss: 372142453215195356463104.0000 - val_loss: 164636272123533764591616.0000\n",
      "Epoch 9/20\n",
      "363/363 [==============================] - 0s 1ms/step - loss: 86992611266199069655040.0000 - val_loss: 38485654730882649423872.0000\n",
      "Epoch 10/20\n",
      "363/363 [==============================] - 1s 2ms/step - loss: 20335492958833768136704.0000 - val_loss: 8996458732579666788352.0000\n",
      "Epoch 11/20\n",
      "363/363 [==============================] - 1s 1ms/step - loss: 4753655804230755155968.0000 - val_loss: 2103023962945017085952.0000\n",
      "Epoch 12/20\n",
      "363/363 [==============================] - 0s 1ms/step - loss: 1111222816394511908864.0000 - val_loss: 491606989164880330752.0000\n",
      "Epoch 13/20\n",
      "363/363 [==============================] - 1s 1ms/step - loss: 259761117397893775360.0000 - val_loss: 114918448448636190720.0000\n",
      "Epoch 14/20\n",
      "363/363 [==============================] - 0s 1ms/step - loss: 60722051368022441984.0000 - val_loss: 26863589147218542592.0000\n",
      "Epoch 15/20\n",
      "363/363 [==============================] - 0s 1ms/step - loss: 14194492804448649216.0000 - val_loss: 6279658901658927104.0000\n",
      "Epoch 16/20\n",
      "363/363 [==============================] - 1s 1ms/step - loss: 3318127355901247488.0000 - val_loss: 1467944367787343872.0000\n",
      "Epoch 17/20\n",
      "363/363 [==============================] - 0s 1ms/step - loss: 775649928058765312.0000 - val_loss: 343148611137175552.0000\n",
      "Epoch 18/20\n",
      "363/363 [==============================] - 0s 1ms/step - loss: 181317112462049280.0000 - val_loss: 80214965293678592.0000\n",
      "Epoch 19/20\n",
      "363/363 [==============================] - 0s 1ms/step - loss: 42384983544823808.0000 - val_loss: 18751200149110784.0000\n",
      "Epoch 20/20\n",
      "363/363 [==============================] - 0s 1ms/step - loss: 9907984893214720.0000 - val_loss: 4383305914908672.0000\n",
      "162/162 [==============================] - 0s 816us/step - loss: 4383299472457728.0000\n",
      "1/1 [==============================] - 0s 37ms/step\n"
     ]
    }
   ],
   "execution_count": 14
  },
  {
   "cell_type": "code",
   "metadata": {
    "ExecuteTime": {
     "end_time": "2025-05-26T16:20:58.957872Z",
     "start_time": "2025-05-26T16:20:58.840259Z"
    }
   },
   "source": [
    "plt.plot(pd.DataFrame(history.history))\n",
    "plt.grid(True)\n",
    "plt.show()"
   ],
   "outputs": [
    {
     "data": {
      "text/plain": [
       "<Figure size 640x480 with 1 Axes>"
      ],
      "image/png": "[encoded data removed]"
     },
     "metadata": {},
     "output_type": "display_data"
    }
   ],
   "execution_count": 15
  },
  {
   "cell_type": "markdown",
   "metadata": {},
   "source": [
    "# Zad\n",
    "\n",
    "Porównaj powyższy wynik z nauką na danych znormalizowanych."
   ]
  },
  {
   "cell_type": "code",
   "metadata": {
    "ExecuteTime": {
     "end_time": "2025-05-26T16:16:39.886032Z",
     "start_time": "2025-05-26T16:16:29.440097Z"
    }
   },
   "source": [
    "scaler = StandardScaler()\n",
    "X_train_scaled = scaler.fit_transform(X_train)\n",
    "X_valid_scaled = scaler.transform(X_valid)\n",
    "X_test_scaled = scaler.transform(X_test)\n",
    "\n",
    "\n",
    "model_scaled = keras.models.Sequential([\n",
    "    keras.layers.Dense(30, activation=\"relu\", input_shape=X_train.shape[1:]),\n",
    "    keras.layers.Dense(1)\n",
    "])\n",
    "model_scaled.compile(loss=\"mean_squared_error\", optimizer=keras.optimizers.SGD(learning_rate=1e-3))\n",
    "history_scaled = model_scaled.fit(X_train, y_train, epochs=20, validation_data=(X_valid, y_valid))\n",
    "mse_test_scaled = model_scaled.evaluate(X_test, y_test)\n",
    "X_new = X_test[:3]\n",
    "y_pred = model_scaled.predict(X_new)"
   ],
   "outputs": [
    {
     "name": "stdout",
     "output_type": "stream",
     "text": [
      "Epoch 1/20\n",
      "363/363 [==============================] - 1s 2ms/step - loss: 289981998301184.0000 - val_loss: 57750761472.0000\n",
      "Epoch 2/20\n",
      "363/363 [==============================] - 1s 1ms/step - loss: 30515023872.0000 - val_loss: 13499879424.0000\n",
      "Epoch 3/20\n",
      "363/363 [==============================] - 1s 1ms/step - loss: 7133236736.0000 - val_loss: 3155748608.0000\n",
      "Epoch 4/20\n",
      "363/363 [==============================] - 0s 1ms/step - loss: 1667474944.0000 - val_loss: 737690240.0000\n",
      "Epoch 5/20\n",
      "363/363 [==============================] - 0s 1ms/step - loss: 389791552.0000 - val_loss: 172443200.0000\n",
      "Epoch 6/20\n",
      "363/363 [==============================] - 0s 1ms/step - loss: 91118400.0000 - val_loss: 40310284.0000\n",
      "Epoch 7/20\n",
      "363/363 [==============================] - 0s 1ms/step - loss: 21299940.0000 - val_loss: 9422828.0000\n",
      "Epoch 8/20\n",
      "363/363 [==============================] - 0s 1ms/step - loss: 4979103.0000 - val_loss: 2202622.0000\n",
      "Epoch 9/20\n",
      "363/363 [==============================] - 0s 1ms/step - loss: 1163922.6250 - val_loss: 514853.4375\n",
      "Epoch 10/20\n",
      "363/363 [==============================] - 0s 1ms/step - loss: 272082.2812 - val_loss: 120338.6953\n",
      "Epoch 11/20\n",
      "363/363 [==============================] - 0s 1ms/step - loss: 63604.2812 - val_loss: 28123.7988\n",
      "Epoch 12/20\n",
      "363/363 [==============================] - 0s 1ms/step - loss: 14869.4453 - val_loss: 6571.4629\n",
      "Epoch 13/20\n",
      "363/363 [==============================] - 0s 1ms/step - loss: 3477.0249 - val_loss: 1535.2751\n",
      "Epoch 14/20\n",
      "363/363 [==============================] - 0s 1ms/step - loss: 813.8105 - val_loss: 358.9454\n",
      "Epoch 15/20\n",
      "363/363 [==============================] - 1s 1ms/step - loss: 191.2386 - val_loss: 84.4626\n",
      "Epoch 16/20\n",
      "363/363 [==============================] - 0s 1ms/step - loss: 45.7301 - val_loss: 20.5420\n",
      "Epoch 17/20\n",
      "363/363 [==============================] - 1s 1ms/step - loss: 11.7203 - val_loss: 5.7051\n",
      "Epoch 18/20\n",
      "363/363 [==============================] - 0s 1ms/step - loss: 3.7677 - val_loss: 2.2956\n",
      "Epoch 19/20\n",
      "363/363 [==============================] - 1s 2ms/step - loss: 1.9081 - val_loss: 1.5201\n",
      "Epoch 20/20\n",
      "363/363 [==============================] - 1s 1ms/step - loss: 1.4723 - val_loss: 1.3525\n",
      "162/162 [==============================] - 0s 1ms/step - loss: 1.3727\n",
      "1/1 [==============================] - 0s 53ms/step\n"
     ]
    }
   ],
   "execution_count": 7
  },
  {
   "cell_type": "code",
   "metadata": {
    "ExecuteTime": {
     "end_time": "2025-05-26T16:18:45.717538Z",
     "start_time": "2025-05-26T16:18:45.587393Z"
    }
   },
   "source": [
    "plt.plot(pd.DataFrame(history.history),label =\"unscaled\",color = 'orange')\n",
    "plt.plot(pd.DataFrame(history_scaled.history), label=\"scaled\", color='blue')\n",
    "plt.grid(True)\n",
    "plt.show()"
   ],
   "outputs": [
    {
     "data": {
      "text/plain": [
       "<Figure size 640x480 with 1 Axes>"
      ],
      "image/png": "[encoded data removed]"
     },
     "metadata": {},
     "output_type": "display_data"
    }
   ],
   "execution_count": 11
  },
  {
   "cell_type": "markdown",
   "metadata": {},
   "source": [
    "# Dane zawsze muszą być przeskalowane"
   ]
  },
  {
   "cell_type": "code",
   "execution_count": null,
   "metadata": {},
   "outputs": [],
   "source": []
  }
 ],
 "metadata": {
  "kernelspec": {
   "display_name": "Python 3 (ipykernel)",
   "language": "python",
   "name": "python3"
  },
  "language_info": {
   "codemirror_mode": {
    "name": "ipython",
    "version": 3
   },
   "file_extension": ".py",
   "mimetype": "text/x-python",
   "name": "python",
   "nbconvert_exporter": "python",
   "pygments_lexer": "ipython3",
   "version": "3.8.10"
  }
 },
 "nbformat": 4,
 "nbformat_minor": 4
}
