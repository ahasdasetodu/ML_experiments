{
 "cells": [
  {
   "cell_type": "code",
   "metadata": {
    "ExecuteTime": {
     "end_time": "2025-05-26T17:54:06.510606Z",
     "start_time": "2025-05-26T17:53:48.813890Z"
    }
   },
   "source": [
    "import tensorflow as tf\n",
    "from tensorflow import keras\n",
    "print(tf.__version__)"
   ],
   "outputs": [
    {
     "name": "stdout",
     "output_type": "stream",
     "text": [
      "2.10.1\n"
     ]
    }
   ],
   "execution_count": 1
  },
  {
   "cell_type": "code",
   "metadata": {
    "ExecuteTime": {
     "end_time": "2025-05-26T17:54:10.013622Z",
     "start_time": "2025-05-26T17:54:08.498930Z"
    }
   },
   "source": [
    "import numpy as np\n",
    "import pandas as pd\n",
    "import matplotlib.pyplot as plt\n",
    "import os"
   ],
   "outputs": [],
   "execution_count": 2
  },
  {
   "cell_type": "code",
   "metadata": {
    "ExecuteTime": {
     "end_time": "2025-05-26T17:54:46.405245Z",
     "start_time": "2025-05-26T17:54:28.670525Z"
    }
   },
   "source": [
    "# Wczytaj dane treningowe i testowe\n",
    "import numpy as np\n",
    "import matplotlib.pyplot as plt\n",
    "import pandas as pd\n",
    "\n",
    "data_url = 'https://archive.ics.uci.edu/ml/machine-learning-databases/adult/adult.data'\n",
    "test_url = 'https://archive.ics.uci.edu/ml/machine-learning-databases/adult/adult.test'\n",
    "\n",
    "train_set = pd.read_csv(data_url, sep=\", \",header = None)\n",
    "test_set = pd.read_csv(test_url, sep=\", \",skiprows = 1, header = None) # Make sure to skip a row for the test set\n",
    "\n",
    "col_labels = ['age', 'workclass', 'fnlwgt', 'education', 'education_num', 'marital_status', 'occupation', \n",
    "              'relationship', 'race', 'sex', 'capital_gain', 'capital_loss', 'hours_per_week', 'native_country',\n",
    "             'wage_class']\n",
    "train_set.columns = col_labels\n",
    "test_set.columns = col_labels\n",
    "\n",
    "train = train_set.replace('?', np.nan).dropna()\n",
    "test = test_set.replace('?', np.nan).dropna()\n",
    "\n",
    "train_set.head()\n"
   ],
   "outputs": [
    {
     "name": "stderr",
     "output_type": "stream",
     "text": [
      "C:\\Users\\krzys\\AppData\\Local\\Temp\\ipykernel_15924\\2049605904.py:9: ParserWarning: Falling back to the 'python' engine because the 'c' engine does not support regex separators (separators > 1 char and different from '\\s+' are interpreted as regex); you can avoid this warning by specifying engine='python'.\n",
      "  train_set = pd.read_csv(data_url, sep=\", \",header = None)\n",
      "C:\\Users\\krzys\\AppData\\Local\\Temp\\ipykernel_15924\\2049605904.py:10: ParserWarning: Falling back to the 'python' engine because the 'c' engine does not support regex separators (separators > 1 char and different from '\\s+' are interpreted as regex); you can avoid this warning by specifying engine='python'.\n",
      "  test_set = pd.read_csv(test_url, sep=\", \",skiprows = 1, header = None) # Make sure to skip a row for the test set\n"
     ]
    },
    {
     "data": {
      "text/plain": [
       "   age         workclass  fnlwgt  education  education_num  \\\n",
       "0   39         State-gov   77516  Bachelors             13   \n",
       "1   50  Self-emp-not-inc   83311  Bachelors             13   \n",
       "2   38           Private  215646    HS-grad              9   \n",
       "3   53           Private  234721       11th              7   \n",
       "4   28           Private  338409  Bachelors             13   \n",
       "\n",
       "       marital_status         occupation   relationship   race     sex  \\\n",
       "0       Never-married       Adm-clerical  Not-in-family  White    Male   \n",
       "1  Married-civ-spouse    Exec-managerial        Husband  White    Male   \n",
       "2            Divorced  Handlers-cleaners  Not-in-family  White    Male   \n",
       "3  Married-civ-spouse  Handlers-cleaners        Husband  Black    Male   \n",
       "4  Married-civ-spouse     Prof-specialty           Wife  Black  Female   \n",
       "\n",
       "   capital_gain  capital_loss  hours_per_week native_country wage_class  \n",
       "0          2174             0              40  United-States      <=50K  \n",
       "1             0             0              13  United-States      <=50K  \n",
       "2             0             0              40  United-States      <=50K  \n",
       "3             0             0              40  United-States      <=50K  \n",
       "4             0             0              40           Cuba      <=50K  "
      ],
      "text/html": [
       "<div>\n",
       "<style scoped>\n",
       "    .dataframe tbody tr th:only-of-type {\n",
       "        vertical-align: middle;\n",
       "    }\n",
       "\n",
       "    .dataframe tbody tr th {\n",
       "        vertical-align: top;\n",
       "    }\n",
       "\n",
       "    .dataframe thead th {\n",
       "        text-align: right;\n",
       "    }\n",
       "</style>\n",
       "<table border=\"1\" class=\"dataframe\">\n",
       "  <thead>\n",
       "    <tr style=\"text-align: right;\">\n",
       "      <th></th>\n",
       "      <th>age</th>\n",
       "      <th>workclass</th>\n",
       "      <th>fnlwgt</th>\n",
       "      <th>education</th>\n",
       "      <th>education_num</th>\n",
       "      <th>marital_status</th>\n",
       "      <th>occupation</th>\n",
       "      <th>relationship</th>\n",
       "      <th>race</th>\n",
       "      <th>sex</th>\n",
       "      <th>capital_gain</th>\n",
       "      <th>capital_loss</th>\n",
       "      <th>hours_per_week</th>\n",
       "      <th>native_country</th>\n",
       "      <th>wage_class</th>\n",
       "    </tr>\n",
       "  </thead>\n",
       "  <tbody>\n",
       "    <tr>\n",
       "      <th>0</th>\n",
       "      <td>39</td>\n",
       "      <td>State-gov</td>\n",
       "      <td>77516</td>\n",
       "      <td>Bachelors</td>\n",
       "      <td>13</td>\n",
       "      <td>Never-married</td>\n",
       "      <td>Adm-clerical</td>\n",
       "      <td>Not-in-family</td>\n",
       "      <td>White</td>\n",
       "      <td>Male</td>\n",
       "      <td>2174</td>\n",
       "      <td>0</td>\n",
       "      <td>40</td>\n",
       "      <td>United-States</td>\n",
       "      <td>&lt;=50K</td>\n",
       "    </tr>\n",
       "    <tr>\n",
       "      <th>1</th>\n",
       "      <td>50</td>\n",
       "      <td>Self-emp-not-inc</td>\n",
       "      <td>83311</td>\n",
       "      <td>Bachelors</td>\n",
       "      <td>13</td>\n",
       "      <td>Married-civ-spouse</td>\n",
       "      <td>Exec-managerial</td>\n",
       "      <td>Husband</td>\n",
       "      <td>White</td>\n",
       "      <td>Male</td>\n",
       "      <td>0</td>\n",
       "      <td>0</td>\n",
       "      <td>13</td>\n",
       "      <td>United-States</td>\n",
       "      <td>&lt;=50K</td>\n",
       "    </tr>\n",
       "    <tr>\n",
       "      <th>2</th>\n",
       "      <td>38</td>\n",
       "      <td>Private</td>\n",
       "      <td>215646</td>\n",
       "      <td>HS-grad</td>\n",
       "      <td>9</td>\n",
       "      <td>Divorced</td>\n",
       "      <td>Handlers-cleaners</td>\n",
       "      <td>Not-in-family</td>\n",
       "      <td>White</td>\n",
       "      <td>Male</td>\n",
       "      <td>0</td>\n",
       "      <td>0</td>\n",
       "      <td>40</td>\n",
       "      <td>United-States</td>\n",
       "      <td>&lt;=50K</td>\n",
       "    </tr>\n",
       "    <tr>\n",
       "      <th>3</th>\n",
       "      <td>53</td>\n",
       "      <td>Private</td>\n",
       "      <td>234721</td>\n",
       "      <td>11th</td>\n",
       "      <td>7</td>\n",
       "      <td>Married-civ-spouse</td>\n",
       "      <td>Handlers-cleaners</td>\n",
       "      <td>Husband</td>\n",
       "      <td>Black</td>\n",
       "      <td>Male</td>\n",
       "      <td>0</td>\n",
       "      <td>0</td>\n",
       "      <td>40</td>\n",
       "      <td>United-States</td>\n",
       "      <td>&lt;=50K</td>\n",
       "    </tr>\n",
       "    <tr>\n",
       "      <th>4</th>\n",
       "      <td>28</td>\n",
       "      <td>Private</td>\n",
       "      <td>338409</td>\n",
       "      <td>Bachelors</td>\n",
       "      <td>13</td>\n",
       "      <td>Married-civ-spouse</td>\n",
       "      <td>Prof-specialty</td>\n",
       "      <td>Wife</td>\n",
       "      <td>Black</td>\n",
       "      <td>Female</td>\n",
       "      <td>0</td>\n",
       "      <td>0</td>\n",
       "      <td>40</td>\n",
       "      <td>Cuba</td>\n",
       "      <td>&lt;=50K</td>\n",
       "    </tr>\n",
       "  </tbody>\n",
       "</table>\n",
       "</div>"
      ]
     },
     "execution_count": 3,
     "metadata": {},
     "output_type": "execute_result"
    }
   ],
   "execution_count": 3
  },
  {
   "cell_type": "markdown",
   "metadata": {},
   "source": [
    "# Zad.\n",
    "Zróbmy szybki preprocesing"
   ]
  },
  {
   "cell_type": "code",
   "metadata": {
    "ExecuteTime": {
     "end_time": "2025-05-26T17:54:46.757286Z",
     "start_time": "2025-05-26T17:54:46.483542Z"
    }
   },
   "source": [
    "dataset = pd.concat([train,test])\n",
    "\n",
    "dataset['wage_class'] = dataset.wage_class.replace({'<=50K.': 0,'<=50K':0, '>50K.':1, '>50K':1})\n",
    "\n",
    "dataset.drop([\"fnlwgt\"],axis=1,inplace=True)\n",
    "\n",
    "dataset.drop([\"education\"],axis=1,inplace=True)\n",
    "\n",
    "x = dataset.groupby('native_country')[\"wage_class\"].mean()\n",
    "\n",
    "d = dict(pd.cut(x[x.index!=\" United-States\"],5,labels=range(5)))\n",
    "\n",
    "dataset['native_country'] = dataset['native_country'].replace(d)\n",
    "\n",
    "dataset = pd.get_dummies(dataset,drop_first=True)\n",
    "\n",
    "train = dataset.iloc[:train.shape[0]]\n",
    "test = dataset.iloc[train.shape[0]:]\n",
    "\n",
    "X_train = train.drop(\"wage_class\",axis=1)\n",
    "y_train = train.wage_class\n",
    "\n",
    "X_test = test.drop(\"wage_class\",axis=1)\n",
    "y_test = test.wage_class\n"
   ],
   "outputs": [
    {
     "name": "stderr",
     "output_type": "stream",
     "text": [
      "C:\\Users\\krzys\\AppData\\Local\\Temp\\ipykernel_15924\\3132754484.py:3: FutureWarning: Downcasting behavior in `replace` is deprecated and will be removed in a future version. To retain the old behavior, explicitly call `result.infer_objects(copy=False)`. To opt-in to the future behavior, set `pd.set_option('future.no_silent_downcasting', True)`\n",
      "  dataset['wage_class'] = dataset.wage_class.replace({'<=50K.': 0,'<=50K':0, '>50K.':1, '>50K':1})\n",
      "C:\\Users\\krzys\\AppData\\Local\\Temp\\ipykernel_15924\\3132754484.py:13: FutureWarning: Downcasting behavior in `replace` is deprecated and will be removed in a future version. To retain the old behavior, explicitly call `result.infer_objects(copy=False)`. To opt-in to the future behavior, set `pd.set_option('future.no_silent_downcasting', True)`\n",
      "  dataset['native_country'] = dataset['native_country'].replace(d)\n"
     ]
    }
   ],
   "execution_count": 4
  },
  {
   "cell_type": "code",
   "metadata": {
    "ExecuteTime": {
     "end_time": "2025-05-26T17:54:46.833993Z",
     "start_time": "2025-05-26T17:54:46.820830Z"
    }
   },
   "source": [
    "from keras.callbacks import ModelCheckpoint"
   ],
   "outputs": [],
   "execution_count": 5
  },
  {
   "cell_type": "code",
   "execution_count": null,
   "metadata": {},
   "outputs": [],
   "source": []
  },
  {
   "cell_type": "code",
   "metadata": {
    "ExecuteTime": {
     "end_time": "2025-05-26T17:54:47.079261Z",
     "start_time": "2025-05-26T17:54:46.867424Z"
    }
   },
   "source": [
    "from keras.models import Sequential\n",
    "from keras.layers import Dense\n",
    "\n",
    "from keras.callbacks import History\n",
    "\n",
    "history = History()\n",
    "model = Sequential()\n",
    "model.add(Dense(100,activation=\"sigmoid\",input_shape=(X_train.shape[1],)))\n",
    "model.add(Dense(50,activation=\"sigmoid\"))\n",
    "model.add(Dense(10,activation=\"sigmoid\"))\n",
    "model.add(Dense(1,activation=\"sigmoid\"))\n",
    "model.summary()"
   ],
   "outputs": [
    {
     "name": "stdout",
     "output_type": "stream",
     "text": [
      "Model: \"sequential\"\n",
      "_________________________________________________________________\n",
      " Layer (type)                Output Shape              Param #   \n",
      "=================================================================\n",
      " dense (Dense)               (None, 100)               4200      \n",
      "                                                                 \n",
      " dense_1 (Dense)             (None, 50)                5050      \n",
      "                                                                 \n",
      " dense_2 (Dense)             (None, 10)                510       \n",
      "                                                                 \n",
      " dense_3 (Dense)             (None, 1)                 11        \n",
      "                                                                 \n",
      "=================================================================\n",
      "Total params: 9,771\n",
      "Trainable params: 9,771\n",
      "Non-trainable params: 0\n",
      "_________________________________________________________________\n"
     ]
    }
   ],
   "execution_count": 6
  },
  {
   "cell_type": "code",
   "metadata": {
    "ExecuteTime": {
     "end_time": "2025-05-26T17:55:28.106525Z",
     "start_time": "2025-05-26T17:55:28.089352Z"
    }
   },
   "source": [
    "save_best_model = ModelCheckpoint(\"wagi_best.h5py\",save_best_only=True)\n",
    "model.compile(loss=\"binary_crossentropy\",optimizer=\"Adam\", metrics=[\"accuracy\"])"
   ],
   "outputs": [],
   "execution_count": 7
  },
  {
   "cell_type": "code",
   "metadata": {
    "ExecuteTime": {
     "end_time": "2025-05-26T17:58:45.671019Z",
     "start_time": "2025-05-26T17:55:28.905341Z"
    }
   },
   "source": [
    "save_best_model = ModelCheckpoint(\"wagi_best.h5py\",save_best_only=True)\n",
    "X_train = X_train.astype('float32')\n",
    "y_train = y_train.astype('float32')\n",
    "X_test = X_test.astype('float32')\n",
    "y_test = y_test.astype('float32')\n",
    "\n",
    "# Reshape labels if necessary (for example, for categorical crossentropy)\n",
    "y_train = np.expand_dims(y_train, axis=-1)\n",
    "y_test = np.expand_dims(y_test, axis=-1)\n",
    "history = model.fit(X_train, y_train, validation_data= (X_test, y_test), batch_size=32,epochs=100, callbacks=[save_best_model])"
   ],
   "outputs": [
    {
     "name": "stdout",
     "output_type": "stream",
     "text": [
      "Epoch 1/100\n",
      "938/943 [============================>.] - ETA: 0s - loss: 0.4349 - accuracy: 0.7883INFO:tensorflow:Assets written to: wagi_best.h5py\\assets\n",
      "943/943 [==============================] - 4s 4ms/step - loss: 0.4349 - accuracy: 0.7883 - val_loss: 0.3806 - val_accuracy: 0.8101\n",
      "Epoch 2/100\n",
      "935/943 [============================>.] - ETA: 0s - loss: 0.3788 - accuracy: 0.8131INFO:tensorflow:Assets written to: wagi_best.h5py\\assets\n",
      "943/943 [==============================] - 3s 3ms/step - loss: 0.3788 - accuracy: 0.8131 - val_loss: 0.3701 - val_accuracy: 0.8115\n",
      "Epoch 3/100\n",
      "943/943 [==============================] - 2s 2ms/step - loss: 0.3716 - accuracy: 0.8150 - val_loss: 0.3709 - val_accuracy: 0.8226\n",
      "Epoch 4/100\n",
      "943/943 [==============================] - 2s 2ms/step - loss: 0.3665 - accuracy: 0.8197 - val_loss: 0.3786 - val_accuracy: 0.8050\n",
      "Epoch 5/100\n",
      "943/943 [==============================] - 2s 2ms/step - loss: 0.3710 - accuracy: 0.8130 - val_loss: 0.3730 - val_accuracy: 0.8085\n",
      "Epoch 6/100\n",
      "927/943 [============================>.] - ETA: 0s - loss: 0.3696 - accuracy: 0.8128INFO:tensorflow:Assets written to: wagi_best.h5py\\assets\n",
      "943/943 [==============================] - 3s 3ms/step - loss: 0.3697 - accuracy: 0.8129 - val_loss: 0.3640 - val_accuracy: 0.8177\n",
      "Epoch 7/100\n",
      "911/943 [===========================>..] - ETA: 0s - loss: 0.3648 - accuracy: 0.8207INFO:tensorflow:Assets written to: wagi_best.h5py\\assets\n",
      "943/943 [==============================] - 3s 3ms/step - loss: 0.3650 - accuracy: 0.8208 - val_loss: 0.3591 - val_accuracy: 0.8252\n",
      "Epoch 8/100\n",
      "917/943 [============================>.] - ETA: 0s - loss: 0.3547 - accuracy: 0.8297INFO:tensorflow:Assets written to: wagi_best.h5py\\assets\n",
      "943/943 [==============================] - 3s 3ms/step - loss: 0.3554 - accuracy: 0.8290 - val_loss: 0.3555 - val_accuracy: 0.8268\n",
      "Epoch 9/100\n",
      "908/943 [===========================>..] - ETA: 0s - loss: 0.3561 - accuracy: 0.8243INFO:tensorflow:Assets written to: wagi_best.h5py\\assets\n",
      "943/943 [==============================] - 3s 3ms/step - loss: 0.3559 - accuracy: 0.8249 - val_loss: 0.3465 - val_accuracy: 0.8343\n",
      "Epoch 10/100\n",
      "943/943 [==============================] - 2s 2ms/step - loss: 0.3530 - accuracy: 0.8272 - val_loss: 0.3490 - val_accuracy: 0.8321\n",
      "Epoch 11/100\n",
      "943/943 [==============================] - 2s 2ms/step - loss: 0.3502 - accuracy: 0.8317 - val_loss: 0.3654 - val_accuracy: 0.8161\n",
      "Epoch 12/100\n",
      "943/943 [==============================] - 2s 2ms/step - loss: 0.3654 - accuracy: 0.8163 - val_loss: 0.3637 - val_accuracy: 0.8165\n",
      "Epoch 13/100\n",
      "943/943 [==============================] - 2s 2ms/step - loss: 0.3655 - accuracy: 0.8166 - val_loss: 0.3709 - val_accuracy: 0.8105\n",
      "Epoch 14/100\n",
      "943/943 [==============================] - 2s 2ms/step - loss: 0.3631 - accuracy: 0.8180 - val_loss: 0.3639 - val_accuracy: 0.8161\n",
      "Epoch 15/100\n",
      "943/943 [==============================] - 2s 2ms/step - loss: 0.3667 - accuracy: 0.8164 - val_loss: 0.3639 - val_accuracy: 0.8173\n",
      "Epoch 16/100\n",
      "943/943 [==============================] - 2s 2ms/step - loss: 0.3665 - accuracy: 0.8151 - val_loss: 0.3677 - val_accuracy: 0.8102\n",
      "Epoch 17/100\n",
      "943/943 [==============================] - 2s 2ms/step - loss: 0.3644 - accuracy: 0.8161 - val_loss: 0.3627 - val_accuracy: 0.8169\n",
      "Epoch 18/100\n",
      "943/943 [==============================] - 2s 2ms/step - loss: 0.3640 - accuracy: 0.8169 - val_loss: 0.3640 - val_accuracy: 0.8177\n",
      "Epoch 19/100\n",
      "943/943 [==============================] - 2s 2ms/step - loss: 0.3655 - accuracy: 0.8160 - val_loss: 0.3642 - val_accuracy: 0.8134\n",
      "Epoch 20/100\n",
      "943/943 [==============================] - 2s 2ms/step - loss: 0.3629 - accuracy: 0.8171 - val_loss: 0.3966 - val_accuracy: 0.8079\n",
      "Epoch 21/100\n",
      "943/943 [==============================] - 2s 2ms/step - loss: 0.3637 - accuracy: 0.8147 - val_loss: 0.3723 - val_accuracy: 0.8155\n",
      "Epoch 22/100\n",
      "943/943 [==============================] - 2s 2ms/step - loss: 0.3647 - accuracy: 0.8151 - val_loss: 0.3748 - val_accuracy: 0.8127\n",
      "Epoch 23/100\n",
      "943/943 [==============================] - 2s 2ms/step - loss: 0.3633 - accuracy: 0.8160 - val_loss: 0.3714 - val_accuracy: 0.8104\n",
      "Epoch 24/100\n",
      "943/943 [==============================] - 2s 2ms/step - loss: 0.3627 - accuracy: 0.8163 - val_loss: 0.3659 - val_accuracy: 0.8161\n",
      "Epoch 25/100\n",
      "943/943 [==============================] - 2s 2ms/step - loss: 0.3632 - accuracy: 0.8157 - val_loss: 0.3629 - val_accuracy: 0.8161\n",
      "Epoch 26/100\n",
      "943/943 [==============================] - 2s 2ms/step - loss: 0.3637 - accuracy: 0.8178 - val_loss: 0.3650 - val_accuracy: 0.8178\n",
      "Epoch 27/100\n",
      "943/943 [==============================] - 2s 2ms/step - loss: 0.3632 - accuracy: 0.8188 - val_loss: 0.3638 - val_accuracy: 0.8186\n",
      "Epoch 28/100\n",
      "943/943 [==============================] - 2s 2ms/step - loss: 0.3650 - accuracy: 0.8143 - val_loss: 0.3633 - val_accuracy: 0.8179\n",
      "Epoch 29/100\n",
      "943/943 [==============================] - 2s 2ms/step - loss: 0.3654 - accuracy: 0.8149 - val_loss: 0.3717 - val_accuracy: 0.8095\n",
      "Epoch 30/100\n",
      "943/943 [==============================] - 2s 2ms/step - loss: 0.3639 - accuracy: 0.8164 - val_loss: 0.3642 - val_accuracy: 0.8159\n",
      "Epoch 31/100\n",
      "943/943 [==============================] - 2s 2ms/step - loss: 0.3626 - accuracy: 0.8169 - val_loss: 0.3637 - val_accuracy: 0.8187\n",
      "Epoch 32/100\n",
      "943/943 [==============================] - 2s 2ms/step - loss: 0.3623 - accuracy: 0.8181 - val_loss: 0.3633 - val_accuracy: 0.8178\n",
      "Epoch 33/100\n",
      "943/943 [==============================] - 2s 2ms/step - loss: 0.3663 - accuracy: 0.8129 - val_loss: 0.3829 - val_accuracy: 0.8048\n",
      "Epoch 34/100\n",
      "943/943 [==============================] - 2s 2ms/step - loss: 0.3651 - accuracy: 0.8164 - val_loss: 0.3734 - val_accuracy: 0.8159\n",
      "Epoch 35/100\n",
      "943/943 [==============================] - 2s 2ms/step - loss: 0.3660 - accuracy: 0.8139 - val_loss: 0.3826 - val_accuracy: 0.7867\n",
      "Epoch 36/100\n",
      "943/943 [==============================] - 2s 2ms/step - loss: 0.3708 - accuracy: 0.8129 - val_loss: 0.3770 - val_accuracy: 0.8120\n",
      "Epoch 37/100\n",
      "943/943 [==============================] - 2s 2ms/step - loss: 0.3665 - accuracy: 0.8139 - val_loss: 0.3761 - val_accuracy: 0.8122\n",
      "Epoch 38/100\n",
      "943/943 [==============================] - 2s 2ms/step - loss: 0.3634 - accuracy: 0.8157 - val_loss: 0.3688 - val_accuracy: 0.8161\n",
      "Epoch 39/100\n",
      "943/943 [==============================] - 2s 2ms/step - loss: 0.3613 - accuracy: 0.8179 - val_loss: 0.3646 - val_accuracy: 0.8140\n",
      "Epoch 40/100\n",
      "943/943 [==============================] - 2s 2ms/step - loss: 0.3618 - accuracy: 0.8171 - val_loss: 0.3633 - val_accuracy: 0.8174\n",
      "Epoch 41/100\n",
      "943/943 [==============================] - 2s 2ms/step - loss: 0.3697 - accuracy: 0.8130 - val_loss: 0.3884 - val_accuracy: 0.7964\n",
      "Epoch 42/100\n",
      "943/943 [==============================] - 2s 2ms/step - loss: 0.3702 - accuracy: 0.8125 - val_loss: 0.3704 - val_accuracy: 0.8153\n",
      "Epoch 43/100\n",
      "943/943 [==============================] - 2s 2ms/step - loss: 0.3675 - accuracy: 0.8136 - val_loss: 0.3668 - val_accuracy: 0.8133\n",
      "Epoch 44/100\n",
      "943/943 [==============================] - 2s 2ms/step - loss: 0.3700 - accuracy: 0.8122 - val_loss: 0.3808 - val_accuracy: 0.7913\n",
      "Epoch 45/100\n",
      "943/943 [==============================] - 2s 2ms/step - loss: 0.3738 - accuracy: 0.8094 - val_loss: 0.3811 - val_accuracy: 0.7945\n",
      "Epoch 46/100\n",
      "943/943 [==============================] - 2s 2ms/step - loss: 0.3685 - accuracy: 0.8148 - val_loss: 0.3836 - val_accuracy: 0.8026\n",
      "Epoch 47/100\n",
      "943/943 [==============================] - 2s 2ms/step - loss: 0.3670 - accuracy: 0.8162 - val_loss: 0.3774 - val_accuracy: 0.7958\n",
      "Epoch 48/100\n",
      "943/943 [==============================] - 2s 2ms/step - loss: 0.3663 - accuracy: 0.8147 - val_loss: 0.3664 - val_accuracy: 0.8173\n",
      "Epoch 49/100\n",
      "943/943 [==============================] - 2s 2ms/step - loss: 0.3674 - accuracy: 0.8130 - val_loss: 0.3691 - val_accuracy: 0.8153\n",
      "Epoch 50/100\n",
      "943/943 [==============================] - 2s 2ms/step - loss: 0.3651 - accuracy: 0.8153 - val_loss: 0.3781 - val_accuracy: 0.8037\n",
      "Epoch 51/100\n",
      "943/943 [==============================] - 2s 2ms/step - loss: 0.3638 - accuracy: 0.8157 - val_loss: 0.3643 - val_accuracy: 0.8159\n",
      "Epoch 52/100\n",
      "943/943 [==============================] - 2s 2ms/step - loss: 0.3625 - accuracy: 0.8171 - val_loss: 0.3653 - val_accuracy: 0.8127\n",
      "Epoch 53/100\n",
      "943/943 [==============================] - 2s 2ms/step - loss: 0.3830 - accuracy: 0.8091 - val_loss: 0.3745 - val_accuracy: 0.8164\n",
      "Epoch 54/100\n",
      "943/943 [==============================] - 2s 2ms/step - loss: 0.3719 - accuracy: 0.8129 - val_loss: 0.3672 - val_accuracy: 0.8129\n",
      "Epoch 55/100\n",
      "943/943 [==============================] - 2s 2ms/step - loss: 0.3636 - accuracy: 0.8168 - val_loss: 0.3808 - val_accuracy: 0.8061\n",
      "Epoch 56/100\n",
      "943/943 [==============================] - 2s 2ms/step - loss: 0.3626 - accuracy: 0.8166 - val_loss: 0.3634 - val_accuracy: 0.8189\n",
      "Epoch 57/100\n",
      "943/943 [==============================] - 2s 2ms/step - loss: 0.3649 - accuracy: 0.8171 - val_loss: 0.3648 - val_accuracy: 0.8159\n",
      "Epoch 58/100\n",
      "943/943 [==============================] - 2s 2ms/step - loss: 0.3703 - accuracy: 0.8155 - val_loss: 0.3803 - val_accuracy: 0.7972\n",
      "Epoch 59/100\n",
      "943/943 [==============================] - 2s 2ms/step - loss: 0.3684 - accuracy: 0.8137 - val_loss: 0.3651 - val_accuracy: 0.8171\n",
      "Epoch 60/100\n",
      "943/943 [==============================] - 2s 2ms/step - loss: 0.3640 - accuracy: 0.8156 - val_loss: 0.3652 - val_accuracy: 0.8138\n",
      "Epoch 61/100\n",
      "943/943 [==============================] - 2s 2ms/step - loss: 0.3614 - accuracy: 0.8156 - val_loss: 0.3586 - val_accuracy: 0.8238\n",
      "Epoch 62/100\n",
      "943/943 [==============================] - 2s 2ms/step - loss: 0.3604 - accuracy: 0.8211 - val_loss: 0.3650 - val_accuracy: 0.8177\n",
      "Epoch 63/100\n",
      "943/943 [==============================] - 2s 2ms/step - loss: 0.3626 - accuracy: 0.8176 - val_loss: 0.3661 - val_accuracy: 0.8170\n",
      "Epoch 64/100\n",
      "943/943 [==============================] - 2s 2ms/step - loss: 0.3768 - accuracy: 0.8125 - val_loss: 0.3669 - val_accuracy: 0.8157\n",
      "Epoch 65/100\n",
      "943/943 [==============================] - 2s 2ms/step - loss: 0.3630 - accuracy: 0.8177 - val_loss: 0.3635 - val_accuracy: 0.8169\n",
      "Epoch 66/100\n",
      "943/943 [==============================] - 2s 2ms/step - loss: 0.3634 - accuracy: 0.8169 - val_loss: 0.3695 - val_accuracy: 0.7944\n",
      "Epoch 67/100\n",
      "943/943 [==============================] - 2s 2ms/step - loss: 0.3630 - accuracy: 0.8153 - val_loss: 0.3636 - val_accuracy: 0.8153\n",
      "Epoch 68/100\n",
      "943/943 [==============================] - 2s 2ms/step - loss: 0.3616 - accuracy: 0.8186 - val_loss: 0.3635 - val_accuracy: 0.8151\n",
      "Epoch 69/100\n",
      "943/943 [==============================] - 2s 2ms/step - loss: 0.3609 - accuracy: 0.8179 - val_loss: 0.3660 - val_accuracy: 0.8175\n",
      "Epoch 70/100\n",
      "943/943 [==============================] - 2s 3ms/step - loss: 0.3607 - accuracy: 0.8169 - val_loss: 0.3653 - val_accuracy: 0.8153\n",
      "Epoch 71/100\n",
      "943/943 [==============================] - 2s 2ms/step - loss: 0.3603 - accuracy: 0.8175 - val_loss: 0.3630 - val_accuracy: 0.8163\n",
      "Epoch 72/100\n",
      "943/943 [==============================] - 2s 2ms/step - loss: 0.3608 - accuracy: 0.8178 - val_loss: 0.3708 - val_accuracy: 0.8173\n",
      "Epoch 73/100\n",
      "943/943 [==============================] - 2s 2ms/step - loss: 0.3610 - accuracy: 0.8194 - val_loss: 0.3637 - val_accuracy: 0.8186\n",
      "Epoch 74/100\n",
      "943/943 [==============================] - 2s 2ms/step - loss: 0.3631 - accuracy: 0.8193 - val_loss: 0.3637 - val_accuracy: 0.8181\n",
      "Epoch 75/100\n",
      "943/943 [==============================] - 2s 2ms/step - loss: 0.3591 - accuracy: 0.8202 - val_loss: 0.3641 - val_accuracy: 0.8212\n",
      "Epoch 76/100\n",
      "943/943 [==============================] - 2s 2ms/step - loss: 0.3626 - accuracy: 0.8264 - val_loss: 0.3506 - val_accuracy: 0.8349\n",
      "Epoch 77/100\n",
      "943/943 [==============================] - 2s 2ms/step - loss: 0.3490 - accuracy: 0.8331 - val_loss: 0.3704 - val_accuracy: 0.8088\n",
      "Epoch 78/100\n",
      "943/943 [==============================] - 2s 2ms/step - loss: 0.3612 - accuracy: 0.8192 - val_loss: 0.3675 - val_accuracy: 0.8168\n",
      "Epoch 79/100\n",
      "943/943 [==============================] - 2s 2ms/step - loss: 0.3628 - accuracy: 0.8200 - val_loss: 0.3795 - val_accuracy: 0.7943\n",
      "Epoch 80/100\n",
      "943/943 [==============================] - 2s 2ms/step - loss: 0.3621 - accuracy: 0.8159 - val_loss: 0.3642 - val_accuracy: 0.8167\n",
      "Epoch 81/100\n",
      "943/943 [==============================] - 2s 2ms/step - loss: 0.3618 - accuracy: 0.8165 - val_loss: 0.3635 - val_accuracy: 0.8176\n",
      "Epoch 82/100\n",
      "943/943 [==============================] - 2s 2ms/step - loss: 0.3606 - accuracy: 0.8169 - val_loss: 0.4291 - val_accuracy: 0.7978\n",
      "Epoch 83/100\n",
      "943/943 [==============================] - 2s 2ms/step - loss: 0.3628 - accuracy: 0.8174 - val_loss: 0.3637 - val_accuracy: 0.8177\n",
      "Epoch 84/100\n",
      "943/943 [==============================] - 2s 3ms/step - loss: 0.3615 - accuracy: 0.8174 - val_loss: 0.3702 - val_accuracy: 0.8139\n",
      "Epoch 85/100\n",
      "943/943 [==============================] - 2s 2ms/step - loss: 0.3599 - accuracy: 0.8187 - val_loss: 0.3735 - val_accuracy: 0.8077\n",
      "Epoch 86/100\n",
      "943/943 [==============================] - 2s 2ms/step - loss: 0.3594 - accuracy: 0.8173 - val_loss: 0.3623 - val_accuracy: 0.8255\n",
      "Epoch 87/100\n",
      "943/943 [==============================] - 2s 2ms/step - loss: 0.3585 - accuracy: 0.8203 - val_loss: 0.3701 - val_accuracy: 0.8085\n",
      "Epoch 88/100\n",
      "943/943 [==============================] - 2s 2ms/step - loss: 0.3596 - accuracy: 0.8169 - val_loss: 0.3655 - val_accuracy: 0.8151\n",
      "Epoch 89/100\n",
      "943/943 [==============================] - 2s 2ms/step - loss: 0.3583 - accuracy: 0.8190 - val_loss: 0.3625 - val_accuracy: 0.8157\n",
      "Epoch 90/100\n",
      "943/943 [==============================] - 2s 2ms/step - loss: 0.3569 - accuracy: 0.8184 - val_loss: 0.3647 - val_accuracy: 0.8177\n",
      "Epoch 91/100\n",
      "943/943 [==============================] - 2s 2ms/step - loss: 0.3589 - accuracy: 0.8175 - val_loss: 0.3627 - val_accuracy: 0.8181\n",
      "Epoch 92/100\n",
      "943/943 [==============================] - 2s 2ms/step - loss: 0.3574 - accuracy: 0.8185 - val_loss: 0.3628 - val_accuracy: 0.8167\n",
      "Epoch 93/100\n",
      "943/943 [==============================] - 2s 2ms/step - loss: 0.3534 - accuracy: 0.8225 - val_loss: 0.3601 - val_accuracy: 0.8192\n",
      "Epoch 94/100\n",
      "943/943 [==============================] - 2s 2ms/step - loss: 0.3528 - accuracy: 0.8247 - val_loss: 0.3532 - val_accuracy: 0.8278\n",
      "Epoch 95/100\n",
      "943/943 [==============================] - 2s 2ms/step - loss: 0.3567 - accuracy: 0.8206 - val_loss: 0.3740 - val_accuracy: 0.8136\n",
      "Epoch 96/100\n",
      "943/943 [==============================] - 2s 2ms/step - loss: 0.3603 - accuracy: 0.8180 - val_loss: 0.3680 - val_accuracy: 0.8145\n",
      "Epoch 97/100\n",
      "943/943 [==============================] - 2s 2ms/step - loss: 0.3586 - accuracy: 0.8202 - val_loss: 0.3640 - val_accuracy: 0.8160\n",
      "Epoch 98/100\n",
      "943/943 [==============================] - 2s 2ms/step - loss: 0.3576 - accuracy: 0.8191 - val_loss: 0.3664 - val_accuracy: 0.8170\n",
      "Epoch 99/100\n",
      "943/943 [==============================] - 2s 2ms/step - loss: 0.3578 - accuracy: 0.8185 - val_loss: 0.3669 - val_accuracy: 0.8122\n",
      "Epoch 100/100\n",
      "943/943 [==============================] - 2s 2ms/step - loss: 0.3666 - accuracy: 0.8158 - val_loss: 0.3642 - val_accuracy: 0.8165\n"
     ]
    }
   ],
   "execution_count": 8
  },
  {
   "cell_type": "code",
   "metadata": {
    "ExecuteTime": {
     "end_time": "2025-05-26T17:58:46.041148Z",
     "start_time": "2025-05-26T17:58:45.680163Z"
    }
   },
   "source": [
    "import pandas as pd\n",
    "\n",
    "pd.DataFrame(history.history).plot(figsize=(8, 5))\n",
    "plt.grid(True)\n",
    "plt.gca().set_ylim(0, 1)\n",
    "plt.show()"
   ],
   "outputs": [
    {
     "data": {
      "text/plain": [
       "<Figure size 800x500 with 1 Axes>"
      ],
      "image/png": "[encoded data removed]"
     },
     "metadata": {},
     "output_type": "display_data"
    }
   ],
   "execution_count": 9
  },
  {
   "cell_type": "code",
   "metadata": {
    "ExecuteTime": {
     "end_time": "2025-05-26T17:58:46.831152Z",
     "start_time": "2025-05-26T17:58:46.214766Z"
    }
   },
   "source": [
    "model.evaluate(X_test,y_test)"
   ],
   "outputs": [
    {
     "name": "stdout",
     "output_type": "stream",
     "text": [
      "471/471 [==============================] - 1s 1ms/step - loss: 0.3642 - accuracy: 0.8165\n"
     ]
    },
    {
     "data": {
      "text/plain": [
       "[0.36416828632354736, 0.8165338635444641]"
      ]
     },
     "execution_count": 10,
     "metadata": {},
     "output_type": "execute_result"
    }
   ],
   "execution_count": 10
  },
  {
   "cell_type": "code",
   "metadata": {
    "ExecuteTime": {
     "end_time": "2025-05-26T17:58:56.587437Z",
     "start_time": "2025-05-26T17:58:46.880138Z"
    }
   },
   "source": [
    "from sklearn.metrics import accuracy_score\n",
    "\n",
    "# Get predictions\n",
    "y_pred = model.predict(X_test)\n",
    "\n",
    "# Assuming a binary classification problem\n",
    "y_pred = (y_pred > 0.5).astype(int)\n",
    "\n",
    "# Calculate accuracy\n",
    "accuracy = accuracy_score(y_test, y_pred)\n",
    "print(\"Accuracy:\", accuracy)"
   ],
   "outputs": [
    {
     "name": "stdout",
     "output_type": "stream",
     "text": [
      "471/471 [==============================] - 0s 873us/step\n",
      "Accuracy: 0.8165338645418326\n"
     ]
    }
   ],
   "execution_count": 11
  },
  {
   "cell_type": "markdown",
   "metadata": {},
   "source": [
    "# Zad\n",
    "\n",
    "Wczytaj nauczony model"
   ]
  },
  {
   "cell_type": "code",
   "metadata": {
    "ExecuteTime": {
     "end_time": "2025-05-26T17:58:57.391257Z",
     "start_time": "2025-05-26T17:58:56.637633Z"
    }
   },
   "source": [
    "model.load_weights(\"wagi_best.h5py\")\n",
    "model.evaluate(X_test,y_test)"
   ],
   "outputs": [
    {
     "name": "stdout",
     "output_type": "stream",
     "text": [
      "471/471 [==============================] - 0s 935us/step - loss: 0.3465 - accuracy: 0.8343\n"
     ]
    },
    {
     "data": {
      "text/plain": [
       "[0.34654664993286133, 0.8342629671096802]"
      ]
     },
     "execution_count": 12,
     "metadata": {},
     "output_type": "execute_result"
    }
   ],
   "execution_count": 12
  },
  {
   "cell_type": "markdown",
   "metadata": {},
   "source": [
    "# Zad\n",
    "\n",
    "* Naucz dowolny model na zbiorze MNIST.\n",
    "* Zapisz optymalne parametry uczenia do pliku\n",
    "* Wczytaj dane z pliku"
   ]
  },
  {
   "cell_type": "code",
   "metadata": {
    "ExecuteTime": {
     "end_time": "2025-05-26T18:02:01.324488Z",
     "start_time": "2025-05-26T18:01:28.078406Z"
    }
   },
   "source": [
    "\n",
    "from keras.layers import Flatten\n",
    "\n",
    "(X_train_full, y_train_full), (X_test, y_test) = keras.datasets.mnist.load_data()\n",
    "\n",
    "X_valid, X_train = X_train_full[:5000] / 255., X_train_full[5000:] / 255.\n",
    "y_valid, y_train = y_train_full[:5000], y_train_full[5000:]\n",
    "X_test = X_test / 255.\n",
    "\n",
    "model = Sequential([\n",
    "    Flatten(input_shape=(28, 28)),\n",
    "    Dense(128, activation='relu'),\n",
    "    Dense(10, activation='softmax')\n",
    "])\n",
    "\n",
    "model.compile(\n",
    "    loss=\"sparse_categorical_crossentropy\",\n",
    "    optimizer=\"adam\",\n",
    "    metrics=[\"accuracy\"]\n",
    ")\n",
    "\n",
    "save_best_model = ModelCheckpoint(\"my_model.h5py\",save_best_only=True)\n",
    "history = model.fit(X_train, y_train, epochs=10, validation_data=(X_valid, y_valid), callbacks=[save_best_model])\n",
    "\n",
    "plt.plot(history.history['accuracy'])\n",
    "plt.show()\n",
    "\n",
    "\n",
    "model.load_weights(\"my_model.h5py\")\n",
    "model.evaluate(X_test,y_test)\n"
   ],
   "outputs": [
    {
     "name": "stdout",
     "output_type": "stream",
     "text": [
      "Epoch 1/10\n",
      "1703/1719 [============================>.] - ETA: 0s - loss: 0.2767 - accuracy: 0.9216INFO:tensorflow:Assets written to: my_model.h5py\\assets\n",
      "1719/1719 [==============================] - 4s 2ms/step - loss: 0.2758 - accuracy: 0.9218 - val_loss: 0.1423 - val_accuracy: 0.9580\n",
      "Epoch 2/10\n",
      "1715/1719 [============================>.] - ETA: 0s - loss: 0.1240 - accuracy: 0.9631INFO:tensorflow:Assets written to: my_model.h5py\\assets\n",
      "1719/1719 [==============================] - 4s 2ms/step - loss: 0.1242 - accuracy: 0.9631 - val_loss: 0.1068 - val_accuracy: 0.9686\n",
      "Epoch 3/10\n",
      "1703/1719 [============================>.] - ETA: 0s - loss: 0.0859 - accuracy: 0.9734INFO:tensorflow:Assets written to: my_model.h5py\\assets\n",
      "1719/1719 [==============================] - 3s 2ms/step - loss: 0.0857 - accuracy: 0.9734 - val_loss: 0.0946 - val_accuracy: 0.9714\n",
      "Epoch 4/10\n",
      "1689/1719 [============================>.] - ETA: 0s - loss: 0.0640 - accuracy: 0.9804INFO:tensorflow:Assets written to: my_model.h5py\\assets\n",
      "1719/1719 [==============================] - 3s 2ms/step - loss: 0.0640 - accuracy: 0.9804 - val_loss: 0.0820 - val_accuracy: 0.9744\n",
      "Epoch 5/10\n",
      "1696/1719 [============================>.] - ETA: 0s - loss: 0.0483 - accuracy: 0.9850INFO:tensorflow:Assets written to: my_model.h5py\\assets\n",
      "1719/1719 [==============================] - 3s 2ms/step - loss: 0.0485 - accuracy: 0.9850 - val_loss: 0.0727 - val_accuracy: 0.9784\n",
      "Epoch 6/10\n",
      "1719/1719 [==============================] - 3s 2ms/step - loss: 0.0387 - accuracy: 0.9880 - val_loss: 0.0879 - val_accuracy: 0.9752\n",
      "Epoch 7/10\n",
      "1719/1719 [==============================] - 3s 2ms/step - loss: 0.0302 - accuracy: 0.9906 - val_loss: 0.0819 - val_accuracy: 0.9786\n",
      "Epoch 8/10\n",
      "1719/1719 [==============================] - 3s 2ms/step - loss: 0.0244 - accuracy: 0.9926 - val_loss: 0.0755 - val_accuracy: 0.9792\n",
      "Epoch 9/10\n",
      "1719/1719 [==============================] - 3s 2ms/step - loss: 0.0206 - accuracy: 0.9935 - val_loss: 0.0808 - val_accuracy: 0.9774\n",
      "Epoch 10/10\n",
      "1719/1719 [==============================] - 3s 2ms/step - loss: 0.0148 - accuracy: 0.9956 - val_loss: 0.0930 - val_accuracy: 0.9762\n"
     ]
    },
    {
     "data": {
      "text/plain": [
       "<Figure size 640x480 with 1 Axes>"
      ],
      "image/png": "[encoded data removed]"
     },
     "metadata": {},
     "output_type": "display_data"
    },
    {
     "name": "stdout",
     "output_type": "stream",
     "text": [
      "313/313 [==============================] - 0s 1ms/step - loss: 0.0812 - accuracy: 0.9752\n"
     ]
    },
    {
     "data": {
      "text/plain": [
       "[0.08119170367717743, 0.9751999974250793]"
      ]
     },
     "execution_count": 14,
     "metadata": {},
     "output_type": "execute_result"
    }
   ],
   "execution_count": 14
  },
  {
   "metadata": {},
   "cell_type": "code",
   "outputs": [],
   "execution_count": null,
   "source": ""
  }
 ],
 "metadata": {
  "kernelspec": {
   "display_name": "Python 3 (ipykernel)",
   "language": "python",
   "name": "python3"
  },
  "language_info": {
   "codemirror_mode": {
    "name": "ipython",
    "version": 3
   },
   "file_extension": ".py",
   "mimetype": "text/x-python",
   "name": "python",
   "nbconvert_exporter": "python",
   "pygments_lexer": "ipython3",
   "version": "3.8.10"
  }
 },
 "nbformat": 4,
 "nbformat_minor": 4
}
