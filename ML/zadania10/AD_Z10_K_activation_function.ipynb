{
 "cells": [
  {
   "cell_type": "code",
   "metadata": {
    "ExecuteTime": {
     "end_time": "2025-05-26T16:22:10.344921Z",
     "start_time": "2025-05-26T16:22:07.216163Z"
    }
   },
   "source": [
    "import tensorflow as tf\n",
    "from tensorflow import keras\n",
    "print(tf.__version__)\n"
   ],
   "outputs": [
    {
     "name": "stdout",
     "output_type": "stream",
     "text": [
      "2.10.1\n"
     ]
    }
   ],
   "execution_count": 1
  },
  {
   "cell_type": "code",
   "metadata": {
    "ExecuteTime": {
     "end_time": "2025-05-26T16:22:10.714060Z",
     "start_time": "2025-05-26T16:22:10.367246Z"
    }
   },
   "source": [
    "import numpy as np\n",
    "import pandas as pd\n",
    "import matplotlib.pyplot as plt\n",
    "import os"
   ],
   "outputs": [],
   "execution_count": 2
  },
  {
   "cell_type": "code",
   "metadata": {
    "ExecuteTime": {
     "end_time": "2025-05-26T16:24:19.825658Z",
     "start_time": "2025-05-26T16:24:14.986462Z"
    }
   },
   "source": [
    "# Wczytaj dane treningowe i testowe\n",
    "import numpy as np\n",
    "import matplotlib.pyplot as plt\n",
    "import pandas as pd\n",
    "\n",
    "data_url = 'https://archive.ics.uci.edu/ml/machine-learning-databases/adult/adult.data'\n",
    "test_url = 'https://archive.ics.uci.edu/ml/machine-learning-databases/adult/adult.test'\n",
    "\n",
    "train_set = pd.read_csv(data_url, sep=\", \",header = None)\n",
    "test_set = pd.read_csv(test_url, sep=\", \",skiprows = 1, header = None) # Make sure to skip a row for the test set\n",
    "\n",
    "col_labels = ['age', 'workclass', 'fnlwgt', 'education', 'education_num', 'marital_status', 'occupation', \n",
    "              'relationship', 'race', 'sex', 'capital_gain', 'capital_loss', 'hours_per_week', 'native_country',\n",
    "             'wage_class']\n",
    "train_set.columns = col_labels\n",
    "test_set.columns = col_labels\n",
    "\n",
    "train = train_set.replace('?', np.nan).dropna()\n",
    "test = test_set.replace('?', np.nan).dropna()\n",
    "\n",
    "train_set.head()\n"
   ],
   "outputs": [
    {
     "name": "stderr",
     "output_type": "stream",
     "text": [
      "C:\\Users\\krzys\\AppData\\Local\\Temp\\ipykernel_11996\\2049605904.py:9: ParserWarning: Falling back to the 'python' engine because the 'c' engine does not support regex separators (separators > 1 char and different from '\\s+' are interpreted as regex); you can avoid this warning by specifying engine='python'.\n",
      "  train_set = pd.read_csv(data_url, sep=\", \",header = None)\n",
      "C:\\Users\\krzys\\AppData\\Local\\Temp\\ipykernel_11996\\2049605904.py:10: ParserWarning: Falling back to the 'python' engine because the 'c' engine does not support regex separators (separators > 1 char and different from '\\s+' are interpreted as regex); you can avoid this warning by specifying engine='python'.\n",
      "  test_set = pd.read_csv(test_url, sep=\", \",skiprows = 1, header = None) # Make sure to skip a row for the test set\n"
     ]
    },
    {
     "data": {
      "text/plain": [
       "   age         workclass  fnlwgt  education  education_num  \\\n",
       "0   39         State-gov   77516  Bachelors             13   \n",
       "1   50  Self-emp-not-inc   83311  Bachelors             13   \n",
       "2   38           Private  215646    HS-grad              9   \n",
       "3   53           Private  234721       11th              7   \n",
       "4   28           Private  338409  Bachelors             13   \n",
       "\n",
       "       marital_status         occupation   relationship   race     sex  \\\n",
       "0       Never-married       Adm-clerical  Not-in-family  White    Male   \n",
       "1  Married-civ-spouse    Exec-managerial        Husband  White    Male   \n",
       "2            Divorced  Handlers-cleaners  Not-in-family  White    Male   \n",
       "3  Married-civ-spouse  Handlers-cleaners        Husband  Black    Male   \n",
       "4  Married-civ-spouse     Prof-specialty           Wife  Black  Female   \n",
       "\n",
       "   capital_gain  capital_loss  hours_per_week native_country wage_class  \n",
       "0          2174             0              40  United-States      <=50K  \n",
       "1             0             0              13  United-States      <=50K  \n",
       "2             0             0              40  United-States      <=50K  \n",
       "3             0             0              40  United-States      <=50K  \n",
       "4             0             0              40           Cuba      <=50K  "
      ],
      "text/html": [
       "<div>\n",
       "<style scoped>\n",
       "    .dataframe tbody tr th:only-of-type {\n",
       "        vertical-align: middle;\n",
       "    }\n",
       "\n",
       "    .dataframe tbody tr th {\n",
       "        vertical-align: top;\n",
       "    }\n",
       "\n",
       "    .dataframe thead th {\n",
       "        text-align: right;\n",
       "    }\n",
       "</style>\n",
       "<table border=\"1\" class=\"dataframe\">\n",
       "  <thead>\n",
       "    <tr style=\"text-align: right;\">\n",
       "      <th></th>\n",
       "      <th>age</th>\n",
       "      <th>workclass</th>\n",
       "      <th>fnlwgt</th>\n",
       "      <th>education</th>\n",
       "      <th>education_num</th>\n",
       "      <th>marital_status</th>\n",
       "      <th>occupation</th>\n",
       "      <th>relationship</th>\n",
       "      <th>race</th>\n",
       "      <th>sex</th>\n",
       "      <th>capital_gain</th>\n",
       "      <th>capital_loss</th>\n",
       "      <th>hours_per_week</th>\n",
       "      <th>native_country</th>\n",
       "      <th>wage_class</th>\n",
       "    </tr>\n",
       "  </thead>\n",
       "  <tbody>\n",
       "    <tr>\n",
       "      <th>0</th>\n",
       "      <td>39</td>\n",
       "      <td>State-gov</td>\n",
       "      <td>77516</td>\n",
       "      <td>Bachelors</td>\n",
       "      <td>13</td>\n",
       "      <td>Never-married</td>\n",
       "      <td>Adm-clerical</td>\n",
       "      <td>Not-in-family</td>\n",
       "      <td>White</td>\n",
       "      <td>Male</td>\n",
       "      <td>2174</td>\n",
       "      <td>0</td>\n",
       "      <td>40</td>\n",
       "      <td>United-States</td>\n",
       "      <td>&lt;=50K</td>\n",
       "    </tr>\n",
       "    <tr>\n",
       "      <th>1</th>\n",
       "      <td>50</td>\n",
       "      <td>Self-emp-not-inc</td>\n",
       "      <td>83311</td>\n",
       "      <td>Bachelors</td>\n",
       "      <td>13</td>\n",
       "      <td>Married-civ-spouse</td>\n",
       "      <td>Exec-managerial</td>\n",
       "      <td>Husband</td>\n",
       "      <td>White</td>\n",
       "      <td>Male</td>\n",
       "      <td>0</td>\n",
       "      <td>0</td>\n",
       "      <td>13</td>\n",
       "      <td>United-States</td>\n",
       "      <td>&lt;=50K</td>\n",
       "    </tr>\n",
       "    <tr>\n",
       "      <th>2</th>\n",
       "      <td>38</td>\n",
       "      <td>Private</td>\n",
       "      <td>215646</td>\n",
       "      <td>HS-grad</td>\n",
       "      <td>9</td>\n",
       "      <td>Divorced</td>\n",
       "      <td>Handlers-cleaners</td>\n",
       "      <td>Not-in-family</td>\n",
       "      <td>White</td>\n",
       "      <td>Male</td>\n",
       "      <td>0</td>\n",
       "      <td>0</td>\n",
       "      <td>40</td>\n",
       "      <td>United-States</td>\n",
       "      <td>&lt;=50K</td>\n",
       "    </tr>\n",
       "    <tr>\n",
       "      <th>3</th>\n",
       "      <td>53</td>\n",
       "      <td>Private</td>\n",
       "      <td>234721</td>\n",
       "      <td>11th</td>\n",
       "      <td>7</td>\n",
       "      <td>Married-civ-spouse</td>\n",
       "      <td>Handlers-cleaners</td>\n",
       "      <td>Husband</td>\n",
       "      <td>Black</td>\n",
       "      <td>Male</td>\n",
       "      <td>0</td>\n",
       "      <td>0</td>\n",
       "      <td>40</td>\n",
       "      <td>United-States</td>\n",
       "      <td>&lt;=50K</td>\n",
       "    </tr>\n",
       "    <tr>\n",
       "      <th>4</th>\n",
       "      <td>28</td>\n",
       "      <td>Private</td>\n",
       "      <td>338409</td>\n",
       "      <td>Bachelors</td>\n",
       "      <td>13</td>\n",
       "      <td>Married-civ-spouse</td>\n",
       "      <td>Prof-specialty</td>\n",
       "      <td>Wife</td>\n",
       "      <td>Black</td>\n",
       "      <td>Female</td>\n",
       "      <td>0</td>\n",
       "      <td>0</td>\n",
       "      <td>40</td>\n",
       "      <td>Cuba</td>\n",
       "      <td>&lt;=50K</td>\n",
       "    </tr>\n",
       "  </tbody>\n",
       "</table>\n",
       "</div>"
      ]
     },
     "execution_count": 5,
     "metadata": {},
     "output_type": "execute_result"
    }
   ],
   "execution_count": 5
  },
  {
   "cell_type": "markdown",
   "metadata": {},
   "source": [
    "# Zad.\n",
    "Zróbmy szybki preprocesing"
   ]
  },
  {
   "cell_type": "code",
   "metadata": {
    "ExecuteTime": {
     "end_time": "2025-05-26T16:24:22.313933Z",
     "start_time": "2025-05-26T16:24:22.037184Z"
    }
   },
   "source": [
    "dataset = pd.concat([train,test])\n",
    "\n",
    "dataset['wage_class'] = dataset.wage_class.replace({'<=50K.': 0,'<=50K':0, '>50K.':1, '>50K':1})\n",
    "\n",
    "dataset.drop([\"fnlwgt\"],axis=1,inplace=True)\n",
    "\n",
    "dataset.drop([\"education\"],axis=1,inplace=True)\n",
    "\n",
    "x = dataset.groupby('native_country')[\"wage_class\"].mean()\n",
    "\n",
    "d = dict(pd.cut(x[x.index!=\" United-States\"],5,labels=range(5)))\n",
    "\n",
    "dataset['native_country'] = dataset['native_country'].replace(d)\n",
    "\n",
    "dataset = pd.get_dummies(dataset,drop_first=True)\n",
    "\n",
    "train = dataset.iloc[:train.shape[0]]\n",
    "test = dataset.iloc[train.shape[0]:]\n",
    "\n",
    "X_train = train.drop(\"wage_class\",axis=1)\n",
    "y_train = train.wage_class\n",
    "\n",
    "X_test = test.drop(\"wage_class\",axis=1)\n",
    "y_test = test.wage_class\n"
   ],
   "outputs": [
    {
     "name": "stderr",
     "output_type": "stream",
     "text": [
      "C:\\Users\\krzys\\AppData\\Local\\Temp\\ipykernel_11996\\3132754484.py:3: FutureWarning: Downcasting behavior in `replace` is deprecated and will be removed in a future version. To retain the old behavior, explicitly call `result.infer_objects(copy=False)`. To opt-in to the future behavior, set `pd.set_option('future.no_silent_downcasting', True)`\n",
      "  dataset['wage_class'] = dataset.wage_class.replace({'<=50K.': 0,'<=50K':0, '>50K.':1, '>50K':1})\n",
      "C:\\Users\\krzys\\AppData\\Local\\Temp\\ipykernel_11996\\3132754484.py:13: FutureWarning: Downcasting behavior in `replace` is deprecated and will be removed in a future version. To retain the old behavior, explicitly call `result.infer_objects(copy=False)`. To opt-in to the future behavior, set `pd.set_option('future.no_silent_downcasting', True)`\n",
      "  dataset['native_country'] = dataset['native_country'].replace(d)\n"
     ]
    }
   ],
   "execution_count": 6
  },
  {
   "cell_type": "markdown",
   "metadata": {},
   "source": [
    "# Zad\n",
    "Nauczmy prosty model."
   ]
  },
  {
   "cell_type": "code",
   "metadata": {
    "ExecuteTime": {
     "end_time": "2025-05-26T16:24:23.301237Z",
     "start_time": "2025-05-26T16:24:23.176819Z"
    }
   },
   "source": [
    "from keras.models import Sequential\n",
    "from keras.layers import Dense\n",
    "\n",
    "from keras.callbacks import History\n",
    "\n",
    "history = History()\n",
    "model = Sequential()\n",
    "model.add(Dense(100,activation=\"sigmoid\",input_shape=(X_train.shape[1],)))\n",
    "model.add(Dense(50,activation=\"sigmoid\"))\n",
    "model.add(Dense(10,activation=\"sigmoid\"))\n",
    "model.add(Dense(1,activation=\"sigmoid\"))\n",
    "model.summary()"
   ],
   "outputs": [
    {
     "name": "stdout",
     "output_type": "stream",
     "text": [
      "Model: \"sequential\"\n",
      "_________________________________________________________________\n",
      " Layer (type)                Output Shape              Param #   \n",
      "=================================================================\n",
      " dense (Dense)               (None, 100)               4200      \n",
      "                                                                 \n",
      " dense_1 (Dense)             (None, 50)                5050      \n",
      "                                                                 \n",
      " dense_2 (Dense)             (None, 10)                510       \n",
      "                                                                 \n",
      " dense_3 (Dense)             (None, 1)                 11        \n",
      "                                                                 \n",
      "=================================================================\n",
      "Total params: 9,771\n",
      "Trainable params: 9,771\n",
      "Non-trainable params: 0\n",
      "_________________________________________________________________\n"
     ]
    }
   ],
   "execution_count": 7
  },
  {
   "cell_type": "code",
   "metadata": {
    "ExecuteTime": {
     "end_time": "2025-05-26T16:24:25.945384Z",
     "start_time": "2025-05-26T16:24:25.930971Z"
    }
   },
   "source": [
    "model.compile(loss=\"binary_crossentropy\",optimizer=\"Adam\", metrics=[\"accuracy\"])"
   ],
   "outputs": [],
   "execution_count": 8
  },
  {
   "cell_type": "code",
   "metadata": {
    "ExecuteTime": {
     "end_time": "2025-05-26T16:28:52.570728Z",
     "start_time": "2025-05-26T16:24:35.829572Z"
    }
   },
   "source": [
    "# history = model.fit(X_train, y_train, epochs=30, validation_data=(X_valid, y_valid))\n",
    "X_train = X_train.astype('float32')\n",
    "y_train = y_train.astype('float32')\n",
    "X_test = X_test.astype('float32')\n",
    "y_test = y_test.astype('float32')\n",
    "\n",
    "# Reshape labels if necessary (for example, for categorical crossentropy)\n",
    "y_train = np.expand_dims(y_train, axis=-1)\n",
    "y_test = np.expand_dims(y_test, axis=-1)\n",
    "history = model.fit(X_train, y_train, validation_data= (X_test, y_test), batch_size=32,epochs=100)"
   ],
   "outputs": [
    {
     "name": "stdout",
     "output_type": "stream",
     "text": [
      "Epoch 1/100\n",
      "943/943 [==============================] - 3s 2ms/step - loss: 0.4774 - accuracy: 0.7749 - val_loss: 0.3890 - val_accuracy: 0.8100\n",
      "Epoch 2/100\n",
      "943/943 [==============================] - 2s 2ms/step - loss: 0.3874 - accuracy: 0.8103 - val_loss: 0.3790 - val_accuracy: 0.8086\n",
      "Epoch 3/100\n",
      "943/943 [==============================] - 2s 2ms/step - loss: 0.3788 - accuracy: 0.8124 - val_loss: 0.3743 - val_accuracy: 0.8101\n",
      "Epoch 4/100\n",
      "943/943 [==============================] - 2s 2ms/step - loss: 0.3739 - accuracy: 0.8143 - val_loss: 0.3752 - val_accuracy: 0.7926\n",
      "Epoch 5/100\n",
      "943/943 [==============================] - 2s 2ms/step - loss: 0.3724 - accuracy: 0.8122 - val_loss: 0.3778 - val_accuracy: 0.8102\n",
      "Epoch 6/100\n",
      "943/943 [==============================] - 2s 2ms/step - loss: 0.3711 - accuracy: 0.8140 - val_loss: 0.3675 - val_accuracy: 0.8108\n",
      "Epoch 7/100\n",
      "943/943 [==============================] - 2s 2ms/step - loss: 0.3711 - accuracy: 0.8137 - val_loss: 0.3747 - val_accuracy: 0.8074\n",
      "Epoch 8/100\n",
      "943/943 [==============================] - 2s 2ms/step - loss: 0.3708 - accuracy: 0.8103 - val_loss: 0.3763 - val_accuracy: 0.8124\n",
      "Epoch 9/100\n",
      "943/943 [==============================] - 2s 2ms/step - loss: 0.3714 - accuracy: 0.8132 - val_loss: 0.3668 - val_accuracy: 0.8175\n",
      "Epoch 10/100\n",
      "943/943 [==============================] - 2s 2ms/step - loss: 0.3694 - accuracy: 0.8131 - val_loss: 0.3684 - val_accuracy: 0.8141\n",
      "Epoch 11/100\n",
      "943/943 [==============================] - 2s 2ms/step - loss: 0.3685 - accuracy: 0.8138 - val_loss: 0.3716 - val_accuracy: 0.7952\n",
      "Epoch 12/100\n",
      "943/943 [==============================] - 2s 2ms/step - loss: 0.3694 - accuracy: 0.8135 - val_loss: 0.3766 - val_accuracy: 0.8127\n",
      "Epoch 13/100\n",
      "943/943 [==============================] - 2s 2ms/step - loss: 0.3687 - accuracy: 0.8153 - val_loss: 0.3739 - val_accuracy: 0.8096\n",
      "Epoch 14/100\n",
      "943/943 [==============================] - 2s 2ms/step - loss: 0.3689 - accuracy: 0.8136 - val_loss: 0.3720 - val_accuracy: 0.8106\n",
      "Epoch 15/100\n",
      "943/943 [==============================] - 2s 2ms/step - loss: 0.3683 - accuracy: 0.8142 - val_loss: 0.3812 - val_accuracy: 0.8061\n",
      "Epoch 16/100\n",
      "943/943 [==============================] - 2s 2ms/step - loss: 0.3660 - accuracy: 0.8150 - val_loss: 0.3767 - val_accuracy: 0.8098\n",
      "Epoch 17/100\n",
      "943/943 [==============================] - 2s 2ms/step - loss: 0.3679 - accuracy: 0.8149 - val_loss: 0.3929 - val_accuracy: 0.7886\n",
      "Epoch 18/100\n",
      "943/943 [==============================] - 2s 2ms/step - loss: 0.3646 - accuracy: 0.8145 - val_loss: 0.3677 - val_accuracy: 0.8138\n",
      "Epoch 19/100\n",
      "943/943 [==============================] - 2s 2ms/step - loss: 0.3650 - accuracy: 0.8152 - val_loss: 0.3646 - val_accuracy: 0.8150\n",
      "Epoch 20/100\n",
      "943/943 [==============================] - 2s 2ms/step - loss: 0.3660 - accuracy: 0.8155 - val_loss: 0.3735 - val_accuracy: 0.8098\n",
      "Epoch 21/100\n",
      "943/943 [==============================] - 2s 2ms/step - loss: 0.3659 - accuracy: 0.8156 - val_loss: 0.3687 - val_accuracy: 0.8147\n",
      "Epoch 22/100\n",
      "943/943 [==============================] - 2s 2ms/step - loss: 0.3651 - accuracy: 0.8170 - val_loss: 0.3685 - val_accuracy: 0.8147\n",
      "Epoch 23/100\n",
      "943/943 [==============================] - 2s 2ms/step - loss: 0.3660 - accuracy: 0.8148 - val_loss: 0.3651 - val_accuracy: 0.8151\n",
      "Epoch 24/100\n",
      "943/943 [==============================] - 2s 2ms/step - loss: 0.3682 - accuracy: 0.8126 - val_loss: 0.3745 - val_accuracy: 0.8155\n",
      "Epoch 25/100\n",
      "943/943 [==============================] - 2s 2ms/step - loss: 0.3676 - accuracy: 0.8127 - val_loss: 0.3692 - val_accuracy: 0.8118\n",
      "Epoch 26/100\n",
      "943/943 [==============================] - 2s 2ms/step - loss: 0.3650 - accuracy: 0.8170 - val_loss: 0.3801 - val_accuracy: 0.8071\n",
      "Epoch 27/100\n",
      "943/943 [==============================] - 2s 2ms/step - loss: 0.3648 - accuracy: 0.8162 - val_loss: 0.3755 - val_accuracy: 0.8093\n",
      "Epoch 28/100\n",
      "943/943 [==============================] - 2s 2ms/step - loss: 0.3651 - accuracy: 0.8159 - val_loss: 0.3880 - val_accuracy: 0.8163\n",
      "Epoch 29/100\n",
      "943/943 [==============================] - 2s 2ms/step - loss: 0.3673 - accuracy: 0.8155 - val_loss: 0.3650 - val_accuracy: 0.8190\n",
      "Epoch 30/100\n",
      "943/943 [==============================] - 2s 2ms/step - loss: 0.3644 - accuracy: 0.8137 - val_loss: 0.3635 - val_accuracy: 0.8185\n",
      "Epoch 31/100\n",
      "943/943 [==============================] - 2s 2ms/step - loss: 0.3657 - accuracy: 0.8171 - val_loss: 0.3769 - val_accuracy: 0.7933\n",
      "Epoch 32/100\n",
      "943/943 [==============================] - 2s 2ms/step - loss: 0.3656 - accuracy: 0.8151 - val_loss: 0.3682 - val_accuracy: 0.8149\n",
      "Epoch 33/100\n",
      "943/943 [==============================] - 2s 2ms/step - loss: 0.3629 - accuracy: 0.8143 - val_loss: 0.3698 - val_accuracy: 0.8144\n",
      "Epoch 34/100\n",
      "943/943 [==============================] - 2s 2ms/step - loss: 0.3645 - accuracy: 0.8164 - val_loss: 0.3635 - val_accuracy: 0.8181\n",
      "Epoch 35/100\n",
      "943/943 [==============================] - 2s 2ms/step - loss: 0.3640 - accuracy: 0.8160 - val_loss: 0.3843 - val_accuracy: 0.7925\n",
      "Epoch 36/100\n",
      "943/943 [==============================] - 2s 2ms/step - loss: 0.3627 - accuracy: 0.8158 - val_loss: 0.3837 - val_accuracy: 0.8023\n",
      "Epoch 37/100\n",
      "943/943 [==============================] - 2s 2ms/step - loss: 0.3630 - accuracy: 0.8166 - val_loss: 0.3655 - val_accuracy: 0.8184\n",
      "Epoch 38/100\n",
      "943/943 [==============================] - 2s 2ms/step - loss: 0.3628 - accuracy: 0.8179 - val_loss: 0.3754 - val_accuracy: 0.7982\n",
      "Epoch 39/100\n",
      "943/943 [==============================] - 2s 2ms/step - loss: 0.3644 - accuracy: 0.8146 - val_loss: 0.3643 - val_accuracy: 0.8169\n",
      "Epoch 40/100\n",
      "943/943 [==============================] - 2s 2ms/step - loss: 0.3646 - accuracy: 0.8159 - val_loss: 0.3659 - val_accuracy: 0.8183\n",
      "Epoch 41/100\n",
      "943/943 [==============================] - 2s 2ms/step - loss: 0.3622 - accuracy: 0.8172 - val_loss: 0.3842 - val_accuracy: 0.8124\n",
      "Epoch 42/100\n",
      "943/943 [==============================] - 2s 2ms/step - loss: 0.3620 - accuracy: 0.8187 - val_loss: 0.3669 - val_accuracy: 0.8188\n",
      "Epoch 43/100\n",
      "943/943 [==============================] - 2s 2ms/step - loss: 0.3611 - accuracy: 0.8169 - val_loss: 0.3672 - val_accuracy: 0.8164\n",
      "Epoch 44/100\n",
      "943/943 [==============================] - 2s 2ms/step - loss: 0.3613 - accuracy: 0.8188 - val_loss: 0.3646 - val_accuracy: 0.8189\n",
      "Epoch 45/100\n",
      "943/943 [==============================] - 2s 2ms/step - loss: 0.3618 - accuracy: 0.8175 - val_loss: 0.3771 - val_accuracy: 0.8132\n",
      "Epoch 46/100\n",
      "943/943 [==============================] - 2s 2ms/step - loss: 0.3610 - accuracy: 0.8171 - val_loss: 0.3628 - val_accuracy: 0.8186\n",
      "Epoch 47/100\n",
      "943/943 [==============================] - 2s 2ms/step - loss: 0.3598 - accuracy: 0.8185 - val_loss: 0.3625 - val_accuracy: 0.8179\n",
      "Epoch 48/100\n",
      "943/943 [==============================] - 2s 2ms/step - loss: 0.3596 - accuracy: 0.8186 - val_loss: 0.3660 - val_accuracy: 0.8142\n",
      "Epoch 49/100\n",
      "943/943 [==============================] - 2s 2ms/step - loss: 0.3603 - accuracy: 0.8186 - val_loss: 0.3625 - val_accuracy: 0.8183\n",
      "Epoch 50/100\n",
      "943/943 [==============================] - 2s 2ms/step - loss: 0.3597 - accuracy: 0.8175 - val_loss: 0.3646 - val_accuracy: 0.8156\n",
      "Epoch 51/100\n",
      "943/943 [==============================] - 2s 2ms/step - loss: 0.3596 - accuracy: 0.8188 - val_loss: 0.3635 - val_accuracy: 0.8165\n",
      "Epoch 52/100\n",
      "943/943 [==============================] - 2s 2ms/step - loss: 0.3591 - accuracy: 0.8173 - val_loss: 0.3629 - val_accuracy: 0.8189\n",
      "Epoch 53/100\n",
      "943/943 [==============================] - 2s 2ms/step - loss: 0.3593 - accuracy: 0.8182 - val_loss: 0.3628 - val_accuracy: 0.8172\n",
      "Epoch 54/100\n",
      "943/943 [==============================] - 2s 2ms/step - loss: 0.3582 - accuracy: 0.8203 - val_loss: 0.3699 - val_accuracy: 0.8140\n",
      "Epoch 55/100\n",
      "943/943 [==============================] - 2s 2ms/step - loss: 0.3587 - accuracy: 0.8180 - val_loss: 0.3657 - val_accuracy: 0.8136\n",
      "Epoch 56/100\n",
      "943/943 [==============================] - 2s 2ms/step - loss: 0.3623 - accuracy: 0.8170 - val_loss: 0.3634 - val_accuracy: 0.8167\n",
      "Epoch 57/100\n",
      "943/943 [==============================] - 2s 2ms/step - loss: 0.3594 - accuracy: 0.8188 - val_loss: 0.3715 - val_accuracy: 0.8179\n",
      "Epoch 58/100\n",
      "943/943 [==============================] - 2s 2ms/step - loss: 0.3586 - accuracy: 0.8187 - val_loss: 0.3639 - val_accuracy: 0.8165\n",
      "Epoch 59/100\n",
      "943/943 [==============================] - 2s 2ms/step - loss: 0.3590 - accuracy: 0.8170 - val_loss: 0.3661 - val_accuracy: 0.8141\n",
      "Epoch 60/100\n",
      "943/943 [==============================] - 2s 2ms/step - loss: 0.3577 - accuracy: 0.8193 - val_loss: 0.3648 - val_accuracy: 0.8138\n",
      "Epoch 61/100\n",
      "943/943 [==============================] - 2s 2ms/step - loss: 0.3588 - accuracy: 0.8181 - val_loss: 0.3718 - val_accuracy: 0.8067\n",
      "Epoch 62/100\n",
      "943/943 [==============================] - 2s 2ms/step - loss: 0.3571 - accuracy: 0.8192 - val_loss: 0.3672 - val_accuracy: 0.8171\n",
      "Epoch 63/100\n",
      "943/943 [==============================] - 2s 2ms/step - loss: 0.3575 - accuracy: 0.8201 - val_loss: 0.3657 - val_accuracy: 0.8183\n",
      "Epoch 64/100\n",
      "943/943 [==============================] - 2s 2ms/step - loss: 0.3574 - accuracy: 0.8194 - val_loss: 0.3641 - val_accuracy: 0.8171\n",
      "Epoch 65/100\n",
      "943/943 [==============================] - 2s 2ms/step - loss: 0.3583 - accuracy: 0.8182 - val_loss: 0.3647 - val_accuracy: 0.8150\n",
      "Epoch 66/100\n",
      "943/943 [==============================] - 2s 2ms/step - loss: 0.3590 - accuracy: 0.8190 - val_loss: 0.3662 - val_accuracy: 0.8161\n",
      "Epoch 67/100\n",
      "943/943 [==============================] - 2s 2ms/step - loss: 0.3573 - accuracy: 0.8198 - val_loss: 0.3652 - val_accuracy: 0.8154\n",
      "Epoch 68/100\n",
      "943/943 [==============================] - 2s 2ms/step - loss: 0.3573 - accuracy: 0.8183 - val_loss: 0.3636 - val_accuracy: 0.8170\n",
      "Epoch 69/100\n",
      "943/943 [==============================] - 2s 2ms/step - loss: 0.3564 - accuracy: 0.8198 - val_loss: 0.3626 - val_accuracy: 0.8159\n",
      "Epoch 70/100\n",
      "943/943 [==============================] - 2s 2ms/step - loss: 0.3567 - accuracy: 0.8182 - val_loss: 0.3632 - val_accuracy: 0.8170\n",
      "Epoch 71/100\n",
      "943/943 [==============================] - 2s 2ms/step - loss: 0.3570 - accuracy: 0.8202 - val_loss: 0.3625 - val_accuracy: 0.8171\n",
      "Epoch 72/100\n",
      "943/943 [==============================] - 2s 2ms/step - loss: 0.3636 - accuracy: 0.8179 - val_loss: 0.3664 - val_accuracy: 0.8153\n",
      "Epoch 73/100\n",
      "943/943 [==============================] - 3s 3ms/step - loss: 0.3570 - accuracy: 0.8196 - val_loss: 0.3644 - val_accuracy: 0.8177\n",
      "Epoch 74/100\n",
      "943/943 [==============================] - 3s 3ms/step - loss: 0.3578 - accuracy: 0.8197 - val_loss: 0.4000 - val_accuracy: 0.7976\n",
      "Epoch 75/100\n",
      "943/943 [==============================] - 4s 4ms/step - loss: 0.3618 - accuracy: 0.8168 - val_loss: 0.3642 - val_accuracy: 0.8187\n",
      "Epoch 76/100\n",
      "943/943 [==============================] - 3s 4ms/step - loss: 0.3595 - accuracy: 0.8179 - val_loss: 0.3651 - val_accuracy: 0.8167\n",
      "Epoch 77/100\n",
      "943/943 [==============================] - 4s 5ms/step - loss: 0.3603 - accuracy: 0.8175 - val_loss: 0.3754 - val_accuracy: 0.7961\n",
      "Epoch 78/100\n",
      "943/943 [==============================] - 3s 3ms/step - loss: 0.3601 - accuracy: 0.8192 - val_loss: 0.3712 - val_accuracy: 0.8158\n",
      "Epoch 79/100\n",
      "943/943 [==============================] - 4s 4ms/step - loss: 0.3620 - accuracy: 0.8178 - val_loss: 0.3657 - val_accuracy: 0.8159\n",
      "Epoch 80/100\n",
      "943/943 [==============================] - 3s 3ms/step - loss: 0.3612 - accuracy: 0.8171 - val_loss: 0.3655 - val_accuracy: 0.8170\n",
      "Epoch 81/100\n",
      "943/943 [==============================] - 5s 5ms/step - loss: 0.3590 - accuracy: 0.8198 - val_loss: 0.3671 - val_accuracy: 0.8182\n",
      "Epoch 82/100\n",
      "943/943 [==============================] - 4s 4ms/step - loss: 0.3656 - accuracy: 0.8148 - val_loss: 0.3889 - val_accuracy: 0.7865\n",
      "Epoch 83/100\n",
      "943/943 [==============================] - 4s 4ms/step - loss: 0.3631 - accuracy: 0.8153 - val_loss: 0.3658 - val_accuracy: 0.8177\n",
      "Epoch 84/100\n",
      "943/943 [==============================] - 5s 5ms/step - loss: 0.3579 - accuracy: 0.8197 - val_loss: 0.3751 - val_accuracy: 0.8076\n",
      "Epoch 85/100\n",
      "943/943 [==============================] - 5s 5ms/step - loss: 0.3584 - accuracy: 0.8188 - val_loss: 0.3677 - val_accuracy: 0.7935\n",
      "Epoch 86/100\n",
      "943/943 [==============================] - 3s 3ms/step - loss: 0.3591 - accuracy: 0.8171 - val_loss: 0.3677 - val_accuracy: 0.8152\n",
      "Epoch 87/100\n",
      "943/943 [==============================] - 4s 5ms/step - loss: 0.3567 - accuracy: 0.8215 - val_loss: 0.3661 - val_accuracy: 0.8187\n",
      "Epoch 88/100\n",
      "943/943 [==============================] - 5s 6ms/step - loss: 0.3629 - accuracy: 0.8179 - val_loss: 0.3648 - val_accuracy: 0.8168\n",
      "Epoch 89/100\n",
      "943/943 [==============================] - 4s 4ms/step - loss: 0.3600 - accuracy: 0.8167 - val_loss: 0.3658 - val_accuracy: 0.8165\n",
      "Epoch 90/100\n",
      "943/943 [==============================] - 4s 5ms/step - loss: 0.3578 - accuracy: 0.8176 - val_loss: 0.3687 - val_accuracy: 0.7961\n",
      "Epoch 91/100\n",
      "943/943 [==============================] - 6s 6ms/step - loss: 0.3562 - accuracy: 0.8212 - val_loss: 0.3686 - val_accuracy: 0.7974\n",
      "Epoch 92/100\n",
      "943/943 [==============================] - 6s 6ms/step - loss: 0.3560 - accuracy: 0.8201 - val_loss: 0.3640 - val_accuracy: 0.8155\n",
      "Epoch 93/100\n",
      "943/943 [==============================] - 6s 6ms/step - loss: 0.3591 - accuracy: 0.8183 - val_loss: 0.3680 - val_accuracy: 0.8170\n",
      "Epoch 94/100\n",
      "943/943 [==============================] - 7s 7ms/step - loss: 0.3592 - accuracy: 0.8175 - val_loss: 0.3757 - val_accuracy: 0.7971\n",
      "Epoch 95/100\n",
      "943/943 [==============================] - 6s 7ms/step - loss: 0.3588 - accuracy: 0.8187 - val_loss: 0.3745 - val_accuracy: 0.8066\n",
      "Epoch 96/100\n",
      "943/943 [==============================] - 6s 7ms/step - loss: 0.3582 - accuracy: 0.8178 - val_loss: 0.3731 - val_accuracy: 0.8102\n",
      "Epoch 97/100\n",
      "943/943 [==============================] - 6s 6ms/step - loss: 0.3561 - accuracy: 0.8205 - val_loss: 0.3638 - val_accuracy: 0.8147\n",
      "Epoch 98/100\n",
      "943/943 [==============================] - 6s 6ms/step - loss: 0.3553 - accuracy: 0.8192 - val_loss: 0.3617 - val_accuracy: 0.8179\n",
      "Epoch 99/100\n",
      "943/943 [==============================] - 6s 6ms/step - loss: 0.3550 - accuracy: 0.8212 - val_loss: 0.3621 - val_accuracy: 0.8187\n",
      "Epoch 100/100\n",
      "943/943 [==============================] - 6s 6ms/step - loss: 0.3493 - accuracy: 0.8294 - val_loss: 0.3702 - val_accuracy: 0.8153\n"
     ]
    }
   ],
   "execution_count": 9
  },
  {
   "cell_type": "code",
   "metadata": {
    "ExecuteTime": {
     "end_time": "2025-05-26T16:28:53.354728Z",
     "start_time": "2025-05-26T16:28:52.600731Z"
    }
   },
   "source": [
    "import pandas as pd\n",
    "\n",
    "pd.DataFrame(history.history).plot(figsize=(8, 5))\n",
    "plt.grid(True)\n",
    "plt.gca().set_ylim(0, 1)\n",
    "plt.show()"
   ],
   "outputs": [
    {
     "data": {
      "text/plain": [
       "<Figure size 800x500 with 1 Axes>"
      ],
      "image/png": "[encoded data removed]"
     },
     "metadata": {},
     "output_type": "display_data"
    }
   ],
   "execution_count": 10
  },
  {
   "cell_type": "code",
   "metadata": {
    "ExecuteTime": {
     "end_time": "2025-05-26T16:28:55.426732Z",
     "start_time": "2025-05-26T16:28:53.648728Z"
    }
   },
   "source": [
    "model.evaluate(X_test,y_test)"
   ],
   "outputs": [
    {
     "name": "stdout",
     "output_type": "stream",
     "text": [
      "471/471 [==============================] - 2s 3ms/step - loss: 0.3702 - accuracy: 0.8153\n"
     ]
    },
    {
     "data": {
      "text/plain": [
       "[0.370219349861145, 0.815338671207428]"
      ]
     },
     "execution_count": 11,
     "metadata": {},
     "output_type": "execute_result"
    }
   ],
   "execution_count": 11
  },
  {
   "cell_type": "code",
   "metadata": {
    "ExecuteTime": {
     "end_time": "2025-05-26T16:29:00.832767Z",
     "start_time": "2025-05-26T16:28:55.584731Z"
    }
   },
   "source": [
    "from sklearn.metrics import accuracy_score\n",
    "\n",
    "# Get predictions\n",
    "y_pred = model.predict(X_test)\n",
    "\n",
    "# Assuming a binary classification problem\n",
    "y_pred = (y_pred > 0.5).astype(int)\n",
    "\n",
    "# Calculate accuracy\n",
    "accuracy = accuracy_score(y_test, y_pred)\n",
    "print(\"Accuracy:\", accuracy)"
   ],
   "outputs": [
    {
     "name": "stdout",
     "output_type": "stream",
     "text": [
      "471/471 [==============================] - 0s 854us/step\n",
      "Accuracy: 0.8153386454183267\n"
     ]
    }
   ],
   "execution_count": 12
  },
  {
   "cell_type": "markdown",
   "metadata": {},
   "source": [
    "# Zad\n",
    "\n",
    "Porównaj powyższy wynik z nauką na danych znormalizowanych z fróżnymi funkcjami aktywacji:\n",
    "* sigmoid\n",
    "* tanh\n",
    "* relu\n",
    "* elu\n",
    "* LeakyReLU"
   ]
  },
  {
   "cell_type": "code",
   "metadata": {
    "ExecuteTime": {
     "end_time": "2025-05-26T16:34:41.009129Z",
     "start_time": "2025-05-26T16:34:05.099891Z"
    }
   },
   "source": [
    "from sklearn.preprocessing import StandardScaler\n",
    "\n",
    "scaler = StandardScaler()\n",
    "X_train_scaled = scaler.fit_transform(X_train)\n",
    "X_test_scaled = scaler.transform(X_test)\n",
    "\n",
    "\n",
    "sig_model = Sequential()\n",
    "sig_model.add(Dense(100,activation=\"sigmoid\",input_shape=(X_train.shape[1],)))\n",
    "sig_model.add(Dense(50,activation=\"sigmoid\"))\n",
    "sig_model.add(Dense(10,activation=\"sigmoid\"))\n",
    "sig_model.add(Dense(1,activation=\"sigmoid\"))\n",
    "sig_model.compile(loss=\"binary_crossentropy\",optimizer=\"Adam\", metrics=[\"accuracy\"])\n",
    "sig_model.summary()\n",
    "\n",
    "sig_history = sig_model.fit(X_train_scaled, y_train, validation_data= (X_test_scaled, y_test), batch_size=32,epochs=20)"
   ],
   "outputs": [
    {
     "name": "stdout",
     "output_type": "stream",
     "text": [
      "Model: \"sequential_11\"\n",
      "_________________________________________________________________\n",
      " Layer (type)                Output Shape              Param #   \n",
      "=================================================================\n",
      " dense_41 (Dense)            (None, 100)               4200      \n",
      "                                                                 \n",
      " dense_42 (Dense)            (None, 50)                5050      \n",
      "                                                                 \n",
      " dense_43 (Dense)            (None, 10)                510       \n",
      "                                                                 \n",
      " dense_44 (Dense)            (None, 1)                 11        \n",
      "                                                                 \n",
      "=================================================================\n",
      "Total params: 9,771\n",
      "Trainable params: 9,771\n",
      "Non-trainable params: 0\n",
      "_________________________________________________________________\n",
      "Epoch 1/20\n",
      "943/943 [==============================] - 3s 2ms/step - loss: 0.4079 - accuracy: 0.8141 - val_loss: 0.3461 - val_accuracy: 0.8459\n",
      "Epoch 2/20\n",
      "943/943 [==============================] - 2s 2ms/step - loss: 0.3381 - accuracy: 0.8446 - val_loss: 0.3349 - val_accuracy: 0.8445\n",
      "Epoch 3/20\n",
      "943/943 [==============================] - 2s 2ms/step - loss: 0.3290 - accuracy: 0.8481 - val_loss: 0.3314 - val_accuracy: 0.8452\n",
      "Epoch 4/20\n",
      "943/943 [==============================] - 2s 2ms/step - loss: 0.3249 - accuracy: 0.8481 - val_loss: 0.3267 - val_accuracy: 0.8470\n",
      "Epoch 5/20\n",
      "943/943 [==============================] - 2s 2ms/step - loss: 0.3218 - accuracy: 0.8512 - val_loss: 0.3271 - val_accuracy: 0.8494\n",
      "Epoch 6/20\n",
      "943/943 [==============================] - 2s 2ms/step - loss: 0.3206 - accuracy: 0.8501 - val_loss: 0.3225 - val_accuracy: 0.8481\n",
      "Epoch 7/20\n",
      "943/943 [==============================] - 2s 2ms/step - loss: 0.3184 - accuracy: 0.8513 - val_loss: 0.3276 - val_accuracy: 0.8467\n",
      "Epoch 8/20\n",
      "943/943 [==============================] - 2s 2ms/step - loss: 0.3172 - accuracy: 0.8515 - val_loss: 0.3239 - val_accuracy: 0.8499\n",
      "Epoch 9/20\n",
      "943/943 [==============================] - 2s 2ms/step - loss: 0.3155 - accuracy: 0.8518 - val_loss: 0.3203 - val_accuracy: 0.8497\n",
      "Epoch 10/20\n",
      "943/943 [==============================] - 2s 2ms/step - loss: 0.3143 - accuracy: 0.8528 - val_loss: 0.3222 - val_accuracy: 0.8495\n",
      "Epoch 11/20\n",
      "943/943 [==============================] - 2s 2ms/step - loss: 0.3131 - accuracy: 0.8542 - val_loss: 0.3195 - val_accuracy: 0.8496\n",
      "Epoch 12/20\n",
      "943/943 [==============================] - 2s 2ms/step - loss: 0.3118 - accuracy: 0.8551 - val_loss: 0.3201 - val_accuracy: 0.8497\n",
      "Epoch 13/20\n",
      "943/943 [==============================] - 2s 2ms/step - loss: 0.3111 - accuracy: 0.8549 - val_loss: 0.3181 - val_accuracy: 0.8503\n",
      "Epoch 14/20\n",
      "943/943 [==============================] - 2s 2ms/step - loss: 0.3097 - accuracy: 0.8553 - val_loss: 0.3193 - val_accuracy: 0.8495\n",
      "Epoch 15/20\n",
      "943/943 [==============================] - 2s 2ms/step - loss: 0.3088 - accuracy: 0.8565 - val_loss: 0.3202 - val_accuracy: 0.8476\n",
      "Epoch 16/20\n",
      "943/943 [==============================] - 2s 2ms/step - loss: 0.3078 - accuracy: 0.8560 - val_loss: 0.3211 - val_accuracy: 0.8503\n",
      "Epoch 17/20\n",
      "943/943 [==============================] - 2s 2ms/step - loss: 0.3070 - accuracy: 0.8561 - val_loss: 0.3186 - val_accuracy: 0.8495\n",
      "Epoch 18/20\n",
      "943/943 [==============================] - 2s 2ms/step - loss: 0.3062 - accuracy: 0.8578 - val_loss: 0.3190 - val_accuracy: 0.8495\n",
      "Epoch 19/20\n",
      "943/943 [==============================] - 2s 2ms/step - loss: 0.3052 - accuracy: 0.8566 - val_loss: 0.3212 - val_accuracy: 0.8505\n",
      "Epoch 20/20\n",
      "943/943 [==============================] - 2s 2ms/step - loss: 0.3045 - accuracy: 0.8582 - val_loss: 0.3181 - val_accuracy: 0.8515\n"
     ]
    }
   ],
   "execution_count": 23
  },
  {
   "metadata": {
    "ExecuteTime": {
     "end_time": "2025-05-26T16:35:16.486478Z",
     "start_time": "2025-05-26T16:34:41.020471Z"
    }
   },
   "cell_type": "code",
   "source": [
    "tanh_history = History()\n",
    "tanh_model = Sequential()\n",
    "tanh_model.add(Dense(100,activation=\"tanh\",input_shape=(X_train.shape[1],)))\n",
    "tanh_model.add(Dense(50,activation=\"tanh\"))\n",
    "tanh_model.add(Dense(10,activation=\"tanh\"))\n",
    "tanh_model.add(Dense(1,activation=\"tanh\"))\n",
    "tanh_model.compile(loss=\"binary_crossentropy\",optimizer=\"Adam\", metrics=[\"accuracy\"])\n",
    "tanh_model.summary()\n",
    "\n",
    "tanh_history = tanh_model.fit(X_train_scaled, y_train, validation_data= (X_test_scaled, y_test), batch_size=32,epochs=20)"
   ],
   "outputs": [
    {
     "name": "stdout",
     "output_type": "stream",
     "text": [
      "Model: \"sequential_12\"\n",
      "_________________________________________________________________\n",
      " Layer (type)                Output Shape              Param #   \n",
      "=================================================================\n",
      " dense_45 (Dense)            (None, 100)               4200      \n",
      "                                                                 \n",
      " dense_46 (Dense)            (None, 50)                5050      \n",
      "                                                                 \n",
      " dense_47 (Dense)            (None, 10)                510       \n",
      "                                                                 \n",
      " dense_48 (Dense)            (None, 1)                 11        \n",
      "                                                                 \n",
      "=================================================================\n",
      "Total params: 9,771\n",
      "Trainable params: 9,771\n",
      "Non-trainable params: 0\n",
      "_________________________________________________________________\n",
      "Epoch 1/20\n",
      "943/943 [==============================] - 2s 2ms/step - loss: 0.5330 - accuracy: 0.8102 - val_loss: 0.5042 - val_accuracy: 0.8252\n",
      "Epoch 2/20\n",
      "943/943 [==============================] - 2s 2ms/step - loss: 0.5013 - accuracy: 0.8084 - val_loss: 0.4464 - val_accuracy: 0.8196\n",
      "Epoch 3/20\n",
      "943/943 [==============================] - 2s 2ms/step - loss: 0.4148 - accuracy: 0.8280 - val_loss: 0.4512 - val_accuracy: 0.8019\n",
      "Epoch 4/20\n",
      "943/943 [==============================] - 2s 2ms/step - loss: 0.4257 - accuracy: 0.8146 - val_loss: 0.4303 - val_accuracy: 0.8086\n",
      "Epoch 5/20\n",
      "943/943 [==============================] - 2s 2ms/step - loss: 0.3936 - accuracy: 0.8272 - val_loss: 0.4053 - val_accuracy: 0.8315\n",
      "Epoch 6/20\n",
      "943/943 [==============================] - 2s 2ms/step - loss: 0.3840 - accuracy: 0.8366 - val_loss: 0.4118 - val_accuracy: 0.8266\n",
      "Epoch 7/20\n",
      "943/943 [==============================] - 2s 2ms/step - loss: 0.3860 - accuracy: 0.8404 - val_loss: 0.3941 - val_accuracy: 0.8424\n",
      "Epoch 8/20\n",
      "943/943 [==============================] - 2s 2ms/step - loss: 0.3820 - accuracy: 0.8397 - val_loss: 0.3832 - val_accuracy: 0.8411\n",
      "Epoch 9/20\n",
      "943/943 [==============================] - 2s 2ms/step - loss: 0.3730 - accuracy: 0.8419 - val_loss: 0.3970 - val_accuracy: 0.8347\n",
      "Epoch 10/20\n",
      "943/943 [==============================] - 2s 2ms/step - loss: 0.3671 - accuracy: 0.8392 - val_loss: 0.3902 - val_accuracy: 0.8361\n",
      "Epoch 11/20\n",
      "943/943 [==============================] - 2s 2ms/step - loss: 0.3704 - accuracy: 0.8407 - val_loss: 0.3754 - val_accuracy: 0.8419\n",
      "Epoch 12/20\n",
      "943/943 [==============================] - 2s 2ms/step - loss: 0.3589 - accuracy: 0.8443 - val_loss: 0.3739 - val_accuracy: 0.8460\n",
      "Epoch 13/20\n",
      "943/943 [==============================] - 2s 2ms/step - loss: 0.3628 - accuracy: 0.8481 - val_loss: 0.3758 - val_accuracy: 0.8464\n",
      "Epoch 14/20\n",
      "943/943 [==============================] - 2s 2ms/step - loss: 0.3655 - accuracy: 0.8485 - val_loss: 0.3742 - val_accuracy: 0.8452\n",
      "Epoch 15/20\n",
      "943/943 [==============================] - 2s 2ms/step - loss: 0.3544 - accuracy: 0.8505 - val_loss: 0.3763 - val_accuracy: 0.8448\n",
      "Epoch 16/20\n",
      "943/943 [==============================] - 2s 2ms/step - loss: 0.3558 - accuracy: 0.8507 - val_loss: 0.3711 - val_accuracy: 0.8479\n",
      "Epoch 17/20\n",
      "943/943 [==============================] - 2s 2ms/step - loss: 0.3566 - accuracy: 0.8521 - val_loss: 0.3722 - val_accuracy: 0.8457\n",
      "Epoch 18/20\n",
      "943/943 [==============================] - 2s 2ms/step - loss: 0.3606 - accuracy: 0.8518 - val_loss: 0.3644 - val_accuracy: 0.8458\n",
      "Epoch 19/20\n",
      "943/943 [==============================] - 2s 2ms/step - loss: 0.3469 - accuracy: 0.8538 - val_loss: 0.3873 - val_accuracy: 0.8479\n",
      "Epoch 20/20\n",
      "943/943 [==============================] - 2s 2ms/step - loss: 0.3477 - accuracy: 0.8530 - val_loss: 0.3598 - val_accuracy: 0.8487\n"
     ]
    }
   ],
   "execution_count": 24
  },
  {
   "metadata": {
    "ExecuteTime": {
     "end_time": "2025-05-26T16:35:51.719237Z",
     "start_time": "2025-05-26T16:35:16.550474Z"
    }
   },
   "cell_type": "code",
   "source": [
    "relu_history = History()\n",
    "relu_model = Sequential()\n",
    "relu_model.add(Dense(100,activation=\"relu\",input_shape=(X_train.shape[1],)))\n",
    "relu_model.add(Dense(50,activation=\"relu\"))\n",
    "relu_model.add(Dense(10,activation=\"relu\"))\n",
    "relu_model.add(Dense(1,activation=\"relu\"))\n",
    "relu_model.compile(loss=\"binary_crossentropy\",optimizer=\"Adam\", metrics=[\"accuracy\"])\n",
    "relu_model.summary()\n",
    "\n",
    "relu_history = relu_model.fit(X_train_scaled, y_train, validation_data= (X_test_scaled, y_test), batch_size=32,epochs=20)"
   ],
   "outputs": [
    {
     "name": "stdout",
     "output_type": "stream",
     "text": [
      "Model: \"sequential_13\"\n",
      "_________________________________________________________________\n",
      " Layer (type)                Output Shape              Param #   \n",
      "=================================================================\n",
      " dense_49 (Dense)            (None, 100)               4200      \n",
      "                                                                 \n",
      " dense_50 (Dense)            (None, 50)                5050      \n",
      "                                                                 \n",
      " dense_51 (Dense)            (None, 10)                510       \n",
      "                                                                 \n",
      " dense_52 (Dense)            (None, 1)                 11        \n",
      "                                                                 \n",
      "=================================================================\n",
      "Total params: 9,771\n",
      "Trainable params: 9,771\n",
      "Non-trainable params: 0\n",
      "_________________________________________________________________\n",
      "Epoch 1/20\n",
      "943/943 [==============================] - 2s 2ms/step - loss: 0.5712 - accuracy: 0.8102 - val_loss: 0.4313 - val_accuracy: 0.8321\n",
      "Epoch 2/20\n",
      "943/943 [==============================] - 2s 2ms/step - loss: 0.3738 - accuracy: 0.8403 - val_loss: 0.3749 - val_accuracy: 0.8387\n",
      "Epoch 3/20\n",
      "943/943 [==============================] - 2s 2ms/step - loss: 0.3554 - accuracy: 0.8427 - val_loss: 0.3814 - val_accuracy: 0.8409\n",
      "Epoch 4/20\n",
      "943/943 [==============================] - 2s 2ms/step - loss: 0.3535 - accuracy: 0.8451 - val_loss: 0.3451 - val_accuracy: 0.8479\n",
      "Epoch 5/20\n",
      "943/943 [==============================] - 2s 2ms/step - loss: 0.3365 - accuracy: 0.8507 - val_loss: 0.3442 - val_accuracy: 0.8456\n",
      "Epoch 6/20\n",
      "943/943 [==============================] - 2s 2ms/step - loss: 0.3357 - accuracy: 0.8470 - val_loss: 0.3397 - val_accuracy: 0.8513\n",
      "Epoch 7/20\n",
      "943/943 [==============================] - 2s 2ms/step - loss: 0.3363 - accuracy: 0.8531 - val_loss: 0.3418 - val_accuracy: 0.8506\n",
      "Epoch 8/20\n",
      "943/943 [==============================] - 2s 2ms/step - loss: 0.3341 - accuracy: 0.8500 - val_loss: 0.3425 - val_accuracy: 0.8505\n",
      "Epoch 9/20\n",
      "943/943 [==============================] - 2s 2ms/step - loss: 0.3234 - accuracy: 0.8544 - val_loss: 0.3553 - val_accuracy: 0.8377\n",
      "Epoch 10/20\n",
      "943/943 [==============================] - 2s 2ms/step - loss: 0.3200 - accuracy: 0.8539 - val_loss: 0.3418 - val_accuracy: 0.8510\n",
      "Epoch 11/20\n",
      "943/943 [==============================] - 2s 2ms/step - loss: 0.3201 - accuracy: 0.8556 - val_loss: 0.3368 - val_accuracy: 0.8514\n",
      "Epoch 12/20\n",
      "943/943 [==============================] - 2s 2ms/step - loss: 0.3345 - accuracy: 0.8545 - val_loss: 0.3887 - val_accuracy: 0.8473\n",
      "Epoch 13/20\n",
      "943/943 [==============================] - 2s 2ms/step - loss: 0.3330 - accuracy: 0.8547 - val_loss: 0.3610 - val_accuracy: 0.8446\n",
      "Epoch 14/20\n",
      "943/943 [==============================] - 2s 2ms/step - loss: 0.3364 - accuracy: 0.8568 - val_loss: 0.3453 - val_accuracy: 0.8509\n",
      "Epoch 15/20\n",
      "943/943 [==============================] - 2s 2ms/step - loss: 0.3268 - accuracy: 0.8519 - val_loss: 0.3580 - val_accuracy: 0.8495\n",
      "Epoch 16/20\n",
      "943/943 [==============================] - 2s 2ms/step - loss: 0.3369 - accuracy: 0.8565 - val_loss: 0.3646 - val_accuracy: 0.8517\n",
      "Epoch 17/20\n",
      "943/943 [==============================] - 2s 2ms/step - loss: 0.3364 - accuracy: 0.8577 - val_loss: 0.3504 - val_accuracy: 0.8504\n",
      "Epoch 18/20\n",
      "943/943 [==============================] - 2s 2ms/step - loss: 0.3240 - accuracy: 0.8553 - val_loss: 0.3473 - val_accuracy: 0.8514\n",
      "Epoch 19/20\n",
      "943/943 [==============================] - 2s 2ms/step - loss: 0.3203 - accuracy: 0.8585 - val_loss: 0.3496 - val_accuracy: 0.8520\n",
      "Epoch 20/20\n",
      "943/943 [==============================] - 2s 2ms/step - loss: 0.3291 - accuracy: 0.8586 - val_loss: 0.3571 - val_accuracy: 0.8529\n"
     ]
    }
   ],
   "execution_count": 25
  },
  {
   "metadata": {
    "ExecuteTime": {
     "end_time": "2025-05-26T16:36:27.510474Z",
     "start_time": "2025-05-26T16:35:51.782801Z"
    }
   },
   "cell_type": "code",
   "source": [
    "elu_history = History()\n",
    "elu_model = Sequential()\n",
    "elu_model.add(Dense(100,activation=\"elu\",input_shape=(X_train.shape[1],)))\n",
    "elu_model.add(Dense(50,activation=\"elu\"))\n",
    "elu_model.add(Dense(10,activation=\"elu\"))\n",
    "elu_model.add(Dense(1,activation=\"elu\"))\n",
    "elu_model.compile(loss=\"binary_crossentropy\",optimizer=\"Adam\", metrics=[\"accuracy\"])\n",
    "elu_model.summary()\n",
    "\n",
    "elu_history = elu_model.fit(X_train_scaled, y_train, validation_data= (X_test_scaled, y_test), batch_size=32,epochs=20)"
   ],
   "outputs": [
    {
     "name": "stdout",
     "output_type": "stream",
     "text": [
      "Model: \"sequential_14\"\n",
      "_________________________________________________________________\n",
      " Layer (type)                Output Shape              Param #   \n",
      "=================================================================\n",
      " dense_53 (Dense)            (None, 100)               4200      \n",
      "                                                                 \n",
      " dense_54 (Dense)            (None, 50)                5050      \n",
      "                                                                 \n",
      " dense_55 (Dense)            (None, 10)                510       \n",
      "                                                                 \n",
      " dense_56 (Dense)            (None, 1)                 11        \n",
      "                                                                 \n",
      "=================================================================\n",
      "Total params: 9,771\n",
      "Trainable params: 9,771\n",
      "Non-trainable params: 0\n",
      "_________________________________________________________________\n",
      "Epoch 1/20\n",
      "943/943 [==============================] - 3s 2ms/step - loss: 0.8605 - accuracy: 0.8184 - val_loss: 0.5338 - val_accuracy: 0.8395\n",
      "Epoch 2/20\n",
      "943/943 [==============================] - 2s 2ms/step - loss: 0.7162 - accuracy: 0.8061 - val_loss: 0.8464 - val_accuracy: 0.7858\n",
      "Epoch 3/20\n",
      "943/943 [==============================] - 2s 2ms/step - loss: 0.5782 - accuracy: 0.8137 - val_loss: 0.4945 - val_accuracy: 0.8359\n",
      "Epoch 4/20\n",
      "943/943 [==============================] - 2s 2ms/step - loss: 0.4897 - accuracy: 0.8343 - val_loss: 0.4787 - val_accuracy: 0.8420\n",
      "Epoch 5/20\n",
      "943/943 [==============================] - 2s 2ms/step - loss: 0.5710 - accuracy: 0.8208 - val_loss: 0.5264 - val_accuracy: 0.8278\n",
      "Epoch 6/20\n",
      "943/943 [==============================] - 2s 2ms/step - loss: 0.8707 - accuracy: 0.7955 - val_loss: 0.5408 - val_accuracy: 0.8198\n",
      "Epoch 7/20\n",
      "943/943 [==============================] - 2s 2ms/step - loss: 0.5171 - accuracy: 0.8155 - val_loss: 0.4993 - val_accuracy: 0.8339\n",
      "Epoch 8/20\n",
      "943/943 [==============================] - 2s 2ms/step - loss: 0.4850 - accuracy: 0.8303 - val_loss: 0.4729 - val_accuracy: 0.8177\n",
      "Epoch 9/20\n",
      "943/943 [==============================] - 2s 2ms/step - loss: 0.4362 - accuracy: 0.8412 - val_loss: 0.4495 - val_accuracy: 0.8390\n",
      "Epoch 10/20\n",
      "943/943 [==============================] - 2s 2ms/step - loss: 0.4533 - accuracy: 0.8356 - val_loss: 0.4586 - val_accuracy: 0.8338\n",
      "Epoch 11/20\n",
      "943/943 [==============================] - 2s 2ms/step - loss: 0.5352 - accuracy: 0.8241 - val_loss: 0.4707 - val_accuracy: 0.8371\n",
      "Epoch 12/20\n",
      "943/943 [==============================] - 2s 2ms/step - loss: 0.4208 - accuracy: 0.8425 - val_loss: 0.4660 - val_accuracy: 0.8482\n",
      "Epoch 13/20\n",
      "943/943 [==============================] - 2s 2ms/step - loss: 0.4151 - accuracy: 0.8446 - val_loss: 0.4209 - val_accuracy: 0.8465\n",
      "Epoch 14/20\n",
      "943/943 [==============================] - 2s 2ms/step - loss: 0.4975 - accuracy: 0.7951 - val_loss: 0.4671 - val_accuracy: 0.8228\n",
      "Epoch 15/20\n",
      "943/943 [==============================] - 2s 2ms/step - loss: 0.4336 - accuracy: 0.8386 - val_loss: 0.4254 - val_accuracy: 0.8346\n",
      "Epoch 16/20\n",
      "943/943 [==============================] - 2s 2ms/step - loss: 0.4542 - accuracy: 0.8305 - val_loss: 0.4334 - val_accuracy: 0.8307\n",
      "Epoch 17/20\n",
      "943/943 [==============================] - 2s 2ms/step - loss: 0.4544 - accuracy: 0.8237 - val_loss: 0.4791 - val_accuracy: 0.8170\n",
      "Epoch 18/20\n",
      "943/943 [==============================] - 2s 2ms/step - loss: 0.4118 - accuracy: 0.8420 - val_loss: 0.4161 - val_accuracy: 0.8461\n",
      "Epoch 19/20\n",
      "943/943 [==============================] - 2s 2ms/step - loss: 0.3926 - accuracy: 0.8470 - val_loss: 0.4286 - val_accuracy: 0.8436\n",
      "Epoch 20/20\n",
      "943/943 [==============================] - 2s 2ms/step - loss: 0.3839 - accuracy: 0.8490 - val_loss: 0.3990 - val_accuracy: 0.8469\n"
     ]
    }
   ],
   "execution_count": 26
  },
  {
   "metadata": {
    "ExecuteTime": {
     "end_time": "2025-05-26T16:37:03.486379Z",
     "start_time": "2025-05-26T16:36:27.592203Z"
    }
   },
   "cell_type": "code",
   "source": [
    "leakyreluleakyrelu_history = History()\n",
    "leakyrelu_model = Sequential()\n",
    "leakyrelu_model.add(Dense(100,activation=\"leaky_relu\",input_shape=(X_train.shape[1],)))\n",
    "leakyrelu_model.add(Dense(50,activation=\"leaky_relu\"))\n",
    "leakyrelu_model.add(Dense(10,activation=\"leaky_relu\"))\n",
    "leakyrelu_model.add(Dense(1,activation=\"leaky_relu\"))\n",
    "leakyrelu_model.compile(loss=\"binary_crossentropy\",optimizer=\"Adam\", metrics=[\"accuracy\"])\n",
    "leakyrelu_model.summary()\n",
    "\n",
    "leakyrelu_history = leakyrelu_model.fit(X_train_scaled, y_train, validation_data= (X_test_scaled, y_test), batch_size=32,epochs=20)"
   ],
   "outputs": [
    {
     "name": "stdout",
     "output_type": "stream",
     "text": [
      "Model: \"sequential_15\"\n",
      "_________________________________________________________________\n",
      " Layer (type)                Output Shape              Param #   \n",
      "=================================================================\n",
      " dense_57 (Dense)            (None, 100)               4200      \n",
      "                                                                 \n",
      " dense_58 (Dense)            (None, 50)                5050      \n",
      "                                                                 \n",
      " dense_59 (Dense)            (None, 10)                510       \n",
      "                                                                 \n",
      " dense_60 (Dense)            (None, 1)                 11        \n",
      "                                                                 \n",
      "=================================================================\n",
      "Total params: 9,771\n",
      "Trainable params: 9,771\n",
      "Non-trainable params: 0\n",
      "_________________________________________________________________\n",
      "Epoch 1/20\n",
      "943/943 [==============================] - 2s 2ms/step - loss: 0.4448 - accuracy: 0.8111 - val_loss: 0.3799 - val_accuracy: 0.8367\n",
      "Epoch 2/20\n",
      "943/943 [==============================] - 2s 2ms/step - loss: 0.3730 - accuracy: 0.8365 - val_loss: 0.4824 - val_accuracy: 0.8020\n",
      "Epoch 3/20\n",
      "943/943 [==============================] - 2s 2ms/step - loss: 0.3958 - accuracy: 0.8345 - val_loss: 0.3690 - val_accuracy: 0.8455\n",
      "Epoch 4/20\n",
      "943/943 [==============================] - 2s 2ms/step - loss: 0.3622 - accuracy: 0.8426 - val_loss: 0.3629 - val_accuracy: 0.8407\n",
      "Epoch 5/20\n",
      "943/943 [==============================] - 2s 2ms/step - loss: 0.3679 - accuracy: 0.8439 - val_loss: 0.3718 - val_accuracy: 0.8454\n",
      "Epoch 6/20\n",
      "943/943 [==============================] - 2s 2ms/step - loss: 0.3753 - accuracy: 0.8418 - val_loss: 0.3857 - val_accuracy: 0.8404\n",
      "Epoch 7/20\n",
      "943/943 [==============================] - 2s 2ms/step - loss: 0.3857 - accuracy: 0.8327 - val_loss: 0.3920 - val_accuracy: 0.8390\n",
      "Epoch 8/20\n",
      "943/943 [==============================] - 2s 2ms/step - loss: 0.3740 - accuracy: 0.8441 - val_loss: 0.3722 - val_accuracy: 0.8476\n",
      "Epoch 9/20\n",
      "943/943 [==============================] - 2s 2ms/step - loss: 0.3689 - accuracy: 0.8381 - val_loss: 0.3829 - val_accuracy: 0.8352\n",
      "Epoch 10/20\n",
      "943/943 [==============================] - 2s 2ms/step - loss: 0.4050 - accuracy: 0.8339 - val_loss: 0.3818 - val_accuracy: 0.8341\n",
      "Epoch 11/20\n",
      "943/943 [==============================] - 2s 2ms/step - loss: 0.3838 - accuracy: 0.8344 - val_loss: 0.4003 - val_accuracy: 0.8407\n",
      "Epoch 12/20\n",
      "943/943 [==============================] - 2s 2ms/step - loss: 0.3714 - accuracy: 0.8453 - val_loss: 0.3613 - val_accuracy: 0.8475\n",
      "Epoch 13/20\n",
      "943/943 [==============================] - 2s 2ms/step - loss: 0.3546 - accuracy: 0.8449 - val_loss: 0.3627 - val_accuracy: 0.8460\n",
      "Epoch 14/20\n",
      "943/943 [==============================] - 2s 2ms/step - loss: 0.4682 - accuracy: 0.7796 - val_loss: 0.3951 - val_accuracy: 0.8412\n",
      "Epoch 15/20\n",
      "943/943 [==============================] - 2s 2ms/step - loss: 0.3670 - accuracy: 0.8432 - val_loss: 0.3717 - val_accuracy: 0.8463\n",
      "Epoch 16/20\n",
      "943/943 [==============================] - 2s 2ms/step - loss: 0.3659 - accuracy: 0.8443 - val_loss: 0.3686 - val_accuracy: 0.8446\n",
      "Epoch 17/20\n",
      "943/943 [==============================] - 2s 2ms/step - loss: 0.3738 - accuracy: 0.8413 - val_loss: 0.3699 - val_accuracy: 0.8434\n",
      "Epoch 18/20\n",
      "943/943 [==============================] - 2s 2ms/step - loss: 0.3606 - accuracy: 0.8494 - val_loss: 0.3723 - val_accuracy: 0.8456\n",
      "Epoch 19/20\n",
      "943/943 [==============================] - 2s 2ms/step - loss: 0.3511 - accuracy: 0.8505 - val_loss: 0.3754 - val_accuracy: 0.8495\n",
      "Epoch 20/20\n",
      "943/943 [==============================] - 2s 2ms/step - loss: 0.3571 - accuracy: 0.8491 - val_loss: 0.3722 - val_accuracy: 0.8434\n"
     ]
    }
   ],
   "execution_count": 27
  },
  {
   "cell_type": "markdown",
   "metadata": {},
   "source": [
    "# Zad. \n",
    "Stwórz wykres porównujący metody. "
   ]
  },
  {
   "cell_type": "code",
   "metadata": {
    "ExecuteTime": {
     "end_time": "2025-05-26T16:44:25.620351Z",
     "start_time": "2025-05-26T16:44:25.400287Z"
    }
   },
   "source": [
    "plt.figure(figsize=(12,12))\n",
    "plt.plot(sig_history.history['val_loss'])\n",
    "plt.plot(sig_history.history['val_accuracy'])\n",
    "plt.plot(tanh_history.history['val_loss'])\n",
    "plt.plot(tanh_history.history['val_accuracy'])\n",
    "plt.plot(relu_history.history['val_loss'])\n",
    "plt.plot(relu_history.history['val_accuracy'])\n",
    "plt.plot(elu_history.history['val_loss'])\n",
    "plt.plot(elu_history.history['val_accuracy'])\n",
    "plt.plot(leakyrelu_history.history['val_loss'])\n",
    "plt.plot(leakyrelu_history.history['val_accuracy'])\n",
    "plt.legend(['sig_loss', 'sig_acc', 'tanh_loss', 'tanh_accuracy', 'relu_loss', 'relu_acc','elu_loss' ,'elu_acc','leakyrelu_loss', 'leakyrelu_acc'])\n",
    "plt.grid(True)\n",
    "plt.gca().set_ylim(0, 1)\n",
    "plt.show()"
   ],
   "outputs": [
    {
     "data": {
      "text/plain": [
       "<Figure size 1200x1200 with 1 Axes>"
      ],
      "image/png": "[encoded data removed]"
     },
     "metadata": {},
     "output_type": "display_data"
    }
   ],
   "execution_count": 37
  },
  {
   "cell_type": "code",
   "execution_count": null,
   "metadata": {},
   "outputs": [],
   "source": []
  }
 ],
 "metadata": {
  "kernelspec": {
   "display_name": "Python 3 (ipykernel)",
   "language": "python",
   "name": "python3"
  },
  "language_info": {
   "codemirror_mode": {
    "name": "ipython",
    "version": 3
   },
   "file_extension": ".py",
   "mimetype": "text/x-python",
   "name": "python",
   "nbconvert_exporter": "python",
   "pygments_lexer": "ipython3",
   "version": "3.8.10"
  }
 },
 "nbformat": 4,
 "nbformat_minor": 4
}
