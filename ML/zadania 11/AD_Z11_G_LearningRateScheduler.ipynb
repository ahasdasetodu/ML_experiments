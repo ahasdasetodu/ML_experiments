{
 "cells": [
  {
   "cell_type": "code",
   "metadata": {
    "ExecuteTime": {
     "end_time": "2025-05-26T19:03:07.585105Z",
     "start_time": "2025-05-26T19:02:36.719699Z"
    }
   },
   "source": [
    "import tensorflow as tf\n",
    "from tensorflow import keras\n",
    "print(tf.__version__)\n",
    "\n",
    "from numpy.random import seed\n",
    "seed(123)\n"
   ],
   "outputs": [
    {
     "name": "stdout",
     "output_type": "stream",
     "text": [
      "2.10.1\n"
     ]
    }
   ],
   "execution_count": 1
  },
  {
   "cell_type": "markdown",
   "metadata": {},
   "source": [
    "# Zad\n",
    "Porównaj wyniki działań różnych optymalizacji\n"
   ]
  },
  {
   "cell_type": "code",
   "metadata": {
    "ExecuteTime": {
     "end_time": "2025-05-26T19:03:13.642755Z",
     "start_time": "2025-05-26T19:03:07.651082Z"
    }
   },
   "source": [
    "# Wczytaj dane treningowe i testowe\n",
    "import numpy as np\n",
    "import matplotlib.pyplot as plt\n",
    "import pandas as pd\n",
    "\n",
    "data_url = 'https://archive.ics.uci.edu/ml/machine-learning-databases/adult/adult.data'\n",
    "test_url = 'https://archive.ics.uci.edu/ml/machine-learning-databases/adult/adult.test'\n",
    "\n",
    "train_set = pd.read_csv(data_url, sep=\", \",header = None)\n",
    "test_set = pd.read_csv(test_url, sep=\", \",skiprows = 1, header = None) # Make sure to skip a row for the test set\n",
    "\n",
    "col_labels = ['age', 'workclass', 'fnlwgt', 'education', 'education_num', 'marital_status', 'occupation', \n",
    "              'relationship', 'race', 'sex', 'capital_gain', 'capital_loss', 'hours_per_week', 'native_country',\n",
    "             'wage_class']\n",
    "train_set.columns = col_labels\n",
    "test_set.columns = col_labels\n",
    "\n",
    "train = train_set.replace('?', np.nan).dropna()\n",
    "test = test_set.replace('?', np.nan).dropna()\n",
    "\n",
    "train_set.head()\n"
   ],
   "outputs": [
    {
     "name": "stderr",
     "output_type": "stream",
     "text": [
      "C:\\Users\\krzys\\AppData\\Local\\Temp\\ipykernel_8996\\2049605904.py:9: ParserWarning: Falling back to the 'python' engine because the 'c' engine does not support regex separators (separators > 1 char and different from '\\s+' are interpreted as regex); you can avoid this warning by specifying engine='python'.\n",
      "  train_set = pd.read_csv(data_url, sep=\", \",header = None)\n",
      "C:\\Users\\krzys\\AppData\\Local\\Temp\\ipykernel_8996\\2049605904.py:10: ParserWarning: Falling back to the 'python' engine because the 'c' engine does not support regex separators (separators > 1 char and different from '\\s+' are interpreted as regex); you can avoid this warning by specifying engine='python'.\n",
      "  test_set = pd.read_csv(test_url, sep=\", \",skiprows = 1, header = None) # Make sure to skip a row for the test set\n"
     ]
    },
    {
     "data": {
      "text/plain": [
       "   age         workclass  fnlwgt  education  education_num  \\\n",
       "0   39         State-gov   77516  Bachelors             13   \n",
       "1   50  Self-emp-not-inc   83311  Bachelors             13   \n",
       "2   38           Private  215646    HS-grad              9   \n",
       "3   53           Private  234721       11th              7   \n",
       "4   28           Private  338409  Bachelors             13   \n",
       "\n",
       "       marital_status         occupation   relationship   race     sex  \\\n",
       "0       Never-married       Adm-clerical  Not-in-family  White    Male   \n",
       "1  Married-civ-spouse    Exec-managerial        Husband  White    Male   \n",
       "2            Divorced  Handlers-cleaners  Not-in-family  White    Male   \n",
       "3  Married-civ-spouse  Handlers-cleaners        Husband  Black    Male   \n",
       "4  Married-civ-spouse     Prof-specialty           Wife  Black  Female   \n",
       "\n",
       "   capital_gain  capital_loss  hours_per_week native_country wage_class  \n",
       "0          2174             0              40  United-States      <=50K  \n",
       "1             0             0              13  United-States      <=50K  \n",
       "2             0             0              40  United-States      <=50K  \n",
       "3             0             0              40  United-States      <=50K  \n",
       "4             0             0              40           Cuba      <=50K  "
      ],
      "text/html": [
       "<div>\n",
       "<style scoped>\n",
       "    .dataframe tbody tr th:only-of-type {\n",
       "        vertical-align: middle;\n",
       "    }\n",
       "\n",
       "    .dataframe tbody tr th {\n",
       "        vertical-align: top;\n",
       "    }\n",
       "\n",
       "    .dataframe thead th {\n",
       "        text-align: right;\n",
       "    }\n",
       "</style>\n",
       "<table border=\"1\" class=\"dataframe\">\n",
       "  <thead>\n",
       "    <tr style=\"text-align: right;\">\n",
       "      <th></th>\n",
       "      <th>age</th>\n",
       "      <th>workclass</th>\n",
       "      <th>fnlwgt</th>\n",
       "      <th>education</th>\n",
       "      <th>education_num</th>\n",
       "      <th>marital_status</th>\n",
       "      <th>occupation</th>\n",
       "      <th>relationship</th>\n",
       "      <th>race</th>\n",
       "      <th>sex</th>\n",
       "      <th>capital_gain</th>\n",
       "      <th>capital_loss</th>\n",
       "      <th>hours_per_week</th>\n",
       "      <th>native_country</th>\n",
       "      <th>wage_class</th>\n",
       "    </tr>\n",
       "  </thead>\n",
       "  <tbody>\n",
       "    <tr>\n",
       "      <th>0</th>\n",
       "      <td>39</td>\n",
       "      <td>State-gov</td>\n",
       "      <td>77516</td>\n",
       "      <td>Bachelors</td>\n",
       "      <td>13</td>\n",
       "      <td>Never-married</td>\n",
       "      <td>Adm-clerical</td>\n",
       "      <td>Not-in-family</td>\n",
       "      <td>White</td>\n",
       "      <td>Male</td>\n",
       "      <td>2174</td>\n",
       "      <td>0</td>\n",
       "      <td>40</td>\n",
       "      <td>United-States</td>\n",
       "      <td>&lt;=50K</td>\n",
       "    </tr>\n",
       "    <tr>\n",
       "      <th>1</th>\n",
       "      <td>50</td>\n",
       "      <td>Self-emp-not-inc</td>\n",
       "      <td>83311</td>\n",
       "      <td>Bachelors</td>\n",
       "      <td>13</td>\n",
       "      <td>Married-civ-spouse</td>\n",
       "      <td>Exec-managerial</td>\n",
       "      <td>Husband</td>\n",
       "      <td>White</td>\n",
       "      <td>Male</td>\n",
       "      <td>0</td>\n",
       "      <td>0</td>\n",
       "      <td>13</td>\n",
       "      <td>United-States</td>\n",
       "      <td>&lt;=50K</td>\n",
       "    </tr>\n",
       "    <tr>\n",
       "      <th>2</th>\n",
       "      <td>38</td>\n",
       "      <td>Private</td>\n",
       "      <td>215646</td>\n",
       "      <td>HS-grad</td>\n",
       "      <td>9</td>\n",
       "      <td>Divorced</td>\n",
       "      <td>Handlers-cleaners</td>\n",
       "      <td>Not-in-family</td>\n",
       "      <td>White</td>\n",
       "      <td>Male</td>\n",
       "      <td>0</td>\n",
       "      <td>0</td>\n",
       "      <td>40</td>\n",
       "      <td>United-States</td>\n",
       "      <td>&lt;=50K</td>\n",
       "    </tr>\n",
       "    <tr>\n",
       "      <th>3</th>\n",
       "      <td>53</td>\n",
       "      <td>Private</td>\n",
       "      <td>234721</td>\n",
       "      <td>11th</td>\n",
       "      <td>7</td>\n",
       "      <td>Married-civ-spouse</td>\n",
       "      <td>Handlers-cleaners</td>\n",
       "      <td>Husband</td>\n",
       "      <td>Black</td>\n",
       "      <td>Male</td>\n",
       "      <td>0</td>\n",
       "      <td>0</td>\n",
       "      <td>40</td>\n",
       "      <td>United-States</td>\n",
       "      <td>&lt;=50K</td>\n",
       "    </tr>\n",
       "    <tr>\n",
       "      <th>4</th>\n",
       "      <td>28</td>\n",
       "      <td>Private</td>\n",
       "      <td>338409</td>\n",
       "      <td>Bachelors</td>\n",
       "      <td>13</td>\n",
       "      <td>Married-civ-spouse</td>\n",
       "      <td>Prof-specialty</td>\n",
       "      <td>Wife</td>\n",
       "      <td>Black</td>\n",
       "      <td>Female</td>\n",
       "      <td>0</td>\n",
       "      <td>0</td>\n",
       "      <td>40</td>\n",
       "      <td>Cuba</td>\n",
       "      <td>&lt;=50K</td>\n",
       "    </tr>\n",
       "  </tbody>\n",
       "</table>\n",
       "</div>"
      ]
     },
     "execution_count": 2,
     "metadata": {},
     "output_type": "execute_result"
    }
   ],
   "execution_count": 2
  },
  {
   "cell_type": "code",
   "metadata": {
    "ExecuteTime": {
     "end_time": "2025-05-26T19:03:18.884954Z",
     "start_time": "2025-05-26T19:03:14.033671Z"
    }
   },
   "source": [
    "dataset = pd.concat([train,test])\n",
    "\n",
    "dataset['wage_class'] = dataset.wage_class.replace({'<=50K.': 0,'<=50K':0, '>50K.':1, '>50K':1})\n",
    "\n",
    "dataset.drop([\"fnlwgt\"],axis=1,inplace=True)\n",
    "\n",
    "dataset.drop([\"education\"],axis=1,inplace=True)\n",
    "\n",
    "x = dataset.groupby('native_country')[\"wage_class\"].mean()\n",
    "\n",
    "d = dict(pd.cut(x[x.index!=\" United-States\"],5,labels=range(5)))\n",
    "\n",
    "dataset['native_country'] = dataset['native_country'].replace(d)\n",
    "\n",
    "dataset = pd.get_dummies(dataset,drop_first=True)\n",
    "\n",
    "train = dataset.iloc[:train.shape[0]]\n",
    "test = dataset.iloc[train.shape[0]:]\n",
    "\n",
    "X_train = train.drop(\"wage_class\",axis=1)\n",
    "y_train = train.wage_class\n",
    "\n",
    "X_test = test.drop(\"wage_class\",axis=1)\n",
    "y_test = test.wage_class\n",
    "\n",
    "from sklearn.preprocessing import StandardScaler\n",
    "sc = StandardScaler()\n",
    "X_train = sc.fit_transform(X_train)\n",
    "X_test = sc.transform(X_test)\n",
    "\n",
    "print(X_train.shape)\n",
    "X_test.shape"
   ],
   "outputs": [
    {
     "name": "stderr",
     "output_type": "stream",
     "text": [
      "C:\\Users\\krzys\\AppData\\Local\\Temp\\ipykernel_8996\\2529606137.py:3: FutureWarning: Downcasting behavior in `replace` is deprecated and will be removed in a future version. To retain the old behavior, explicitly call `result.infer_objects(copy=False)`. To opt-in to the future behavior, set `pd.set_option('future.no_silent_downcasting', True)`\n",
      "  dataset['wage_class'] = dataset.wage_class.replace({'<=50K.': 0,'<=50K':0, '>50K.':1, '>50K':1})\n",
      "C:\\Users\\krzys\\AppData\\Local\\Temp\\ipykernel_8996\\2529606137.py:13: FutureWarning: Downcasting behavior in `replace` is deprecated and will be removed in a future version. To retain the old behavior, explicitly call `result.infer_objects(copy=False)`. To opt-in to the future behavior, set `pd.set_option('future.no_silent_downcasting', True)`\n",
      "  dataset['native_country'] = dataset['native_country'].replace(d)\n"
     ]
    },
    {
     "name": "stdout",
     "output_type": "stream",
     "text": [
      "(30162, 41)\n"
     ]
    },
    {
     "data": {
      "text/plain": [
       "(15060, 41)"
      ]
     },
     "execution_count": 3,
     "metadata": {},
     "output_type": "execute_result"
    }
   ],
   "execution_count": 3
  },
  {
   "cell_type": "markdown",
   "metadata": {},
   "source": [
    "# SGD"
   ]
  },
  {
   "cell_type": "code",
   "metadata": {
    "ExecuteTime": {
     "end_time": "2025-05-26T19:03:19.393658Z",
     "start_time": "2025-05-26T19:03:18.932958Z"
    }
   },
   "source": [
    "from keras.models import Sequential\n",
    "from keras.layers import Dense\n",
    "\n",
    "from keras.callbacks import History\n",
    "\n",
    "history_sgd = History()\n",
    "model = Sequential()\n",
    "model.add(Dense(100,activation=\"sigmoid\",input_shape=(X_train.shape[1],)))\n",
    "model.add(Dense(50,activation=\"sigmoid\"))\n",
    "model.add(Dense(10,activation=\"sigmoid\"))\n",
    "model.add(Dense(1,activation=\"sigmoid\"))\n",
    "model.summary()"
   ],
   "outputs": [
    {
     "name": "stdout",
     "output_type": "stream",
     "text": [
      "Model: \"sequential\"\n",
      "_________________________________________________________________\n",
      " Layer (type)                Output Shape              Param #   \n",
      "=================================================================\n",
      " dense (Dense)               (None, 100)               4200      \n",
      "                                                                 \n",
      " dense_1 (Dense)             (None, 50)                5050      \n",
      "                                                                 \n",
      " dense_2 (Dense)             (None, 10)                510       \n",
      "                                                                 \n",
      " dense_3 (Dense)             (None, 1)                 11        \n",
      "                                                                 \n",
      "=================================================================\n",
      "Total params: 9,771\n",
      "Trainable params: 9,771\n",
      "Non-trainable params: 0\n",
      "_________________________________________________________________\n"
     ]
    }
   ],
   "execution_count": 4
  },
  {
   "cell_type": "code",
   "metadata": {
    "ExecuteTime": {
     "end_time": "2025-05-26T19:03:19.625654Z",
     "start_time": "2025-05-26T19:03:19.581657Z"
    }
   },
   "source": [
    "sgd = tf.keras.optimizers.legacy.SGD(lr=0.01, decay=1e-6, momentum=0.9, nesterov=True)\n",
    "model.compile(loss=\"binary_crossentropy\",optimizer=sgd, metrics=[\"accuracy\"])"
   ],
   "outputs": [
    {
     "name": "stderr",
     "output_type": "stream",
     "text": [
      "D:\\Anaconda\\envs\\experiments\\lib\\site-packages\\keras\\optimizers\\optimizer_v2\\gradient_descent.py:111: UserWarning: The `lr` argument is deprecated, use `learning_rate` instead.\n",
      "  super().__init__(name, **kwargs)\n"
     ]
    }
   ],
   "execution_count": 5
  },
  {
   "cell_type": "code",
   "metadata": {
    "ExecuteTime": {
     "end_time": "2025-05-26T19:06:47.428086Z",
     "start_time": "2025-05-26T19:03:19.782655Z"
    }
   },
   "source": [
    "model.fit(X_train, y_train, validation_data= (X_test, y_test), batch_size=32,epochs=100, callbacks=[history_sgd])"
   ],
   "outputs": [
    {
     "name": "stdout",
     "output_type": "stream",
     "text": [
      "Epoch 1/100\n",
      "943/943 [==============================] - 3s 2ms/step - loss: 0.4943 - accuracy: 0.7659 - val_loss: 0.3666 - val_accuracy: 0.8330\n",
      "Epoch 2/100\n",
      "943/943 [==============================] - 2s 2ms/step - loss: 0.3485 - accuracy: 0.8358 - val_loss: 0.3411 - val_accuracy: 0.8373\n",
      "Epoch 3/100\n",
      "943/943 [==============================] - 2s 2ms/step - loss: 0.3362 - accuracy: 0.8425 - val_loss: 0.3349 - val_accuracy: 0.8411\n",
      "Epoch 4/100\n",
      "943/943 [==============================] - 2s 2ms/step - loss: 0.3317 - accuracy: 0.8432 - val_loss: 0.3337 - val_accuracy: 0.8442\n",
      "Epoch 5/100\n",
      "943/943 [==============================] - 2s 2ms/step - loss: 0.3291 - accuracy: 0.8450 - val_loss: 0.3387 - val_accuracy: 0.8449\n",
      "Epoch 6/100\n",
      "943/943 [==============================] - 2s 2ms/step - loss: 0.3279 - accuracy: 0.8457 - val_loss: 0.3272 - val_accuracy: 0.8454\n",
      "Epoch 7/100\n",
      "943/943 [==============================] - 2s 2ms/step - loss: 0.3271 - accuracy: 0.8462 - val_loss: 0.3342 - val_accuracy: 0.8426\n",
      "Epoch 8/100\n",
      "943/943 [==============================] - 2s 2ms/step - loss: 0.3261 - accuracy: 0.8463 - val_loss: 0.3288 - val_accuracy: 0.8441\n",
      "Epoch 9/100\n",
      "943/943 [==============================] - 2s 2ms/step - loss: 0.3255 - accuracy: 0.8475 - val_loss: 0.3261 - val_accuracy: 0.8475\n",
      "Epoch 10/100\n",
      "943/943 [==============================] - 2s 2ms/step - loss: 0.3242 - accuracy: 0.8472 - val_loss: 0.3246 - val_accuracy: 0.8475\n",
      "Epoch 11/100\n",
      "943/943 [==============================] - 2s 2ms/step - loss: 0.3234 - accuracy: 0.8486 - val_loss: 0.3254 - val_accuracy: 0.8452\n",
      "Epoch 12/100\n",
      "943/943 [==============================] - 2s 2ms/step - loss: 0.3226 - accuracy: 0.8479 - val_loss: 0.3254 - val_accuracy: 0.8450\n",
      "Epoch 13/100\n",
      "943/943 [==============================] - 2s 2ms/step - loss: 0.3222 - accuracy: 0.8488 - val_loss: 0.3263 - val_accuracy: 0.8479\n",
      "Epoch 14/100\n",
      "943/943 [==============================] - 2s 2ms/step - loss: 0.3213 - accuracy: 0.8495 - val_loss: 0.3236 - val_accuracy: 0.8486\n",
      "Epoch 15/100\n",
      "943/943 [==============================] - 2s 2ms/step - loss: 0.3205 - accuracy: 0.8502 - val_loss: 0.3240 - val_accuracy: 0.8469\n",
      "Epoch 16/100\n",
      "943/943 [==============================] - 2s 2ms/step - loss: 0.3196 - accuracy: 0.8499 - val_loss: 0.3216 - val_accuracy: 0.8486\n",
      "Epoch 17/100\n",
      "943/943 [==============================] - 2s 2ms/step - loss: 0.3192 - accuracy: 0.8495 - val_loss: 0.3231 - val_accuracy: 0.8479\n",
      "Epoch 18/100\n",
      "943/943 [==============================] - 2s 2ms/step - loss: 0.3190 - accuracy: 0.8503 - val_loss: 0.3232 - val_accuracy: 0.8482\n",
      "Epoch 19/100\n",
      "943/943 [==============================] - 2s 2ms/step - loss: 0.3177 - accuracy: 0.8507 - val_loss: 0.3212 - val_accuracy: 0.8489\n",
      "Epoch 20/100\n",
      "943/943 [==============================] - 2s 2ms/step - loss: 0.3175 - accuracy: 0.8514 - val_loss: 0.3202 - val_accuracy: 0.8472\n",
      "Epoch 21/100\n",
      "943/943 [==============================] - 2s 2ms/step - loss: 0.3170 - accuracy: 0.8517 - val_loss: 0.3196 - val_accuracy: 0.8489\n",
      "Epoch 22/100\n",
      "943/943 [==============================] - 2s 2ms/step - loss: 0.3161 - accuracy: 0.8517 - val_loss: 0.3343 - val_accuracy: 0.8373\n",
      "Epoch 23/100\n",
      "943/943 [==============================] - 2s 2ms/step - loss: 0.3158 - accuracy: 0.8514 - val_loss: 0.3196 - val_accuracy: 0.8492\n",
      "Epoch 24/100\n",
      "943/943 [==============================] - 2s 2ms/step - loss: 0.3151 - accuracy: 0.8524 - val_loss: 0.3195 - val_accuracy: 0.8495\n",
      "Epoch 25/100\n",
      "943/943 [==============================] - 2s 2ms/step - loss: 0.3144 - accuracy: 0.8528 - val_loss: 0.3194 - val_accuracy: 0.8500\n",
      "Epoch 26/100\n",
      "943/943 [==============================] - 2s 2ms/step - loss: 0.3139 - accuracy: 0.8523 - val_loss: 0.3189 - val_accuracy: 0.8498\n",
      "Epoch 27/100\n",
      "943/943 [==============================] - 2s 2ms/step - loss: 0.3140 - accuracy: 0.8527 - val_loss: 0.3181 - val_accuracy: 0.8492\n",
      "Epoch 28/100\n",
      "943/943 [==============================] - 2s 2ms/step - loss: 0.3127 - accuracy: 0.8537 - val_loss: 0.3183 - val_accuracy: 0.8501\n",
      "Epoch 29/100\n",
      "943/943 [==============================] - 2s 2ms/step - loss: 0.3125 - accuracy: 0.8532 - val_loss: 0.3200 - val_accuracy: 0.8491\n",
      "Epoch 30/100\n",
      "943/943 [==============================] - 2s 2ms/step - loss: 0.3121 - accuracy: 0.8534 - val_loss: 0.3191 - val_accuracy: 0.8509\n",
      "Epoch 31/100\n",
      "943/943 [==============================] - 2s 2ms/step - loss: 0.3112 - accuracy: 0.8544 - val_loss: 0.3177 - val_accuracy: 0.8505\n",
      "Epoch 32/100\n",
      "943/943 [==============================] - 2s 2ms/step - loss: 0.3114 - accuracy: 0.8555 - val_loss: 0.3183 - val_accuracy: 0.8502\n",
      "Epoch 33/100\n",
      "943/943 [==============================] - 2s 2ms/step - loss: 0.3106 - accuracy: 0.8535 - val_loss: 0.3208 - val_accuracy: 0.8485\n",
      "Epoch 34/100\n",
      "943/943 [==============================] - 2s 2ms/step - loss: 0.3101 - accuracy: 0.8550 - val_loss: 0.3178 - val_accuracy: 0.8499\n",
      "Epoch 35/100\n",
      "943/943 [==============================] - 2s 2ms/step - loss: 0.3103 - accuracy: 0.8558 - val_loss: 0.3175 - val_accuracy: 0.8501\n",
      "Epoch 36/100\n",
      "943/943 [==============================] - 2s 2ms/step - loss: 0.3100 - accuracy: 0.8548 - val_loss: 0.3174 - val_accuracy: 0.8499\n",
      "Epoch 37/100\n",
      "943/943 [==============================] - 2s 2ms/step - loss: 0.3092 - accuracy: 0.8545 - val_loss: 0.3205 - val_accuracy: 0.8497\n",
      "Epoch 38/100\n",
      "943/943 [==============================] - 2s 2ms/step - loss: 0.3089 - accuracy: 0.8563 - val_loss: 0.3171 - val_accuracy: 0.8509\n",
      "Epoch 39/100\n",
      "943/943 [==============================] - 2s 2ms/step - loss: 0.3089 - accuracy: 0.8541 - val_loss: 0.3212 - val_accuracy: 0.8503\n",
      "Epoch 40/100\n",
      "943/943 [==============================] - 2s 2ms/step - loss: 0.3085 - accuracy: 0.8563 - val_loss: 0.3179 - val_accuracy: 0.8511\n",
      "Epoch 41/100\n",
      "943/943 [==============================] - 2s 2ms/step - loss: 0.3086 - accuracy: 0.8557 - val_loss: 0.3233 - val_accuracy: 0.8459\n",
      "Epoch 42/100\n",
      "943/943 [==============================] - 2s 2ms/step - loss: 0.3078 - accuracy: 0.8571 - val_loss: 0.3176 - val_accuracy: 0.8508\n",
      "Epoch 43/100\n",
      "943/943 [==============================] - 2s 2ms/step - loss: 0.3078 - accuracy: 0.8569 - val_loss: 0.3213 - val_accuracy: 0.8480\n",
      "Epoch 44/100\n",
      "943/943 [==============================] - 2s 2ms/step - loss: 0.3077 - accuracy: 0.8557 - val_loss: 0.3171 - val_accuracy: 0.8517\n",
      "Epoch 45/100\n",
      "943/943 [==============================] - 2s 2ms/step - loss: 0.3075 - accuracy: 0.8568 - val_loss: 0.3192 - val_accuracy: 0.8502\n",
      "Epoch 46/100\n",
      "943/943 [==============================] - 2s 2ms/step - loss: 0.3069 - accuracy: 0.8572 - val_loss: 0.3185 - val_accuracy: 0.8507\n",
      "Epoch 47/100\n",
      "943/943 [==============================] - 2s 2ms/step - loss: 0.3068 - accuracy: 0.8556 - val_loss: 0.3188 - val_accuracy: 0.8495\n",
      "Epoch 48/100\n",
      "943/943 [==============================] - 2s 2ms/step - loss: 0.3063 - accuracy: 0.8585 - val_loss: 0.3179 - val_accuracy: 0.8519\n",
      "Epoch 49/100\n",
      "943/943 [==============================] - 2s 2ms/step - loss: 0.3063 - accuracy: 0.8559 - val_loss: 0.3197 - val_accuracy: 0.8506\n",
      "Epoch 50/100\n",
      "943/943 [==============================] - 2s 2ms/step - loss: 0.3058 - accuracy: 0.8580 - val_loss: 0.3197 - val_accuracy: 0.8499\n",
      "Epoch 51/100\n",
      "943/943 [==============================] - 2s 2ms/step - loss: 0.3054 - accuracy: 0.8579 - val_loss: 0.3203 - val_accuracy: 0.8514\n",
      "Epoch 52/100\n",
      "943/943 [==============================] - 2s 2ms/step - loss: 0.3055 - accuracy: 0.8582 - val_loss: 0.3199 - val_accuracy: 0.8495\n",
      "Epoch 53/100\n",
      "943/943 [==============================] - 2s 2ms/step - loss: 0.3054 - accuracy: 0.8569 - val_loss: 0.3187 - val_accuracy: 0.8504\n",
      "Epoch 54/100\n",
      "943/943 [==============================] - 2s 2ms/step - loss: 0.3051 - accuracy: 0.8568 - val_loss: 0.3185 - val_accuracy: 0.8517\n",
      "Epoch 55/100\n",
      "943/943 [==============================] - 2s 2ms/step - loss: 0.3052 - accuracy: 0.8572 - val_loss: 0.3200 - val_accuracy: 0.8506\n",
      "Epoch 56/100\n",
      "943/943 [==============================] - 2s 2ms/step - loss: 0.3045 - accuracy: 0.8586 - val_loss: 0.3209 - val_accuracy: 0.8519\n",
      "Epoch 57/100\n",
      "943/943 [==============================] - 2s 2ms/step - loss: 0.3044 - accuracy: 0.8581 - val_loss: 0.3177 - val_accuracy: 0.8503\n",
      "Epoch 58/100\n",
      "943/943 [==============================] - 2s 2ms/step - loss: 0.3043 - accuracy: 0.8590 - val_loss: 0.3205 - val_accuracy: 0.8515\n",
      "Epoch 59/100\n",
      "943/943 [==============================] - 2s 2ms/step - loss: 0.3036 - accuracy: 0.8589 - val_loss: 0.3209 - val_accuracy: 0.8511\n",
      "Epoch 60/100\n",
      "943/943 [==============================] - 2s 2ms/step - loss: 0.3040 - accuracy: 0.8576 - val_loss: 0.3205 - val_accuracy: 0.8511\n",
      "Epoch 61/100\n",
      "943/943 [==============================] - 2s 2ms/step - loss: 0.3035 - accuracy: 0.8574 - val_loss: 0.3208 - val_accuracy: 0.8500\n",
      "Epoch 62/100\n",
      "943/943 [==============================] - 2s 2ms/step - loss: 0.3029 - accuracy: 0.8587 - val_loss: 0.3223 - val_accuracy: 0.8504\n",
      "Epoch 63/100\n",
      "943/943 [==============================] - 2s 2ms/step - loss: 0.3031 - accuracy: 0.8585 - val_loss: 0.3199 - val_accuracy: 0.8516\n",
      "Epoch 64/100\n",
      "943/943 [==============================] - 2s 2ms/step - loss: 0.3028 - accuracy: 0.8589 - val_loss: 0.3194 - val_accuracy: 0.8509\n",
      "Epoch 65/100\n",
      "943/943 [==============================] - 2s 2ms/step - loss: 0.3024 - accuracy: 0.8588 - val_loss: 0.3205 - val_accuracy: 0.8502\n",
      "Epoch 66/100\n",
      "943/943 [==============================] - 2s 2ms/step - loss: 0.3019 - accuracy: 0.8580 - val_loss: 0.3271 - val_accuracy: 0.8429\n",
      "Epoch 67/100\n",
      "943/943 [==============================] - 2s 2ms/step - loss: 0.3015 - accuracy: 0.8599 - val_loss: 0.3213 - val_accuracy: 0.8489\n",
      "Epoch 68/100\n",
      "943/943 [==============================] - 2s 2ms/step - loss: 0.3016 - accuracy: 0.8595 - val_loss: 0.3211 - val_accuracy: 0.8496\n",
      "Epoch 69/100\n",
      "943/943 [==============================] - 2s 2ms/step - loss: 0.3016 - accuracy: 0.8587 - val_loss: 0.3200 - val_accuracy: 0.8500\n",
      "Epoch 70/100\n",
      "943/943 [==============================] - 2s 2ms/step - loss: 0.3010 - accuracy: 0.8593 - val_loss: 0.3203 - val_accuracy: 0.8509\n",
      "Epoch 71/100\n",
      "943/943 [==============================] - 2s 2ms/step - loss: 0.3008 - accuracy: 0.8596 - val_loss: 0.3191 - val_accuracy: 0.8512\n",
      "Epoch 72/100\n",
      "943/943 [==============================] - 2s 2ms/step - loss: 0.3007 - accuracy: 0.8595 - val_loss: 0.3214 - val_accuracy: 0.8519\n",
      "Epoch 73/100\n",
      "943/943 [==============================] - 2s 2ms/step - loss: 0.3001 - accuracy: 0.8598 - val_loss: 0.3215 - val_accuracy: 0.8495\n",
      "Epoch 74/100\n",
      "943/943 [==============================] - 2s 2ms/step - loss: 0.3004 - accuracy: 0.8588 - val_loss: 0.3204 - val_accuracy: 0.8515\n",
      "Epoch 75/100\n",
      "943/943 [==============================] - 2s 2ms/step - loss: 0.2994 - accuracy: 0.8605 - val_loss: 0.3215 - val_accuracy: 0.8503\n",
      "Epoch 76/100\n",
      "943/943 [==============================] - 2s 2ms/step - loss: 0.2994 - accuracy: 0.8596 - val_loss: 0.3233 - val_accuracy: 0.8467\n",
      "Epoch 77/100\n",
      "943/943 [==============================] - 2s 2ms/step - loss: 0.2993 - accuracy: 0.8601 - val_loss: 0.3222 - val_accuracy: 0.8486\n",
      "Epoch 78/100\n",
      "943/943 [==============================] - 2s 2ms/step - loss: 0.2989 - accuracy: 0.8596 - val_loss: 0.3226 - val_accuracy: 0.8488\n",
      "Epoch 79/100\n",
      "943/943 [==============================] - 2s 2ms/step - loss: 0.2983 - accuracy: 0.8608 - val_loss: 0.3554 - val_accuracy: 0.8242\n",
      "Epoch 80/100\n",
      "943/943 [==============================] - 2s 2ms/step - loss: 0.2985 - accuracy: 0.8599 - val_loss: 0.3230 - val_accuracy: 0.8492\n",
      "Epoch 81/100\n",
      "943/943 [==============================] - 2s 2ms/step - loss: 0.2982 - accuracy: 0.8598 - val_loss: 0.3231 - val_accuracy: 0.8491\n",
      "Epoch 82/100\n",
      "943/943 [==============================] - 2s 2ms/step - loss: 0.2978 - accuracy: 0.8608 - val_loss: 0.3253 - val_accuracy: 0.8496\n",
      "Epoch 83/100\n",
      "943/943 [==============================] - 2s 2ms/step - loss: 0.2978 - accuracy: 0.8607 - val_loss: 0.3217 - val_accuracy: 0.8500\n",
      "Epoch 84/100\n",
      "943/943 [==============================] - 2s 2ms/step - loss: 0.2973 - accuracy: 0.8609 - val_loss: 0.3267 - val_accuracy: 0.8495\n",
      "Epoch 85/100\n",
      "943/943 [==============================] - 2s 2ms/step - loss: 0.2970 - accuracy: 0.8606 - val_loss: 0.3278 - val_accuracy: 0.8452\n",
      "Epoch 86/100\n",
      "943/943 [==============================] - 2s 2ms/step - loss: 0.2968 - accuracy: 0.8614 - val_loss: 0.3234 - val_accuracy: 0.8487\n",
      "Epoch 87/100\n",
      "943/943 [==============================] - 2s 2ms/step - loss: 0.2966 - accuracy: 0.8597 - val_loss: 0.3237 - val_accuracy: 0.8469\n",
      "Epoch 88/100\n",
      "943/943 [==============================] - 2s 2ms/step - loss: 0.2961 - accuracy: 0.8615 - val_loss: 0.3286 - val_accuracy: 0.8491\n",
      "Epoch 89/100\n",
      "943/943 [==============================] - 2s 2ms/step - loss: 0.2962 - accuracy: 0.8620 - val_loss: 0.3337 - val_accuracy: 0.8489\n",
      "Epoch 90/100\n",
      "943/943 [==============================] - 2s 2ms/step - loss: 0.2956 - accuracy: 0.8622 - val_loss: 0.3227 - val_accuracy: 0.8503\n",
      "Epoch 91/100\n",
      "943/943 [==============================] - 2s 2ms/step - loss: 0.2951 - accuracy: 0.8619 - val_loss: 0.3252 - val_accuracy: 0.8481\n",
      "Epoch 92/100\n",
      "943/943 [==============================] - 3s 4ms/step - loss: 0.2948 - accuracy: 0.8622 - val_loss: 0.3246 - val_accuracy: 0.8469\n",
      "Epoch 93/100\n",
      "943/943 [==============================] - 4s 4ms/step - loss: 0.2948 - accuracy: 0.8623 - val_loss: 0.3248 - val_accuracy: 0.8470\n",
      "Epoch 94/100\n",
      "943/943 [==============================] - 4s 5ms/step - loss: 0.2945 - accuracy: 0.8621 - val_loss: 0.3251 - val_accuracy: 0.8472\n",
      "Epoch 95/100\n",
      "943/943 [==============================] - 4s 4ms/step - loss: 0.2944 - accuracy: 0.8616 - val_loss: 0.3265 - val_accuracy: 0.8476\n",
      "Epoch 96/100\n",
      "943/943 [==============================] - 5s 6ms/step - loss: 0.2940 - accuracy: 0.8619 - val_loss: 0.3255 - val_accuracy: 0.8492\n",
      "Epoch 97/100\n",
      "943/943 [==============================] - 6s 6ms/step - loss: 0.2937 - accuracy: 0.8624 - val_loss: 0.3251 - val_accuracy: 0.8500\n",
      "Epoch 98/100\n",
      "943/943 [==============================] - 7s 7ms/step - loss: 0.2939 - accuracy: 0.8633 - val_loss: 0.3275 - val_accuracy: 0.8487\n",
      "Epoch 99/100\n",
      "943/943 [==============================] - 7s 7ms/step - loss: 0.2934 - accuracy: 0.8617 - val_loss: 0.3281 - val_accuracy: 0.8462\n",
      "Epoch 100/100\n",
      "943/943 [==============================] - 8s 8ms/step - loss: 0.2932 - accuracy: 0.8626 - val_loss: 0.3271 - val_accuracy: 0.8463\n"
     ]
    },
    {
     "data": {
      "text/plain": [
       "<keras.callbacks.History at 0x1f28fed92b0>"
      ]
     },
     "execution_count": 6,
     "metadata": {},
     "output_type": "execute_result"
    }
   ],
   "execution_count": 6
  },
  {
   "cell_type": "code",
   "metadata": {
    "ExecuteTime": {
     "end_time": "2025-05-26T19:06:47.613086Z",
     "start_time": "2025-05-26T19:06:47.604087Z"
    }
   },
   "source": [
    "history_sgd.history.keys()"
   ],
   "outputs": [
    {
     "data": {
      "text/plain": [
       "dict_keys(['loss', 'accuracy', 'val_loss', 'val_accuracy'])"
      ]
     },
     "execution_count": 7,
     "metadata": {},
     "output_type": "execute_result"
    }
   ],
   "execution_count": 7
  },
  {
   "cell_type": "code",
   "metadata": {
    "ExecuteTime": {
     "end_time": "2025-05-26T19:06:48.478086Z",
     "start_time": "2025-05-26T19:06:47.708087Z"
    }
   },
   "source": [
    "import matplotlib.pyplot as pl\n",
    "plt.plot(history_sgd.history['accuracy'], label = \"tarina\")\n",
    "plt.plot(history_sgd.history['val_accuracy'], label = \"test\")\n",
    "plt.legend()\n",
    "plt.show()"
   ],
   "outputs": [
    {
     "data": {
      "text/plain": [
       "<Figure size 640x480 with 1 Axes>"
      ],
      "image/png": "[encoded data removed]"
     },
     "metadata": {},
     "output_type": "display_data"
    }
   ],
   "execution_count": 8
  },
  {
   "cell_type": "markdown",
   "metadata": {},
   "source": [
    "# Zad\n",
    "\n",
    "Użyjmy LearningRateScheduler"
   ]
  },
  {
   "cell_type": "code",
   "metadata": {
    "ExecuteTime": {
     "end_time": "2025-05-26T19:17:34.404197Z",
     "start_time": "2025-05-26T19:06:48.625087Z"
    }
   },
   "source": [
    "from keras.callbacks import LearningRateScheduler\n",
    "# learning rate schedule\n",
    "def step_decay(epoch):\n",
    "    initial_lrate = 0.01\n",
    "    drop = 0.5\n",
    "    epochs_drop = 10.0\n",
    "    lrate = initial_lrate * np.power(drop, np.floor((1+epoch)/epochs_drop))\n",
    "    return lrate\n",
    "\n",
    "history_lr_1 = History()\n",
    "model = Sequential()\n",
    "model.add(Dense(100,activation=\"sigmoid\",input_shape=(X_train.shape[1],)))\n",
    "model.add(Dense(50,activation=\"sigmoid\"))\n",
    "model.add(Dense(10,activation=\"sigmoid\"))\n",
    "model.add(Dense(1,activation=\"sigmoid\"))\n",
    "model.summary()\n",
    "\n",
    "# sgd = keras.optimizers.SGD(lr=0.01, decay=1e-6, momentum=0.9, nesterov=True)\n",
    "model.compile(loss=\"binary_crossentropy\",optimizer=\"SGD\", metrics=[\"accuracy\"])\n",
    "\n",
    "lrate = LearningRateScheduler(step_decay)\n",
    "model.fit(X_train, y_train, validation_data= (X_test, y_test), batch_size=32,epochs=100, callbacks=[lrate, history_lr_1])\n"
   ],
   "outputs": [
    {
     "name": "stdout",
     "output_type": "stream",
     "text": [
      "Model: \"sequential_1\"\n",
      "_________________________________________________________________\n",
      " Layer (type)                Output Shape              Param #   \n",
      "=================================================================\n",
      " dense_4 (Dense)             (None, 100)               4200      \n",
      "                                                                 \n",
      " dense_5 (Dense)             (None, 50)                5050      \n",
      "                                                                 \n",
      " dense_6 (Dense)             (None, 10)                510       \n",
      "                                                                 \n",
      " dense_7 (Dense)             (None, 1)                 11        \n",
      "                                                                 \n",
      "=================================================================\n",
      "Total params: 9,771\n",
      "Trainable params: 9,771\n",
      "Non-trainable params: 0\n",
      "_________________________________________________________________\n",
      "Epoch 1/100\n",
      "943/943 [==============================] - 8s 7ms/step - loss: 0.5614 - accuracy: 0.7511 - val_loss: 0.5537 - val_accuracy: 0.7543 - lr: 0.0100\n",
      "Epoch 2/100\n",
      "943/943 [==============================] - 8s 8ms/step - loss: 0.5554 - accuracy: 0.7511 - val_loss: 0.5500 - val_accuracy: 0.7543 - lr: 0.0100\n",
      "Epoch 3/100\n",
      "943/943 [==============================] - 8s 9ms/step - loss: 0.5512 - accuracy: 0.7511 - val_loss: 0.5451 - val_accuracy: 0.7543 - lr: 0.0100\n",
      "Epoch 4/100\n",
      "943/943 [==============================] - 8s 9ms/step - loss: 0.5447 - accuracy: 0.7511 - val_loss: 0.5374 - val_accuracy: 0.7543 - lr: 0.0100\n",
      "Epoch 5/100\n",
      "943/943 [==============================] - 8s 9ms/step - loss: 0.5347 - accuracy: 0.7511 - val_loss: 0.5246 - val_accuracy: 0.7543 - lr: 0.0100\n",
      "Epoch 6/100\n",
      "943/943 [==============================] - 8s 8ms/step - loss: 0.5173 - accuracy: 0.7511 - val_loss: 0.5025 - val_accuracy: 0.7543 - lr: 0.0100\n",
      "Epoch 7/100\n",
      "943/943 [==============================] - 7s 7ms/step - loss: 0.4882 - accuracy: 0.7512 - val_loss: 0.4672 - val_accuracy: 0.7561 - lr: 0.0100\n",
      "Epoch 8/100\n",
      "943/943 [==============================] - 8s 8ms/step - loss: 0.4470 - accuracy: 0.7646 - val_loss: 0.4239 - val_accuracy: 0.7857 - lr: 0.0100\n",
      "Epoch 9/100\n",
      "943/943 [==============================] - 7s 7ms/step - loss: 0.4061 - accuracy: 0.8063 - val_loss: 0.3898 - val_accuracy: 0.8232 - lr: 0.0100\n",
      "Epoch 10/100\n",
      "943/943 [==============================] - 7s 7ms/step - loss: 0.3834 - accuracy: 0.8252 - val_loss: 0.3773 - val_accuracy: 0.8280 - lr: 0.0050\n",
      "Epoch 11/100\n",
      "943/943 [==============================] - 5s 5ms/step - loss: 0.3731 - accuracy: 0.8299 - val_loss: 0.3685 - val_accuracy: 0.8317 - lr: 0.0050\n",
      "Epoch 12/100\n",
      "943/943 [==============================] - 6s 6ms/step - loss: 0.3656 - accuracy: 0.8328 - val_loss: 0.3623 - val_accuracy: 0.8329 - lr: 0.0050\n",
      "Epoch 13/100\n",
      "943/943 [==============================] - 5s 6ms/step - loss: 0.3601 - accuracy: 0.8336 - val_loss: 0.3578 - val_accuracy: 0.8369 - lr: 0.0050\n",
      "Epoch 14/100\n",
      "943/943 [==============================] - 4s 5ms/step - loss: 0.3560 - accuracy: 0.8342 - val_loss: 0.3542 - val_accuracy: 0.8373 - lr: 0.0050\n",
      "Epoch 15/100\n",
      "943/943 [==============================] - 7s 7ms/step - loss: 0.3528 - accuracy: 0.8345 - val_loss: 0.3516 - val_accuracy: 0.8382 - lr: 0.0050\n",
      "Epoch 16/100\n",
      "943/943 [==============================] - 7s 7ms/step - loss: 0.3505 - accuracy: 0.8356 - val_loss: 0.3495 - val_accuracy: 0.8389 - lr: 0.0050\n",
      "Epoch 17/100\n",
      "943/943 [==============================] - 5s 5ms/step - loss: 0.3487 - accuracy: 0.8352 - val_loss: 0.3479 - val_accuracy: 0.8394 - lr: 0.0050\n",
      "Epoch 18/100\n",
      "943/943 [==============================] - 5s 5ms/step - loss: 0.3471 - accuracy: 0.8371 - val_loss: 0.3466 - val_accuracy: 0.8387 - lr: 0.0050\n",
      "Epoch 19/100\n",
      "943/943 [==============================] - 6s 7ms/step - loss: 0.3458 - accuracy: 0.8373 - val_loss: 0.3459 - val_accuracy: 0.8386 - lr: 0.0050\n",
      "Epoch 20/100\n",
      "943/943 [==============================] - 7s 7ms/step - loss: 0.3449 - accuracy: 0.8377 - val_loss: 0.3449 - val_accuracy: 0.8392 - lr: 0.0025\n",
      "Epoch 21/100\n",
      "943/943 [==============================] - 6s 7ms/step - loss: 0.3443 - accuracy: 0.8380 - val_loss: 0.3446 - val_accuracy: 0.8383 - lr: 0.0025\n",
      "Epoch 22/100\n",
      "943/943 [==============================] - 6s 7ms/step - loss: 0.3438 - accuracy: 0.8379 - val_loss: 0.3441 - val_accuracy: 0.8391 - lr: 0.0025\n",
      "Epoch 23/100\n",
      "943/943 [==============================] - 7s 7ms/step - loss: 0.3434 - accuracy: 0.8379 - val_loss: 0.3437 - val_accuracy: 0.8386 - lr: 0.0025\n",
      "Epoch 24/100\n",
      "943/943 [==============================] - 6s 7ms/step - loss: 0.3429 - accuracy: 0.8379 - val_loss: 0.3433 - val_accuracy: 0.8388 - lr: 0.0025\n",
      "Epoch 25/100\n",
      "943/943 [==============================] - 6s 7ms/step - loss: 0.3425 - accuracy: 0.8384 - val_loss: 0.3429 - val_accuracy: 0.8396 - lr: 0.0025\n",
      "Epoch 26/100\n",
      "943/943 [==============================] - 8s 8ms/step - loss: 0.3421 - accuracy: 0.8388 - val_loss: 0.3426 - val_accuracy: 0.8394 - lr: 0.0025\n",
      "Epoch 27/100\n",
      "943/943 [==============================] - 6s 6ms/step - loss: 0.3417 - accuracy: 0.8390 - val_loss: 0.3423 - val_accuracy: 0.8398 - lr: 0.0025\n",
      "Epoch 28/100\n",
      "943/943 [==============================] - 7s 7ms/step - loss: 0.3413 - accuracy: 0.8391 - val_loss: 0.3420 - val_accuracy: 0.8404 - lr: 0.0025\n",
      "Epoch 29/100\n",
      "943/943 [==============================] - 7s 7ms/step - loss: 0.3410 - accuracy: 0.8391 - val_loss: 0.3417 - val_accuracy: 0.8406 - lr: 0.0025\n",
      "Epoch 30/100\n",
      "943/943 [==============================] - 7s 8ms/step - loss: 0.3407 - accuracy: 0.8396 - val_loss: 0.3415 - val_accuracy: 0.8405 - lr: 0.0012\n",
      "Epoch 31/100\n",
      "943/943 [==============================] - 7s 8ms/step - loss: 0.3405 - accuracy: 0.8398 - val_loss: 0.3414 - val_accuracy: 0.8405 - lr: 0.0012\n",
      "Epoch 32/100\n",
      "943/943 [==============================] - 6s 7ms/step - loss: 0.3404 - accuracy: 0.8399 - val_loss: 0.3413 - val_accuracy: 0.8405 - lr: 0.0012\n",
      "Epoch 33/100\n",
      "943/943 [==============================] - 6s 7ms/step - loss: 0.3402 - accuracy: 0.8396 - val_loss: 0.3412 - val_accuracy: 0.8406 - lr: 0.0012\n",
      "Epoch 34/100\n",
      "943/943 [==============================] - 7s 8ms/step - loss: 0.3400 - accuracy: 0.8393 - val_loss: 0.3410 - val_accuracy: 0.8409 - lr: 0.0012\n",
      "Epoch 35/100\n",
      "943/943 [==============================] - 6s 6ms/step - loss: 0.3399 - accuracy: 0.8398 - val_loss: 0.3409 - val_accuracy: 0.8411 - lr: 0.0012\n",
      "Epoch 36/100\n",
      "943/943 [==============================] - 5s 5ms/step - loss: 0.3397 - accuracy: 0.8398 - val_loss: 0.3407 - val_accuracy: 0.8412 - lr: 0.0012\n",
      "Epoch 37/100\n",
      "943/943 [==============================] - 7s 8ms/step - loss: 0.3396 - accuracy: 0.8402 - val_loss: 0.3407 - val_accuracy: 0.8412 - lr: 0.0012\n",
      "Epoch 38/100\n",
      "943/943 [==============================] - 8s 9ms/step - loss: 0.3395 - accuracy: 0.8400 - val_loss: 0.3405 - val_accuracy: 0.8414 - lr: 0.0012\n",
      "Epoch 39/100\n",
      "943/943 [==============================] - 7s 8ms/step - loss: 0.3393 - accuracy: 0.8399 - val_loss: 0.3403 - val_accuracy: 0.8411 - lr: 0.0012\n",
      "Epoch 40/100\n",
      "943/943 [==============================] - 7s 8ms/step - loss: 0.3392 - accuracy: 0.8400 - val_loss: 0.3403 - val_accuracy: 0.8416 - lr: 6.2500e-04\n",
      "Epoch 41/100\n",
      "943/943 [==============================] - 5s 6ms/step - loss: 0.3391 - accuracy: 0.8402 - val_loss: 0.3402 - val_accuracy: 0.8416 - lr: 6.2500e-04\n",
      "Epoch 42/100\n",
      "943/943 [==============================] - 5s 6ms/step - loss: 0.3390 - accuracy: 0.8400 - val_loss: 0.3402 - val_accuracy: 0.8414 - lr: 6.2500e-04\n",
      "Epoch 43/100\n",
      "943/943 [==============================] - 7s 7ms/step - loss: 0.3389 - accuracy: 0.8403 - val_loss: 0.3401 - val_accuracy: 0.8417 - lr: 6.2500e-04\n",
      "Epoch 44/100\n",
      "943/943 [==============================] - 7s 7ms/step - loss: 0.3389 - accuracy: 0.8399 - val_loss: 0.3401 - val_accuracy: 0.8418 - lr: 6.2500e-04\n",
      "Epoch 45/100\n",
      "943/943 [==============================] - 4s 5ms/step - loss: 0.3388 - accuracy: 0.8398 - val_loss: 0.3400 - val_accuracy: 0.8422 - lr: 6.2500e-04\n",
      "Epoch 46/100\n",
      "943/943 [==============================] - 5s 5ms/step - loss: 0.3387 - accuracy: 0.8403 - val_loss: 0.3399 - val_accuracy: 0.8418 - lr: 6.2500e-04\n",
      "Epoch 47/100\n",
      "943/943 [==============================] - 6s 6ms/step - loss: 0.3387 - accuracy: 0.8400 - val_loss: 0.3399 - val_accuracy: 0.8420 - lr: 6.2500e-04\n",
      "Epoch 48/100\n",
      "943/943 [==============================] - 7s 7ms/step - loss: 0.3386 - accuracy: 0.8402 - val_loss: 0.3398 - val_accuracy: 0.8420 - lr: 6.2500e-04\n",
      "Epoch 49/100\n",
      "943/943 [==============================] - 6s 7ms/step - loss: 0.3385 - accuracy: 0.8402 - val_loss: 0.3398 - val_accuracy: 0.8420 - lr: 6.2500e-04\n",
      "Epoch 50/100\n",
      "943/943 [==============================] - 6s 7ms/step - loss: 0.3385 - accuracy: 0.8402 - val_loss: 0.3398 - val_accuracy: 0.8420 - lr: 3.1250e-04\n",
      "Epoch 51/100\n",
      "943/943 [==============================] - 6s 6ms/step - loss: 0.3384 - accuracy: 0.8401 - val_loss: 0.3397 - val_accuracy: 0.8420 - lr: 3.1250e-04\n",
      "Epoch 52/100\n",
      "943/943 [==============================] - 6s 6ms/step - loss: 0.3384 - accuracy: 0.8404 - val_loss: 0.3397 - val_accuracy: 0.8423 - lr: 3.1250e-04\n",
      "Epoch 53/100\n",
      "943/943 [==============================] - 7s 7ms/step - loss: 0.3384 - accuracy: 0.8402 - val_loss: 0.3397 - val_accuracy: 0.8424 - lr: 3.1250e-04\n",
      "Epoch 54/100\n",
      "943/943 [==============================] - 6s 7ms/step - loss: 0.3383 - accuracy: 0.8403 - val_loss: 0.3396 - val_accuracy: 0.8420 - lr: 3.1250e-04\n",
      "Epoch 55/100\n",
      "943/943 [==============================] - 6s 7ms/step - loss: 0.3383 - accuracy: 0.8403 - val_loss: 0.3396 - val_accuracy: 0.8423 - lr: 3.1250e-04\n",
      "Epoch 56/100\n",
      "943/943 [==============================] - 7s 8ms/step - loss: 0.3383 - accuracy: 0.8402 - val_loss: 0.3396 - val_accuracy: 0.8424 - lr: 3.1250e-04\n",
      "Epoch 57/100\n",
      "943/943 [==============================] - 7s 7ms/step - loss: 0.3382 - accuracy: 0.8402 - val_loss: 0.3396 - val_accuracy: 0.8422 - lr: 3.1250e-04\n",
      "Epoch 58/100\n",
      "943/943 [==============================] - 7s 7ms/step - loss: 0.3382 - accuracy: 0.8402 - val_loss: 0.3395 - val_accuracy: 0.8424 - lr: 3.1250e-04\n",
      "Epoch 59/100\n",
      "943/943 [==============================] - 7s 7ms/step - loss: 0.3382 - accuracy: 0.8403 - val_loss: 0.3395 - val_accuracy: 0.8424 - lr: 3.1250e-04\n",
      "Epoch 60/100\n",
      "943/943 [==============================] - 7s 7ms/step - loss: 0.3381 - accuracy: 0.8403 - val_loss: 0.3395 - val_accuracy: 0.8424 - lr: 1.5625e-04\n",
      "Epoch 61/100\n",
      "943/943 [==============================] - 7s 8ms/step - loss: 0.3381 - accuracy: 0.8404 - val_loss: 0.3395 - val_accuracy: 0.8424 - lr: 1.5625e-04\n",
      "Epoch 62/100\n",
      "943/943 [==============================] - 7s 7ms/step - loss: 0.3381 - accuracy: 0.8403 - val_loss: 0.3395 - val_accuracy: 0.8424 - lr: 1.5625e-04\n",
      "Epoch 63/100\n",
      "943/943 [==============================] - 8s 8ms/step - loss: 0.3381 - accuracy: 0.8403 - val_loss: 0.3394 - val_accuracy: 0.8424 - lr: 1.5625e-04\n",
      "Epoch 64/100\n",
      "943/943 [==============================] - 8s 8ms/step - loss: 0.3381 - accuracy: 0.8404 - val_loss: 0.3394 - val_accuracy: 0.8425 - lr: 1.5625e-04\n",
      "Epoch 65/100\n",
      "943/943 [==============================] - 7s 7ms/step - loss: 0.3380 - accuracy: 0.8404 - val_loss: 0.3394 - val_accuracy: 0.8425 - lr: 1.5625e-04\n",
      "Epoch 66/100\n",
      "943/943 [==============================] - 7s 7ms/step - loss: 0.3380 - accuracy: 0.8405 - val_loss: 0.3394 - val_accuracy: 0.8425 - lr: 1.5625e-04\n",
      "Epoch 67/100\n",
      "943/943 [==============================] - 7s 7ms/step - loss: 0.3380 - accuracy: 0.8405 - val_loss: 0.3394 - val_accuracy: 0.8425 - lr: 1.5625e-04\n",
      "Epoch 68/100\n",
      "943/943 [==============================] - 7s 7ms/step - loss: 0.3380 - accuracy: 0.8404 - val_loss: 0.3394 - val_accuracy: 0.8424 - lr: 1.5625e-04\n",
      "Epoch 69/100\n",
      "943/943 [==============================] - 7s 8ms/step - loss: 0.3380 - accuracy: 0.8404 - val_loss: 0.3394 - val_accuracy: 0.8424 - lr: 1.5625e-04\n",
      "Epoch 70/100\n",
      "943/943 [==============================] - 7s 7ms/step - loss: 0.3380 - accuracy: 0.8404 - val_loss: 0.3394 - val_accuracy: 0.8424 - lr: 7.8125e-05\n",
      "Epoch 71/100\n",
      "943/943 [==============================] - 7s 7ms/step - loss: 0.3380 - accuracy: 0.8404 - val_loss: 0.3394 - val_accuracy: 0.8424 - lr: 7.8125e-05\n",
      "Epoch 72/100\n",
      "943/943 [==============================] - 6s 7ms/step - loss: 0.3379 - accuracy: 0.8405 - val_loss: 0.3393 - val_accuracy: 0.8424 - lr: 7.8125e-05\n",
      "Epoch 73/100\n",
      "943/943 [==============================] - 6s 7ms/step - loss: 0.3379 - accuracy: 0.8405 - val_loss: 0.3393 - val_accuracy: 0.8424 - lr: 7.8125e-05\n",
      "Epoch 74/100\n",
      "943/943 [==============================] - 4s 4ms/step - loss: 0.3379 - accuracy: 0.8405 - val_loss: 0.3393 - val_accuracy: 0.8424 - lr: 7.8125e-05\n",
      "Epoch 75/100\n",
      "943/943 [==============================] - 5s 6ms/step - loss: 0.3379 - accuracy: 0.8405 - val_loss: 0.3393 - val_accuracy: 0.8424 - lr: 7.8125e-05\n",
      "Epoch 76/100\n",
      "943/943 [==============================] - 7s 7ms/step - loss: 0.3379 - accuracy: 0.8405 - val_loss: 0.3393 - val_accuracy: 0.8424 - lr: 7.8125e-05\n",
      "Epoch 77/100\n",
      "943/943 [==============================] - 7s 8ms/step - loss: 0.3379 - accuracy: 0.8406 - val_loss: 0.3393 - val_accuracy: 0.8424 - lr: 7.8125e-05\n",
      "Epoch 78/100\n",
      "943/943 [==============================] - 8s 8ms/step - loss: 0.3379 - accuracy: 0.8405 - val_loss: 0.3393 - val_accuracy: 0.8424 - lr: 7.8125e-05\n",
      "Epoch 79/100\n",
      "943/943 [==============================] - 6s 7ms/step - loss: 0.3379 - accuracy: 0.8405 - val_loss: 0.3393 - val_accuracy: 0.8425 - lr: 7.8125e-05\n",
      "Epoch 80/100\n",
      "943/943 [==============================] - 7s 8ms/step - loss: 0.3379 - accuracy: 0.8404 - val_loss: 0.3393 - val_accuracy: 0.8426 - lr: 3.9062e-05\n",
      "Epoch 81/100\n",
      "943/943 [==============================] - 6s 7ms/step - loss: 0.3379 - accuracy: 0.8404 - val_loss: 0.3393 - val_accuracy: 0.8426 - lr: 3.9062e-05\n",
      "Epoch 82/100\n",
      "943/943 [==============================] - 6s 7ms/step - loss: 0.3379 - accuracy: 0.8405 - val_loss: 0.3393 - val_accuracy: 0.8426 - lr: 3.9062e-05\n",
      "Epoch 83/100\n",
      "943/943 [==============================] - 6s 6ms/step - loss: 0.3379 - accuracy: 0.8404 - val_loss: 0.3393 - val_accuracy: 0.8426 - lr: 3.9062e-05\n",
      "Epoch 84/100\n",
      "943/943 [==============================] - 4s 4ms/step - loss: 0.3379 - accuracy: 0.8404 - val_loss: 0.3393 - val_accuracy: 0.8426 - lr: 3.9062e-05\n",
      "Epoch 85/100\n",
      "943/943 [==============================] - 5s 5ms/step - loss: 0.3379 - accuracy: 0.8404 - val_loss: 0.3393 - val_accuracy: 0.8426 - lr: 3.9062e-05\n",
      "Epoch 86/100\n",
      "943/943 [==============================] - 7s 7ms/step - loss: 0.3379 - accuracy: 0.8404 - val_loss: 0.3393 - val_accuracy: 0.8426 - lr: 3.9062e-05\n",
      "Epoch 87/100\n",
      "943/943 [==============================] - 5s 5ms/step - loss: 0.3379 - accuracy: 0.8405 - val_loss: 0.3393 - val_accuracy: 0.8426 - lr: 3.9062e-05\n",
      "Epoch 88/100\n",
      "943/943 [==============================] - 4s 4ms/step - loss: 0.3379 - accuracy: 0.8404 - val_loss: 0.3393 - val_accuracy: 0.8426 - lr: 3.9062e-05\n",
      "Epoch 89/100\n",
      "943/943 [==============================] - 5s 5ms/step - loss: 0.3378 - accuracy: 0.8405 - val_loss: 0.3393 - val_accuracy: 0.8426 - lr: 3.9062e-05\n",
      "Epoch 90/100\n",
      "943/943 [==============================] - 7s 7ms/step - loss: 0.3378 - accuracy: 0.8405 - val_loss: 0.3393 - val_accuracy: 0.8426 - lr: 1.9531e-05\n",
      "Epoch 91/100\n",
      "943/943 [==============================] - 6s 6ms/step - loss: 0.3378 - accuracy: 0.8404 - val_loss: 0.3393 - val_accuracy: 0.8426 - lr: 1.9531e-05\n",
      "Epoch 92/100\n",
      "943/943 [==============================] - 6s 7ms/step - loss: 0.3378 - accuracy: 0.8405 - val_loss: 0.3393 - val_accuracy: 0.8426 - lr: 1.9531e-05\n",
      "Epoch 93/100\n",
      "943/943 [==============================] - 7s 7ms/step - loss: 0.3378 - accuracy: 0.8405 - val_loss: 0.3393 - val_accuracy: 0.8426 - lr: 1.9531e-05\n",
      "Epoch 94/100\n",
      "943/943 [==============================] - 6s 7ms/step - loss: 0.3378 - accuracy: 0.8404 - val_loss: 0.3393 - val_accuracy: 0.8426 - lr: 1.9531e-05\n",
      "Epoch 95/100\n",
      "943/943 [==============================] - 6s 6ms/step - loss: 0.3378 - accuracy: 0.8404 - val_loss: 0.3393 - val_accuracy: 0.8426 - lr: 1.9531e-05\n",
      "Epoch 96/100\n",
      "943/943 [==============================] - 6s 7ms/step - loss: 0.3378 - accuracy: 0.8405 - val_loss: 0.3393 - val_accuracy: 0.8426 - lr: 1.9531e-05\n",
      "Epoch 97/100\n",
      "943/943 [==============================] - 6s 7ms/step - loss: 0.3378 - accuracy: 0.8404 - val_loss: 0.3393 - val_accuracy: 0.8426 - lr: 1.9531e-05\n",
      "Epoch 98/100\n",
      "943/943 [==============================] - 7s 7ms/step - loss: 0.3378 - accuracy: 0.8404 - val_loss: 0.3392 - val_accuracy: 0.8426 - lr: 1.9531e-05\n",
      "Epoch 99/100\n",
      "943/943 [==============================] - 6s 6ms/step - loss: 0.3378 - accuracy: 0.8404 - val_loss: 0.3392 - val_accuracy: 0.8426 - lr: 1.9531e-05\n",
      "Epoch 100/100\n",
      "943/943 [==============================] - 6s 7ms/step - loss: 0.3378 - accuracy: 0.8404 - val_loss: 0.3392 - val_accuracy: 0.8426 - lr: 9.7656e-06\n"
     ]
    },
    {
     "data": {
      "text/plain": [
       "<keras.callbacks.History at 0x1f2927a60d0>"
      ]
     },
     "execution_count": 9,
     "metadata": {},
     "output_type": "execute_result"
    }
   ],
   "execution_count": 9
  },
  {
   "cell_type": "code",
   "metadata": {
    "ExecuteTime": {
     "end_time": "2025-05-26T19:17:34.977196Z",
     "start_time": "2025-05-26T19:17:34.607197Z"
    }
   },
   "source": [
    "import matplotlib.pyplot as pl\n",
    "plt.plot(history_sgd.history['accuracy'], label = \"tarina\")\n",
    "plt.plot(history_sgd.history['val_accuracy'], label = \"test\")\n",
    "\n",
    "plt.plot(history_lr_1.history['accuracy'], label = \"tarina LR\")\n",
    "plt.plot(history_lr_1.history['val_accuracy'], label = \"test LR\")\n",
    "plt.legend()\n",
    "plt.show()"
   ],
   "outputs": [
    {
     "data": {
      "text/plain": [
       "<Figure size 640x480 with 1 Axes>"
      ],
      "image/png": "[encoded data removed]"
     },
     "metadata": {},
     "output_type": "display_data"
    }
   ],
   "execution_count": 10
  },
  {
   "cell_type": "code",
   "execution_count": null,
   "metadata": {},
   "outputs": [],
   "source": []
  },
  {
   "cell_type": "markdown",
   "metadata": {},
   "source": [
    "# Zad\n",
    "\n",
    "Wykonaj analogiczne zadanie dla \n",
    "* Adam bez LearningRateScheduler i learning_rate=0.001\n",
    "* Adam z użyciem LearningRateScheduler i learning_rate=0.001\n",
    "* Adam z użyciem LearningRateScheduler i learning_rate=0.0001\n",
    "\n",
    "Zwizualizuj wyniki:\n",
    "\n",
    "* porównaj krzywe uczenia"
   ]
  },
  {
   "cell_type": "markdown",
   "metadata": {},
   "source": [
    "# Adam"
   ]
  },
  {
   "cell_type": "code",
   "metadata": {
    "ExecuteTime": {
     "end_time": "2025-05-26T19:30:56.627551Z",
     "start_time": "2025-05-26T19:30:37.234199Z"
    }
   },
   "source": [
    "\n",
    "\n",
    "history_lr_001 = History()\n",
    "model_adam = Sequential()\n",
    "model_adam.add(Dense(100,activation=\"sigmoid\",input_shape=(X_train.shape[1],)))\n",
    "model_adam.add(Dense(50,activation=\"sigmoid\"))\n",
    "model_adam.add(Dense(10,activation=\"sigmoid\"))\n",
    "model_adam.add(Dense(1,activation=\"sigmoid\"))\n",
    "model_adam.summary()\n",
    "\n",
    "adam = tf.keras.optimizers.Adam(lr=0.01, decay=1e-6)\n",
    "model_adam.compile(loss=\"binary_crossentropy\",optimizer=adam, metrics=[\"accuracy\"])\n",
    "\n",
    "\n",
    "model_adam.fit(X_train, y_train, validation_data= (X_test, y_test), batch_size=32,epochs=10, callbacks=[history_lr_001])\n"
   ],
   "outputs": [
    {
     "name": "stdout",
     "output_type": "stream",
     "text": [
      "Model: \"sequential_4\"\n",
      "_________________________________________________________________\n",
      " Layer (type)                Output Shape              Param #   \n",
      "=================================================================\n",
      " dense_16 (Dense)            (None, 100)               4200      \n",
      "                                                                 \n",
      " dense_17 (Dense)            (None, 50)                5050      \n",
      "                                                                 \n",
      " dense_18 (Dense)            (None, 10)                510       \n",
      "                                                                 \n",
      " dense_19 (Dense)            (None, 1)                 11        \n",
      "                                                                 \n",
      "=================================================================\n",
      "Total params: 9,771\n",
      "Trainable params: 9,771\n",
      "Non-trainable params: 0\n",
      "_________________________________________________________________\n",
      "Epoch 1/10\n"
     ]
    },
    {
     "name": "stderr",
     "output_type": "stream",
     "text": [
      "D:\\Anaconda\\envs\\experiments\\lib\\site-packages\\keras\\optimizers\\optimizer_v2\\adam.py:114: UserWarning: The `lr` argument is deprecated, use `learning_rate` instead.\n",
      "  super().__init__(name, **kwargs)\n"
     ]
    },
    {
     "name": "stdout",
     "output_type": "stream",
     "text": [
      "943/943 [==============================] - 3s 2ms/step - loss: 0.3463 - accuracy: 0.8406 - val_loss: 0.3326 - val_accuracy: 0.8432\n",
      "Epoch 2/10\n",
      "943/943 [==============================] - 2s 2ms/step - loss: 0.3275 - accuracy: 0.8465 - val_loss: 0.3251 - val_accuracy: 0.8477\n",
      "Epoch 3/10\n",
      "943/943 [==============================] - 2s 2ms/step - loss: 0.3209 - accuracy: 0.8514 - val_loss: 0.3345 - val_accuracy: 0.8452\n",
      "Epoch 4/10\n",
      "943/943 [==============================] - 2s 2ms/step - loss: 0.3155 - accuracy: 0.8537 - val_loss: 0.3240 - val_accuracy: 0.8478\n",
      "Epoch 5/10\n",
      "943/943 [==============================] - 2s 2ms/step - loss: 0.3120 - accuracy: 0.8549 - val_loss: 0.3256 - val_accuracy: 0.8499\n",
      "Epoch 6/10\n",
      "943/943 [==============================] - 2s 2ms/step - loss: 0.3074 - accuracy: 0.8567 - val_loss: 0.3188 - val_accuracy: 0.8514\n",
      "Epoch 7/10\n",
      "943/943 [==============================] - 2s 2ms/step - loss: 0.3054 - accuracy: 0.8577 - val_loss: 0.3205 - val_accuracy: 0.8525\n",
      "Epoch 8/10\n",
      "943/943 [==============================] - 2s 2ms/step - loss: 0.3024 - accuracy: 0.8599 - val_loss: 0.3205 - val_accuracy: 0.8496\n",
      "Epoch 9/10\n",
      "943/943 [==============================] - 2s 2ms/step - loss: 0.2988 - accuracy: 0.8598 - val_loss: 0.3199 - val_accuracy: 0.8510\n",
      "Epoch 10/10\n",
      "943/943 [==============================] - 2s 2ms/step - loss: 0.2971 - accuracy: 0.8610 - val_loss: 0.3207 - val_accuracy: 0.8473\n"
     ]
    },
    {
     "data": {
      "text/plain": [
       "<keras.callbacks.History at 0x1f29240ee20>"
      ]
     },
     "execution_count": 13,
     "metadata": {},
     "output_type": "execute_result"
    }
   ],
   "execution_count": 13
  },
  {
   "cell_type": "code",
   "metadata": {
    "ExecuteTime": {
     "end_time": "2025-05-26T19:32:24.959732Z",
     "start_time": "2025-05-26T19:32:06.019048Z"
    }
   },
   "source": [
    "def step_decay(epoch):\n",
    "    initial_lrate = 0.001\n",
    "    drop = 0.5\n",
    "    epochs_drop = 10.0\n",
    "    lrate = initial_lrate * np.power(drop, np.floor((1+epoch)/epochs_drop))\n",
    "    return lrate\n",
    "\n",
    "history_lrs_001 = History()\n",
    "model_lrs_001 = Sequential()\n",
    "model_lrs_001.add(Dense(100,activation=\"sigmoid\",input_shape=(X_train.shape[1],)))\n",
    "model_lrs_001.add(Dense(50,activation=\"sigmoid\"))\n",
    "model_lrs_001.add(Dense(10,activation=\"sigmoid\"))\n",
    "model_lrs_001.add(Dense(1,activation=\"sigmoid\"))\n",
    "model_lrs_001.summary()\n",
    "\n",
    "# sgd = keras.optimizers.SGD(lr=0.01, decay=1e-6, momentum=0.9, nesterov=True)\n",
    "model_lrs_001.compile(loss=\"binary_crossentropy\",optimizer=\"adam\", metrics=[\"accuracy\"])\n",
    "\n",
    "lrate = LearningRateScheduler(step_decay)\n",
    "model_lrs_001.fit(X_train, y_train, validation_data= (X_test, y_test), batch_size=32,epochs=10, callbacks=[lrate, history_lrs_001])\n"
   ],
   "outputs": [
    {
     "name": "stdout",
     "output_type": "stream",
     "text": [
      "Model: \"sequential_6\"\n",
      "_________________________________________________________________\n",
      " Layer (type)                Output Shape              Param #   \n",
      "=================================================================\n",
      " dense_24 (Dense)            (None, 100)               4200      \n",
      "                                                                 \n",
      " dense_25 (Dense)            (None, 50)                5050      \n",
      "                                                                 \n",
      " dense_26 (Dense)            (None, 10)                510       \n",
      "                                                                 \n",
      " dense_27 (Dense)            (None, 1)                 11        \n",
      "                                                                 \n",
      "=================================================================\n",
      "Total params: 9,771\n",
      "Trainable params: 9,771\n",
      "Non-trainable params: 0\n",
      "_________________________________________________________________\n",
      "Epoch 1/10\n",
      "943/943 [==============================] - 3s 2ms/step - loss: 0.3785 - accuracy: 0.8259 - val_loss: 0.3405 - val_accuracy: 0.8421 - lr: 0.0010\n",
      "Epoch 2/10\n",
      "943/943 [==============================] - 2s 2ms/step - loss: 0.3362 - accuracy: 0.8437 - val_loss: 0.3334 - val_accuracy: 0.8458 - lr: 0.0010\n",
      "Epoch 3/10\n",
      "943/943 [==============================] - 2s 2ms/step - loss: 0.3295 - accuracy: 0.8470 - val_loss: 0.3285 - val_accuracy: 0.8456 - lr: 0.0010\n",
      "Epoch 4/10\n",
      "943/943 [==============================] - 2s 2ms/step - loss: 0.3253 - accuracy: 0.8487 - val_loss: 0.3258 - val_accuracy: 0.8475 - lr: 0.0010\n",
      "Epoch 5/10\n",
      "943/943 [==============================] - 2s 2ms/step - loss: 0.3231 - accuracy: 0.8477 - val_loss: 0.3235 - val_accuracy: 0.8477 - lr: 0.0010\n",
      "Epoch 6/10\n",
      "943/943 [==============================] - 2s 2ms/step - loss: 0.3207 - accuracy: 0.8510 - val_loss: 0.3265 - val_accuracy: 0.8479 - lr: 0.0010\n",
      "Epoch 7/10\n",
      "943/943 [==============================] - 2s 2ms/step - loss: 0.3196 - accuracy: 0.8512 - val_loss: 0.3218 - val_accuracy: 0.8503 - lr: 0.0010\n",
      "Epoch 8/10\n",
      "943/943 [==============================] - 2s 2ms/step - loss: 0.3180 - accuracy: 0.8510 - val_loss: 0.3212 - val_accuracy: 0.8491 - lr: 0.0010\n",
      "Epoch 9/10\n",
      "943/943 [==============================] - 2s 2ms/step - loss: 0.3166 - accuracy: 0.8522 - val_loss: 0.3206 - val_accuracy: 0.8493 - lr: 0.0010\n",
      "Epoch 10/10\n",
      "943/943 [==============================] - 2s 2ms/step - loss: 0.3135 - accuracy: 0.8524 - val_loss: 0.3195 - val_accuracy: 0.8512 - lr: 5.0000e-04\n"
     ]
    },
    {
     "data": {
      "text/plain": [
       "<keras.callbacks.History at 0x1f292421f70>"
      ]
     },
     "execution_count": 15,
     "metadata": {},
     "output_type": "execute_result"
    }
   ],
   "execution_count": 15
  },
  {
   "cell_type": "code",
   "metadata": {
    "ExecuteTime": {
     "end_time": "2025-05-26T19:33:28.623001Z",
     "start_time": "2025-05-26T19:33:10.433525Z"
    }
   },
   "source": [
    "def step_decay(epoch):\n",
    "    initial_lrate = 0.0001\n",
    "    drop = 0.5\n",
    "    epochs_drop = 10.0\n",
    "    lrate = initial_lrate * np.power(drop, np.floor((1+epoch)/epochs_drop))\n",
    "    return lrate\n",
    "\n",
    "history_lrs_0001 = History()\n",
    "model_lrs_0001 = Sequential()\n",
    "model_lrs_0001.add(Dense(100,activation=\"sigmoid\",input_shape=(X_train.shape[1],)))\n",
    "model_lrs_0001.add(Dense(50,activation=\"sigmoid\"))\n",
    "model_lrs_0001.add(Dense(10,activation=\"sigmoid\"))\n",
    "model_lrs_0001.add(Dense(1,activation=\"sigmoid\"))\n",
    "model_lrs_0001.summary()\n",
    "\n",
    "# sgd = keras.optimizers.SGD(lr=0.01, decay=1e-6, momentum=0.9, nesterov=True)\n",
    "model_lrs_0001.compile(loss=\"binary_crossentropy\",optimizer=\"adam\", metrics=[\"accuracy\"])\n",
    "\n",
    "lrate = LearningRateScheduler(step_decay)\n",
    "model_lrs_0001.fit(X_train, y_train, validation_data= (X_test, y_test), batch_size=32,epochs=10, callbacks=[lrate, history_lrs_0001])\n"
   ],
   "outputs": [
    {
     "name": "stdout",
     "output_type": "stream",
     "text": [
      "Model: \"sequential_7\"\n",
      "_________________________________________________________________\n",
      " Layer (type)                Output Shape              Param #   \n",
      "=================================================================\n",
      " dense_28 (Dense)            (None, 100)               4200      \n",
      "                                                                 \n",
      " dense_29 (Dense)            (None, 50)                5050      \n",
      "                                                                 \n",
      " dense_30 (Dense)            (None, 10)                510       \n",
      "                                                                 \n",
      " dense_31 (Dense)            (None, 1)                 11        \n",
      "                                                                 \n",
      "=================================================================\n",
      "Total params: 9,771\n",
      "Trainable params: 9,771\n",
      "Non-trainable params: 0\n",
      "_________________________________________________________________\n",
      "Epoch 1/10\n",
      "943/943 [==============================] - 3s 2ms/step - loss: 0.5348 - accuracy: 0.7511 - val_loss: 0.4729 - val_accuracy: 0.7543 - lr: 1.0000e-04\n",
      "Epoch 2/10\n",
      "943/943 [==============================] - 2s 2ms/step - loss: 0.4213 - accuracy: 0.8029 - val_loss: 0.3877 - val_accuracy: 0.8327 - lr: 1.0000e-04\n",
      "Epoch 3/10\n",
      "943/943 [==============================] - 2s 2ms/step - loss: 0.3761 - accuracy: 0.8341 - val_loss: 0.3670 - val_accuracy: 0.8373 - lr: 1.0000e-04\n",
      "Epoch 4/10\n",
      "943/943 [==============================] - 2s 2ms/step - loss: 0.3622 - accuracy: 0.8361 - val_loss: 0.3586 - val_accuracy: 0.8353 - lr: 1.0000e-04\n",
      "Epoch 5/10\n",
      "943/943 [==============================] - 2s 2ms/step - loss: 0.3548 - accuracy: 0.8374 - val_loss: 0.3533 - val_accuracy: 0.8390 - lr: 1.0000e-04\n",
      "Epoch 6/10\n",
      "943/943 [==============================] - 2s 2ms/step - loss: 0.3500 - accuracy: 0.8396 - val_loss: 0.3496 - val_accuracy: 0.8386 - lr: 1.0000e-04\n",
      "Epoch 7/10\n",
      "943/943 [==============================] - 2s 2ms/step - loss: 0.3463 - accuracy: 0.8408 - val_loss: 0.3464 - val_accuracy: 0.8412 - lr: 1.0000e-04\n",
      "Epoch 8/10\n",
      "943/943 [==============================] - 2s 2ms/step - loss: 0.3434 - accuracy: 0.8428 - val_loss: 0.3442 - val_accuracy: 0.8413 - lr: 1.0000e-04\n",
      "Epoch 9/10\n",
      "943/943 [==============================] - 2s 2ms/step - loss: 0.3407 - accuracy: 0.8430 - val_loss: 0.3421 - val_accuracy: 0.8447 - lr: 1.0000e-04\n",
      "Epoch 10/10\n",
      "943/943 [==============================] - 2s 2ms/step - loss: 0.3390 - accuracy: 0.8436 - val_loss: 0.3410 - val_accuracy: 0.8443 - lr: 5.0000e-05\n"
     ]
    },
    {
     "data": {
      "text/plain": [
       "<keras.callbacks.History at 0x1f292520be0>"
      ]
     },
     "execution_count": 16,
     "metadata": {},
     "output_type": "execute_result"
    }
   ],
   "execution_count": 16
  },
  {
   "cell_type": "code",
   "metadata": {
    "ExecuteTime": {
     "end_time": "2025-05-26T19:33:28.853001Z",
     "start_time": "2025-05-26T19:33:28.711001Z"
    }
   },
   "source": [
    "plt.plot(history_lrs_0001.history['accuracy'],label = '0001 lrs train')\n",
    "plt.plot(history_lrs_0001.history['val_accuracy'],label = '0001 lrs test')\n",
    "plt.plot(history_lrs_001.history['accuracy'],label = '001 lrs train')\n",
    "plt.plot(history_lrs_001.history['val_accuracy'],label = '001 lrs test')\n",
    "plt.plot(history_lr_001.history['accuracy'],label = '001 lrs train')\n",
    "plt.plot(history_lr_001.history['val_accuracy'],label = '001 lrs test')\n",
    "plt.legend()\n",
    "plt.show()"
   ],
   "outputs": [
    {
     "data": {
      "text/plain": [
       "<Figure size 640x480 with 1 Axes>"
      ],
      "image/png": "[encoded data removed]"
     },
     "metadata": {},
     "output_type": "display_data"
    }
   ],
   "execution_count": 17
  },
  {
   "metadata": {},
   "cell_type": "code",
   "outputs": [],
   "execution_count": null,
   "source": ""
  }
 ],
 "metadata": {
  "kernelspec": {
   "display_name": "Python 3 (ipykernel)",
   "language": "python",
   "name": "python3"
  },
  "language_info": {
   "codemirror_mode": {
    "name": "ipython",
    "version": 3
   },
   "file_extension": ".py",
   "mimetype": "text/x-python",
   "name": "python",
   "nbconvert_exporter": "python",
   "pygments_lexer": "ipython3",
   "version": "3.8.10"
  }
 },
 "nbformat": 4,
 "nbformat_minor": 4
}
