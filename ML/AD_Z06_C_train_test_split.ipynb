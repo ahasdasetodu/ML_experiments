{
 "cells": [
  {
   "cell_type": "markdown",
   "metadata": {},
   "source": [
    "# Train test split\n"
   ]
  },
  {
   "cell_type": "code",
   "metadata": {
    "ExecuteTime": {
     "end_time": "2025-04-12T12:30:03.316198Z",
     "start_time": "2025-04-12T12:30:03.301953Z"
    }
   },
   "source": [
    "import numpy as np\n",
    "import pandas as pd\n",
    "import scipy.stats as stats\n",
    "import sklearn.linear_model as lm\n",
    "from sklearn import datasets, linear_model\n",
    "import matplotlib.pyplot as plt\n",
    "\n",
    "from sklearn.preprocessing import PolynomialFeatures\n",
    "from sklearn.pipeline import make_pipeline\n",
    "\n",
    "from sklearn import  metrics"
   ],
   "outputs": [],
   "execution_count": 2
  },
  {
   "cell_type": "markdown",
   "metadata": {},
   "source": [
    "Rozważmy następujący zbiór punktów:"
   ]
  },
  {
   "cell_type": "code",
   "metadata": {
    "ExecuteTime": {
     "end_time": "2025-04-12T12:30:19.933793Z",
     "start_time": "2025-04-12T12:30:19.786880Z"
    }
   },
   "source": [
    "x = stats.uniform(0,3).rvs(100)\n",
    "f = lambda x: ((x*2-1)*(x**2-2)*(x-2)+3)\n",
    "y = f(x) + stats.norm(0,1).rvs(len(x))\n",
    "plt.plot(x, y, 'ok', ms=10);\n",
    "plt.show()"
   ],
   "outputs": [
    {
     "data": {
      "text/plain": [
       "<Figure size 640x480 with 1 Axes>"
      ],
      "image/png": "[encoded data removed]"
     },
     "metadata": {},
     "output_type": "display_data"
    }
   ],
   "execution_count": 5
  },
  {
   "cell_type": "markdown",
   "metadata": {},
   "source": [
    "# Przykład\n",
    "Podziel zbiór danych na część testową i treningową. \n",
    "Naucz model na części treningowej i ocen wyniki na części testowej."
   ]
  },
  {
   "cell_type": "code",
   "execution_count": 15,
   "metadata": {},
   "outputs": [
    {
     "name": "stdout",
     "output_type": "stream",
     "text": [
      "(60,) (60,)\n",
      "(40,) (40,)\n"
     ]
    }
   ],
   "source": [
    "from sklearn.model_selection import train_test_split\n",
    "X_train, X_test, y_train, y_test = train_test_split(x, y, test_size=0.4, random_state=0)\n",
    "\n",
    "print(X_train.shape, y_train.shape)\n",
    "print(X_test.shape, y_test.shape)"
   ]
  },
  {
   "cell_type": "code",
   "execution_count": 16,
   "metadata": {},
   "outputs": [],
   "source": [
    "X_train=np.vstack(X_train)\n",
    "X_test=np.vstack(X_test)"
   ]
  },
  {
   "cell_type": "code",
   "execution_count": 17,
   "metadata": {},
   "outputs": [
    {
     "data": {
      "text/plain": [
       "array([ 2.49547154,  2.41878227,  3.22868969,  2.41244371,  2.41284369,\n",
       "        2.41244371,  2.4124438 ,  2.41244385,  2.41501631, 15.022214  ,\n",
       "        2.41244373,  2.41244371, 19.66240556,  2.41244371,  4.51817666,\n",
       "        2.41244371,  2.41244371,  2.41244371,  2.41244371,  2.41244371,\n",
       "        2.4127554 ,  2.41962346,  8.48451806,  4.70933243,  2.41244371,\n",
       "        2.41244371,  2.41244371,  2.41244371,  2.41244542,  2.41244371,\n",
       "        2.41244371,  2.41244371,  2.41248023,  2.44507471,  2.96489072,\n",
       "        2.41244371,  2.41244421,  2.43089648,  2.41244371,  2.52678449])"
      ]
     },
     "execution_count": 17,
     "metadata": {},
     "output_type": "execute_result"
    }
   ],
   "source": [
    "model2 = make_pipeline(PolynomialFeatures(50), linear_model.LinearRegression())\n",
    "model2.fit(X_train, y_train)\n",
    "model2.predict(X_test)"
   ]
  },
  {
   "cell_type": "code",
   "execution_count": 18,
   "metadata": {},
   "outputs": [
    {
     "name": "stdout",
     "output_type": "stream",
     "text": [
      "Explained variance score: 0.8501653104057787\n",
      "Explained variance score: 0.8501653104057787\n",
      "Median absolute error: 1.0367610055579937\n",
      "Mean squared error: 2.3321880798378176\n",
      "Mean absolute errors: 1.2324256139795728\n"
     ]
    }
   ],
   "source": [
    "print(\"Explained variance score: {}\".format( metrics.explained_variance_score(y_test, model2.predict(X_test)) ))\n",
    "print(\"Explained variance score: {}\".format( metrics.explained_variance_score(y_test, model2.predict(X_test)) ))\n",
    "print(\"Median absolute error: {}\".format( metrics.median_absolute_error(y_test, model2.predict(X_test)) ))\n",
    "print(\"Mean squared error: {}\".format( metrics.mean_squared_error(y_test, model2.predict(X_test)) ))\n",
    "print(\"Mean absolute errors: {}\".format(metrics.mean_absolute_error(y_test, model2.predict(X_test)) ))"
   ]
  },
  {
   "cell_type": "markdown",
   "metadata": {},
   "source": [
    "# Zadanie\n",
    "Wylicz powyższe miary dla wszytkich modeli:\n",
    "\n",
    "- regrsji linowej\n",
    "- regrsji wielomianowej stopnia 2\n",
    "- regrsji wielomianowej stopnia 3\n",
    "- regrsji wielomianowej stopnia 4\n",
    "- regrsji wielomianowej stopnia 5\n",
    "- regrsji wielomianowej stopnia 25"
   ]
  },
  {
   "cell_type": "code",
   "execution_count": null,
   "metadata": {
    "collapsed": true,
    "jupyter": {
     "outputs_hidden": true
    }
   },
   "outputs": [],
   "source": []
  }
 ],
 "metadata": {
  "kernelspec": {
   "display_name": "Python 3 (ipykernel)",
   "language": "python",
   "name": "python3"
  },
  "language_info": {
   "codemirror_mode": {
    "name": "ipython",
    "version": 3
   },
   "file_extension": ".py",
   "mimetype": "text/x-python",
   "name": "python",
   "nbconvert_exporter": "python",
   "pygments_lexer": "ipython3",
   "version": "3.10.13"
  }
 },
 "nbformat": 4,
 "nbformat_minor": 4
}
